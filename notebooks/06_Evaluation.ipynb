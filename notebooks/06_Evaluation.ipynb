{
 "cells": [
  {
   "cell_type": "markdown",
   "id": "cfc86852",
   "metadata": {},
   "source": [
    "# 06 - System Evaluation\n",
    "\n",
    "This notebook evaluates the RAG QA and Recommendation systems.\n",
    "It performs sanity checks and basic performance testing.\n",
    "\n",
    "## Overview\n",
    "- Test RAG engine with sample questions\n",
    "- Test recommendation system with sample queries\n",
    "- Evaluate response quality and relevance\n",
    "- Performance metrics and insights\n"
   ]
  },
  {
   "cell_type": "code",
   "execution_count": null,
   "id": "243ef4e3",
   "metadata": {},
   "outputs": [],
   "source": [
    "import sys\n",
    "import os\n",
    "sys.path.append('../src')\n",
    "\n",
    "import pandas as pd\n",
    "import numpy as np\n",
    "import time\n",
    "import requests\n",
    "from typing import List, Dict, Any\n",
    "import matplotlib.pyplot as plt\n",
    "import seaborn as sns\n",
    "\n",
    "# Import our modules\n",
    "from rag_engine import RAGEngine\n",
    "from recommender import ProductRecommender\n",
    "from data_loader import DataLoader\n"
   ]
  },
  {
   "cell_type": "code",
   "execution_count": null,
   "id": "47941342",
   "metadata": {},
   "outputs": [],
   "source": [
    "# Load the systems\n",
    "print(\"Loading RAG engine and recommender...\")\n",
    "\n",
    "# Load RAG engine\n",
    "rag_engine = RAGEngine(embeddings_path=\"../data/embeddings/\")\n",
    "\n",
    "# Load recommender\n",
    "recommender = ProductRecommender(embeddings_path=\"../data/embeddings/\")\n",
    "\n",
    "print(\"✅ Systems loaded successfully!\")\n"
   ]
  }
 ],
 "metadata": {
  "language_info": {
   "name": "python"
  }
 },
 "nbformat": 4,
 "nbformat_minor": 5
}
