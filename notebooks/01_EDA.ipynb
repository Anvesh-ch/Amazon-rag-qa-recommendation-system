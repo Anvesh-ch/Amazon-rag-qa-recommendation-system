{
 "cells": [
  {
   "cell_type": "markdown",
   "id": "6e6d2587",
   "metadata": {},
   "source": [
    "# 01 - Exploratory Data Analysis (EDA)\n",
    "\n",
    "This notebook provides a quick exploration of the Amazon reviews dataset after preprocessing.\n",
    "It focuses on the EDA sample (20k rows) for fast analysis.\n",
    "\n",
    "## Overview\n",
    "- Load and examine the EDA sample\n",
    "- Basic statistics and distributions\n",
    "- Text analysis and insights\n",
    "- Data quality assessment\n"
   ]
  },
  {
   "cell_type": "code",
   "execution_count": null,
   "id": "d4b27607",
   "metadata": {},
   "outputs": [],
   "source": [
    "import pandas as pd\n",
    "import numpy as np\n",
    "import matplotlib.pyplot as plt\n",
    "import seaborn as sns\n",
    "import plotly.express as px\n",
    "import plotly.graph_objects as go\n",
    "from wordcloud import WordCloud\n",
    "from collections import Counter\n",
    "import warnings\n",
    "warnings.filterwarnings('ignore')\n",
    "\n",
    "# Set style\n",
    "plt.style.use('seaborn-v0_8')\n",
    "sns.set_palette(\"husl\")\n"
   ]
  },
  {
   "cell_type": "code",
   "execution_count": null,
   "id": "05daf7f9",
   "metadata": {},
   "outputs": [],
   "source": [
    "# Load the EDA sample\n",
    "df = pd.read_parquet('../data/exports/eda_sample.parquet')\n",
    "\n",
    "print(f\"Dataset shape: {df.shape}\")\n",
    "print(f\"Columns: {list(df.columns)}\")\n",
    "df.head()\n"
   ]
  },
  {
   "cell_type": "code",
   "execution_count": 23,
   "id": "cfe8315d",
   "metadata": {},
   "outputs": [
    {
     "name": "stdout",
     "output_type": "stream",
     "text": [
      "[JAVA CONFIGURED] JAVA_HOME set to: /opt/homebrew/Cellar/openjdk@17/17.0.16/libexec/openjdk.jdk/Contents/Home\n"
     ]
    }
   ],
   "source": [
    "import os\n",
    "import subprocess\n",
    "\n",
    "java_home = subprocess.check_output(\n",
    "    \"/usr/libexec/java_home -v 17\", shell=True, text=True\n",
    ").strip()\n",
    "os.environ[\"JAVA_HOME\"] = java_home\n",
    "os.environ[\"PATH\"] = f\"{java_home}/bin:\" + os.environ[\"PATH\"]\n",
    "print(\"[JAVA CONFIGURED] JAVA_HOME set to:\", os.environ[\"JAVA_HOME\"])\n"
   ]
  },
  {
   "cell_type": "code",
   "execution_count": 27,
   "id": "f62b7075",
   "metadata": {},
   "outputs": [
    {
     "name": "stdout",
     "output_type": "stream",
     "text": [
      "Stratified sampling: ../data/raw/Lawn_and_Garden_v1_00/amazon_us_reviews-train-00002-of-00003.parquet\n"
     ]
    },
    {
     "name": "stderr",
     "output_type": "stream",
     "text": [
      "25/07/26 04:57:35 WARN MemoryManager: Total allocation exceeds 95.00% (1,020,054,720 bytes) of heap memory\n",
      "Scaling row group sizes to 95.00% for 8 writers\n",
      "25/07/26 04:57:35 WARN MemoryManager: Total allocation exceeds 95.00% (1,020,054,720 bytes) of heap memory\n",
      "Scaling row group sizes to 95.00% for 8 writers\n",
      "25/07/26 04:57:35 WARN MemoryManager: Total allocation exceeds 95.00% (1,020,054,720 bytes) of heap memory\n",
      "Scaling row group sizes to 95.00% for 8 writers\n",
      "25/07/26 04:57:35 WARN MemoryManager: Total allocation exceeds 95.00% (1,020,054,720 bytes) of heap memory\n",
      "Scaling row group sizes to 95.00% for 8 writers\n",
      "25/07/26 04:57:35 WARN MemoryManager: Total allocation exceeds 95.00% (1,020,054,720 bytes) of heap memory\n",
      "Scaling row group sizes to 95.00% for 8 writers\n",
      "                                                                                \r"
     ]
    },
    {
     "name": "stdout",
     "output_type": "stream",
     "text": [
      "Saved stratified sample: ../data/sample/Lawn_and_Garden_v1_00/amazon_us_reviews-train-00002-of-00003.parquet\n",
      "Stratified sampling: ../data/raw/Lawn_and_Garden_v1_00/amazon_us_reviews-train-00001-of-00003.parquet\n"
     ]
    },
    {
     "name": "stderr",
     "output_type": "stream",
     "text": [
      "25/07/26 04:57:36 WARN MemoryManager: Total allocation exceeds 95.00% (1,020,054,720 bytes) of heap memory\n",
      "Scaling row group sizes to 95.00% for 8 writers\n",
      "25/07/26 04:57:37 WARN MemoryManager: Total allocation exceeds 95.00% (1,020,054,720 bytes) of heap memory\n",
      "Scaling row group sizes to 95.00% for 8 writers\n",
      "25/07/26 04:57:37 WARN MemoryManager: Total allocation exceeds 95.00% (1,020,054,720 bytes) of heap memory\n",
      "Scaling row group sizes to 95.00% for 8 writers\n",
      "25/07/26 04:57:37 WARN MemoryManager: Total allocation exceeds 95.00% (1,020,054,720 bytes) of heap memory\n",
      "Scaling row group sizes to 95.00% for 8 writers\n",
      "25/07/26 04:57:38 WARN MemoryManager: Total allocation exceeds 95.00% (1,020,054,720 bytes) of heap memory\n",
      "Scaling row group sizes to 95.00% for 8 writers\n",
      "                                                                                \r"
     ]
    },
    {
     "name": "stdout",
     "output_type": "stream",
     "text": [
      "Saved stratified sample: ../data/sample/Lawn_and_Garden_v1_00/amazon_us_reviews-train-00001-of-00003.parquet\n",
      "Stratified sampling: ../data/raw/Lawn_and_Garden_v1_00/amazon_us_reviews-train-00000-of-00003.parquet\n"
     ]
    },
    {
     "name": "stderr",
     "output_type": "stream",
     "text": [
      "25/07/26 04:57:39 WARN MemoryManager: Total allocation exceeds 95.00% (1,020,054,720 bytes) of heap memory\n",
      "Scaling row group sizes to 95.00% for 8 writers\n",
      "25/07/26 04:57:39 WARN MemoryManager: Total allocation exceeds 95.00% (1,020,054,720 bytes) of heap memory\n",
      "Scaling row group sizes to 95.00% for 8 writers\n",
      "25/07/26 04:57:39 WARN MemoryManager: Total allocation exceeds 95.00% (1,020,054,720 bytes) of heap memory\n",
      "Scaling row group sizes to 95.00% for 8 writers\n",
      "25/07/26 04:57:40 WARN MemoryManager: Total allocation exceeds 95.00% (1,020,054,720 bytes) of heap memory\n",
      "Scaling row group sizes to 95.00% for 8 writers\n",
      "25/07/26 04:57:40 WARN MemoryManager: Total allocation exceeds 95.00% (1,020,054,720 bytes) of heap memory\n",
      "Scaling row group sizes to 95.00% for 8 writers\n",
      "                                                                                \r"
     ]
    },
    {
     "name": "stdout",
     "output_type": "stream",
     "text": [
      "Saved stratified sample: ../data/sample/Lawn_and_Garden_v1_00/amazon_us_reviews-train-00000-of-00003.parquet\n",
      "Stratified sampling: ../data/raw/Music_v1_00/amazon_us_reviews-train-00006-of-00008.parquet\n"
     ]
    },
    {
     "name": "stderr",
     "output_type": "stream",
     "text": [
      "25/07/26 04:57:41 WARN MemoryManager: Total allocation exceeds 95.00% (1,020,054,720 bytes) of heap memory\n",
      "Scaling row group sizes to 95.00% for 8 writers\n",
      "25/07/26 04:57:41 WARN MemoryManager: Total allocation exceeds 95.00% (1,020,054,720 bytes) of heap memory\n",
      "Scaling row group sizes to 95.00% for 8 writers\n",
      "25/07/26 04:57:41 WARN MemoryManager: Total allocation exceeds 95.00% (1,020,054,720 bytes) of heap memory\n",
      "Scaling row group sizes to 95.00% for 8 writers\n",
      "                                                                                \r"
     ]
    },
    {
     "name": "stdout",
     "output_type": "stream",
     "text": [
      "Saved stratified sample: ../data/sample/Music_v1_00/amazon_us_reviews-train-00006-of-00008.parquet\n",
      "Stratified sampling: ../data/raw/Music_v1_00/amazon_us_reviews-train-00002-of-00008.parquet\n"
     ]
    },
    {
     "name": "stderr",
     "output_type": "stream",
     "text": [
      "25/07/26 04:57:43 WARN MemoryManager: Total allocation exceeds 95.00% (1,020,054,720 bytes) of heap memory\n",
      "Scaling row group sizes to 95.00% for 8 writers\n",
      "25/07/26 04:57:43 WARN MemoryManager: Total allocation exceeds 95.00% (1,020,054,720 bytes) of heap memory\n",
      "Scaling row group sizes to 95.00% for 8 writers\n",
      "25/07/26 04:57:43 WARN MemoryManager: Total allocation exceeds 95.00% (1,020,054,720 bytes) of heap memory\n",
      "Scaling row group sizes to 95.00% for 8 writers\n",
      "25/07/26 04:57:43 WARN MemoryManager: Total allocation exceeds 95.00% (1,020,054,720 bytes) of heap memory\n",
      "Scaling row group sizes to 95.00% for 8 writers\n",
      "                                                                                \r"
     ]
    },
    {
     "name": "stdout",
     "output_type": "stream",
     "text": [
      "Saved stratified sample: ../data/sample/Music_v1_00/amazon_us_reviews-train-00002-of-00008.parquet\n",
      "Stratified sampling: ../data/raw/Music_v1_00/amazon_us_reviews-train-00007-of-00008.parquet\n"
     ]
    },
    {
     "name": "stderr",
     "output_type": "stream",
     "text": [
      "25/07/26 04:57:44 WARN MemoryManager: Total allocation exceeds 95.00% (1,020,054,720 bytes) of heap memory\n",
      "Scaling row group sizes to 95.00% for 8 writers\n",
      "25/07/26 04:57:45 WARN MemoryManager: Total allocation exceeds 95.00% (1,020,054,720 bytes) of heap memory\n",
      "Scaling row group sizes to 95.00% for 8 writers\n",
      "25/07/26 04:57:45 WARN MemoryManager: Total allocation exceeds 95.00% (1,020,054,720 bytes) of heap memory\n",
      "Scaling row group sizes to 95.00% for 8 writers\n",
      "                                                                                \r"
     ]
    },
    {
     "name": "stdout",
     "output_type": "stream",
     "text": [
      "Saved stratified sample: ../data/sample/Music_v1_00/amazon_us_reviews-train-00007-of-00008.parquet\n",
      "Stratified sampling: ../data/raw/Music_v1_00/amazon_us_reviews-train-00003-of-00008.parquet\n"
     ]
    },
    {
     "name": "stderr",
     "output_type": "stream",
     "text": [
      "25/07/26 04:57:46 WARN MemoryManager: Total allocation exceeds 95.00% (1,020,054,720 bytes) of heap memory\n",
      "Scaling row group sizes to 95.00% for 8 writers\n",
      "25/07/26 04:57:47 WARN MemoryManager: Total allocation exceeds 95.00% (1,020,054,720 bytes) of heap memory\n",
      "Scaling row group sizes to 95.00% for 8 writers\n",
      "25/07/26 04:57:47 WARN MemoryManager: Total allocation exceeds 95.00% (1,020,054,720 bytes) of heap memory\n",
      "Scaling row group sizes to 95.00% for 8 writers\n",
      "25/07/26 04:57:47 WARN MemoryManager: Total allocation exceeds 95.00% (1,020,054,720 bytes) of heap memory\n",
      "Scaling row group sizes to 95.00% for 8 writers\n",
      "                                                                                \r"
     ]
    },
    {
     "name": "stdout",
     "output_type": "stream",
     "text": [
      "Saved stratified sample: ../data/sample/Music_v1_00/amazon_us_reviews-train-00003-of-00008.parquet\n",
      "Stratified sampling: ../data/raw/Music_v1_00/amazon_us_reviews-train-00004-of-00008.parquet\n"
     ]
    },
    {
     "name": "stderr",
     "output_type": "stream",
     "text": [
      "25/07/26 04:57:48 WARN MemoryManager: Total allocation exceeds 95.00% (1,020,054,720 bytes) of heap memory\n",
      "Scaling row group sizes to 95.00% for 8 writers\n",
      "25/07/26 04:57:48 WARN MemoryManager: Total allocation exceeds 95.00% (1,020,054,720 bytes) of heap memory\n",
      "Scaling row group sizes to 95.00% for 8 writers\n",
      "25/07/26 04:57:49 WARN MemoryManager: Total allocation exceeds 95.00% (1,020,054,720 bytes) of heap memory\n",
      "Scaling row group sizes to 95.00% for 8 writers\n",
      "25/07/26 04:57:49 WARN MemoryManager: Total allocation exceeds 95.00% (1,020,054,720 bytes) of heap memory\n",
      "Scaling row group sizes to 95.00% for 8 writers\n",
      "25/07/26 04:57:49 WARN MemoryManager: Total allocation exceeds 95.00% (1,020,054,720 bytes) of heap memory\n",
      "Scaling row group sizes to 95.00% for 8 writers\n",
      "                                                                                \r"
     ]
    },
    {
     "name": "stdout",
     "output_type": "stream",
     "text": [
      "Saved stratified sample: ../data/sample/Music_v1_00/amazon_us_reviews-train-00004-of-00008.parquet\n",
      "Stratified sampling: ../data/raw/Music_v1_00/amazon_us_reviews-train-00000-of-00008.parquet\n"
     ]
    },
    {
     "name": "stderr",
     "output_type": "stream",
     "text": [
      "25/07/26 04:57:50 WARN MemoryManager: Total allocation exceeds 95.00% (1,020,054,720 bytes) of heap memory\n",
      "Scaling row group sizes to 95.00% for 8 writers\n",
      "25/07/26 04:57:51 WARN MemoryManager: Total allocation exceeds 95.00% (1,020,054,720 bytes) of heap memory\n",
      "Scaling row group sizes to 95.00% for 8 writers\n",
      "25/07/26 04:57:51 WARN MemoryManager: Total allocation exceeds 95.00% (1,020,054,720 bytes) of heap memory\n",
      "Scaling row group sizes to 95.00% for 8 writers\n",
      "                                                                                \r"
     ]
    },
    {
     "name": "stdout",
     "output_type": "stream",
     "text": [
      "Saved stratified sample: ../data/sample/Music_v1_00/amazon_us_reviews-train-00000-of-00008.parquet\n",
      "Stratified sampling: ../data/raw/Music_v1_00/amazon_us_reviews-train-00005-of-00008.parquet\n"
     ]
    },
    {
     "name": "stderr",
     "output_type": "stream",
     "text": [
      "25/07/26 04:57:52 WARN MemoryManager: Total allocation exceeds 95.00% (1,020,054,720 bytes) of heap memory\n",
      "Scaling row group sizes to 95.00% for 8 writers\n",
      "25/07/26 04:57:52 WARN MemoryManager: Total allocation exceeds 95.00% (1,020,054,720 bytes) of heap memory\n",
      "Scaling row group sizes to 95.00% for 8 writers\n",
      "25/07/26 04:57:53 WARN MemoryManager: Total allocation exceeds 95.00% (1,020,054,720 bytes) of heap memory\n",
      "Scaling row group sizes to 95.00% for 8 writers\n",
      "25/07/26 04:57:53 WARN MemoryManager: Total allocation exceeds 95.00% (1,020,054,720 bytes) of heap memory\n",
      "Scaling row group sizes to 95.00% for 8 writers\n",
      "25/07/26 04:57:53 WARN MemoryManager: Total allocation exceeds 95.00% (1,020,054,720 bytes) of heap memory\n",
      "Scaling row group sizes to 95.00% for 8 writers\n",
      "                                                                                \r"
     ]
    },
    {
     "name": "stdout",
     "output_type": "stream",
     "text": [
      "Saved stratified sample: ../data/sample/Music_v1_00/amazon_us_reviews-train-00005-of-00008.parquet\n",
      "Stratified sampling: ../data/raw/Music_v1_00/amazon_us_reviews-train-00001-of-00008.parquet\n"
     ]
    },
    {
     "name": "stderr",
     "output_type": "stream",
     "text": [
      "25/07/26 04:57:54 WARN MemoryManager: Total allocation exceeds 95.00% (1,020,054,720 bytes) of heap memory\n",
      "Scaling row group sizes to 95.00% for 8 writers\n",
      "25/07/26 04:57:54 WARN MemoryManager: Total allocation exceeds 95.00% (1,020,054,720 bytes) of heap memory\n",
      "Scaling row group sizes to 95.00% for 8 writers\n",
      "25/07/26 04:57:55 WARN MemoryManager: Total allocation exceeds 95.00% (1,020,054,720 bytes) of heap memory\n",
      "Scaling row group sizes to 95.00% for 8 writers\n",
      "25/07/26 04:57:55 WARN MemoryManager: Total allocation exceeds 95.00% (1,020,054,720 bytes) of heap memory\n",
      "Scaling row group sizes to 95.00% for 8 writers\n",
      "                                                                                \r"
     ]
    },
    {
     "name": "stdout",
     "output_type": "stream",
     "text": [
      "Saved stratified sample: ../data/sample/Music_v1_00/amazon_us_reviews-train-00001-of-00008.parquet\n",
      "Stratified sampling: ../data/raw/Outdoors_v1_00/amazon_us_reviews-train-00002-of-00003.parquet\n"
     ]
    },
    {
     "name": "stderr",
     "output_type": "stream",
     "text": [
      "25/07/26 04:57:56 WARN MemoryManager: Total allocation exceeds 95.00% (1,020,054,720 bytes) of heap memory\n",
      "Scaling row group sizes to 95.00% for 8 writers\n",
      "25/07/26 04:57:56 WARN MemoryManager: Total allocation exceeds 95.00% (1,020,054,720 bytes) of heap memory\n",
      "Scaling row group sizes to 95.00% for 8 writers\n",
      "25/07/26 04:57:56 WARN MemoryManager: Total allocation exceeds 95.00% (1,020,054,720 bytes) of heap memory\n",
      "Scaling row group sizes to 95.00% for 8 writers\n",
      "25/07/26 04:57:56 WARN MemoryManager: Total allocation exceeds 95.00% (1,020,054,720 bytes) of heap memory\n",
      "Scaling row group sizes to 95.00% for 8 writers\n",
      "                                                                                \r"
     ]
    },
    {
     "name": "stdout",
     "output_type": "stream",
     "text": [
      "Saved stratified sample: ../data/sample/Outdoors_v1_00/amazon_us_reviews-train-00002-of-00003.parquet\n",
      "Stratified sampling: ../data/raw/Outdoors_v1_00/amazon_us_reviews-train-00001-of-00003.parquet\n"
     ]
    },
    {
     "name": "stderr",
     "output_type": "stream",
     "text": [
      "25/07/26 04:57:57 WARN MemoryManager: Total allocation exceeds 95.00% (1,020,054,720 bytes) of heap memory\n",
      "Scaling row group sizes to 95.00% for 8 writers\n",
      "25/07/26 04:57:58 WARN MemoryManager: Total allocation exceeds 95.00% (1,020,054,720 bytes) of heap memory\n",
      "Scaling row group sizes to 95.00% for 8 writers\n",
      "25/07/26 04:57:58 WARN MemoryManager: Total allocation exceeds 95.00% (1,020,054,720 bytes) of heap memory\n",
      "Scaling row group sizes to 95.00% for 8 writers\n",
      "25/07/26 04:57:58 WARN MemoryManager: Total allocation exceeds 95.00% (1,020,054,720 bytes) of heap memory\n",
      "Scaling row group sizes to 95.00% for 8 writers\n",
      "25/07/26 04:57:59 WARN MemoryManager: Total allocation exceeds 95.00% (1,020,054,720 bytes) of heap memory\n",
      "Scaling row group sizes to 95.00% for 8 writers\n",
      "                                                                                \r"
     ]
    },
    {
     "name": "stdout",
     "output_type": "stream",
     "text": [
      "Saved stratified sample: ../data/sample/Outdoors_v1_00/amazon_us_reviews-train-00001-of-00003.parquet\n",
      "Stratified sampling: ../data/raw/Outdoors_v1_00/amazon_us_reviews-train-00000-of-00003.parquet\n"
     ]
    },
    {
     "name": "stderr",
     "output_type": "stream",
     "text": [
      "25/07/26 04:58:00 WARN MemoryManager: Total allocation exceeds 95.00% (1,020,054,720 bytes) of heap memory\n",
      "Scaling row group sizes to 95.00% for 8 writers\n",
      "25/07/26 04:58:01 WARN MemoryManager: Total allocation exceeds 95.00% (1,020,054,720 bytes) of heap memory\n",
      "Scaling row group sizes to 95.00% for 8 writers\n",
      "25/07/26 04:58:01 WARN MemoryManager: Total allocation exceeds 95.00% (1,020,054,720 bytes) of heap memory\n",
      "Scaling row group sizes to 95.00% for 8 writers\n",
      "                                                                                \r"
     ]
    },
    {
     "name": "stdout",
     "output_type": "stream",
     "text": [
      "Saved stratified sample: ../data/sample/Outdoors_v1_00/amazon_us_reviews-train-00000-of-00003.parquet\n",
      "Stratified sampling: ../data/raw/Shoes_v1_00/amazon_us_reviews-train-00001-of-00004.parquet\n"
     ]
    },
    {
     "name": "stderr",
     "output_type": "stream",
     "text": [
      "25/07/26 04:58:02 WARN MemoryManager: Total allocation exceeds 95.00% (1,020,054,720 bytes) of heap memory\n",
      "Scaling row group sizes to 95.00% for 8 writers\n",
      "25/07/26 04:58:03 WARN MemoryManager: Total allocation exceeds 95.00% (1,020,054,720 bytes) of heap memory\n",
      "Scaling row group sizes to 95.00% for 8 writers\n",
      "25/07/26 04:58:03 WARN MemoryManager: Total allocation exceeds 95.00% (1,020,054,720 bytes) of heap memory\n",
      "Scaling row group sizes to 95.00% for 8 writers\n",
      "25/07/26 04:58:04 WARN MemoryManager: Total allocation exceeds 95.00% (1,020,054,720 bytes) of heap memory\n",
      "Scaling row group sizes to 95.00% for 8 writers\n",
      "                                                                                \r"
     ]
    },
    {
     "name": "stdout",
     "output_type": "stream",
     "text": [
      "Saved stratified sample: ../data/sample/Shoes_v1_00/amazon_us_reviews-train-00001-of-00004.parquet\n",
      "Stratified sampling: ../data/raw/Shoes_v1_00/amazon_us_reviews-train-00000-of-00004.parquet\n"
     ]
    },
    {
     "name": "stderr",
     "output_type": "stream",
     "text": [
      "25/07/26 04:58:05 WARN MemoryManager: Total allocation exceeds 95.00% (1,020,054,720 bytes) of heap memory\n",
      "Scaling row group sizes to 95.00% for 8 writers\n",
      "25/07/26 04:58:05 WARN MemoryManager: Total allocation exceeds 95.00% (1,020,054,720 bytes) of heap memory\n",
      "Scaling row group sizes to 95.00% for 8 writers\n",
      "25/07/26 04:58:06 WARN MemoryManager: Total allocation exceeds 95.00% (1,020,054,720 bytes) of heap memory\n",
      "Scaling row group sizes to 95.00% for 8 writers\n",
      "                                                                                \r"
     ]
    },
    {
     "name": "stdout",
     "output_type": "stream",
     "text": [
      "Saved stratified sample: ../data/sample/Shoes_v1_00/amazon_us_reviews-train-00000-of-00004.parquet\n",
      "Stratified sampling: ../data/raw/Shoes_v1_00/amazon_us_reviews-train-00003-of-00004.parquet\n"
     ]
    },
    {
     "name": "stderr",
     "output_type": "stream",
     "text": [
      "25/07/26 04:58:07 WARN MemoryManager: Total allocation exceeds 95.00% (1,020,054,720 bytes) of heap memory\n",
      "Scaling row group sizes to 95.00% for 8 writers\n",
      "25/07/26 04:58:08 WARN MemoryManager: Total allocation exceeds 95.00% (1,020,054,720 bytes) of heap memory\n",
      "Scaling row group sizes to 95.00% for 8 writers\n",
      "                                                                                \r"
     ]
    },
    {
     "name": "stdout",
     "output_type": "stream",
     "text": [
      "Saved stratified sample: ../data/sample/Shoes_v1_00/amazon_us_reviews-train-00003-of-00004.parquet\n",
      "Stratified sampling: ../data/raw/Shoes_v1_00/amazon_us_reviews-train-00002-of-00004.parquet\n"
     ]
    },
    {
     "name": "stderr",
     "output_type": "stream",
     "text": [
      "25/07/26 04:58:09 WARN MemoryManager: Total allocation exceeds 95.00% (1,020,054,720 bytes) of heap memory\n",
      "Scaling row group sizes to 95.00% for 8 writers\n",
      "25/07/26 04:58:10 WARN MemoryManager: Total allocation exceeds 95.00% (1,020,054,720 bytes) of heap memory\n",
      "Scaling row group sizes to 95.00% for 8 writers\n",
      "25/07/26 04:58:10 WARN MemoryManager: Total allocation exceeds 95.00% (1,020,054,720 bytes) of heap memory\n",
      "Scaling row group sizes to 95.00% for 8 writers\n",
      "25/07/26 04:58:11 WARN MemoryManager: Total allocation exceeds 95.00% (1,020,054,720 bytes) of heap memory\n",
      "Scaling row group sizes to 95.00% for 8 writers\n",
      "                                                                                \r"
     ]
    },
    {
     "name": "stdout",
     "output_type": "stream",
     "text": [
      "Saved stratified sample: ../data/sample/Shoes_v1_00/amazon_us_reviews-train-00002-of-00004.parquet\n",
      "Stratified sampling: ../data/raw/Video_Games_v1_00/amazon_us_reviews-train-00002-of-00003.parquet\n"
     ]
    },
    {
     "name": "stderr",
     "output_type": "stream",
     "text": [
      "25/07/26 04:58:11 WARN MemoryManager: Total allocation exceeds 95.00% (1,020,054,720 bytes) of heap memory\n",
      "Scaling row group sizes to 95.00% for 8 writers\n",
      "25/07/26 04:58:12 WARN MemoryManager: Total allocation exceeds 95.00% (1,020,054,720 bytes) of heap memory\n",
      "Scaling row group sizes to 95.00% for 8 writers\n",
      "                                                                                \r"
     ]
    },
    {
     "name": "stdout",
     "output_type": "stream",
     "text": [
      "Saved stratified sample: ../data/sample/Video_Games_v1_00/amazon_us_reviews-train-00002-of-00003.parquet\n",
      "Stratified sampling: ../data/raw/Video_Games_v1_00/amazon_us_reviews-train-00001-of-00003.parquet\n"
     ]
    },
    {
     "name": "stderr",
     "output_type": "stream",
     "text": [
      "25/07/26 04:58:13 WARN MemoryManager: Total allocation exceeds 95.00% (1,020,054,720 bytes) of heap memory\n",
      "Scaling row group sizes to 95.00% for 8 writers\n",
      "25/07/26 04:58:13 WARN MemoryManager: Total allocation exceeds 95.00% (1,020,054,720 bytes) of heap memory\n",
      "Scaling row group sizes to 95.00% for 8 writers\n",
      "                                                                                \r"
     ]
    },
    {
     "name": "stdout",
     "output_type": "stream",
     "text": [
      "Saved stratified sample: ../data/sample/Video_Games_v1_00/amazon_us_reviews-train-00001-of-00003.parquet\n",
      "Stratified sampling: ../data/raw/Video_Games_v1_00/amazon_us_reviews-train-00000-of-00003.parquet\n"
     ]
    },
    {
     "name": "stderr",
     "output_type": "stream",
     "text": [
      "25/07/26 04:58:15 WARN MemoryManager: Total allocation exceeds 95.00% (1,020,054,720 bytes) of heap memory\n",
      "Scaling row group sizes to 95.00% for 8 writers\n",
      "25/07/26 04:58:15 WARN MemoryManager: Total allocation exceeds 95.00% (1,020,054,720 bytes) of heap memory\n",
      "Scaling row group sizes to 95.00% for 8 writers\n",
      "25/07/26 04:58:15 WARN MemoryManager: Total allocation exceeds 95.00% (1,020,054,720 bytes) of heap memory\n",
      "Scaling row group sizes to 95.00% for 8 writers\n",
      "25/07/26 04:58:16 WARN MemoryManager: Total allocation exceeds 95.00% (1,020,054,720 bytes) of heap memory\n",
      "Scaling row group sizes to 95.00% for 8 writers\n",
      "25/07/26 04:58:16 WARN MemoryManager: Total allocation exceeds 95.00% (1,020,054,720 bytes) of heap memory\n",
      "Scaling row group sizes to 95.00% for 8 writers\n",
      "                                                                                \r"
     ]
    },
    {
     "name": "stdout",
     "output_type": "stream",
     "text": [
      "Saved stratified sample: ../data/sample/Video_Games_v1_00/amazon_us_reviews-train-00000-of-00003.parquet\n",
      "Stratified sampling: ../data/raw/Apparel_v1_00/amazon_us_reviews-train-00001-of-00005.parquet\n"
     ]
    },
    {
     "name": "stderr",
     "output_type": "stream",
     "text": [
      "25/07/26 04:58:17 WARN MemoryManager: Total allocation exceeds 95.00% (1,020,054,720 bytes) of heap memory\n",
      "Scaling row group sizes to 95.00% for 8 writers\n",
      "25/07/26 04:58:18 WARN MemoryManager: Total allocation exceeds 95.00% (1,020,054,720 bytes) of heap memory\n",
      "Scaling row group sizes to 95.00% for 8 writers\n",
      "25/07/26 04:58:18 WARN MemoryManager: Total allocation exceeds 95.00% (1,020,054,720 bytes) of heap memory\n",
      "Scaling row group sizes to 95.00% for 8 writers\n",
      "25/07/26 04:58:18 WARN MemoryManager: Total allocation exceeds 95.00% (1,020,054,720 bytes) of heap memory\n",
      "Scaling row group sizes to 95.00% for 8 writers\n",
      "25/07/26 04:58:18 WARN MemoryManager: Total allocation exceeds 95.00% (1,020,054,720 bytes) of heap memory\n",
      "Scaling row group sizes to 95.00% for 8 writers\n",
      "                                                                                \r"
     ]
    },
    {
     "name": "stdout",
     "output_type": "stream",
     "text": [
      "Saved stratified sample: ../data/sample/Apparel_v1_00/amazon_us_reviews-train-00001-of-00005.parquet\n",
      "Stratified sampling: ../data/raw/Apparel_v1_00/amazon_us_reviews-train-00004-of-00005.parquet\n"
     ]
    },
    {
     "name": "stderr",
     "output_type": "stream",
     "text": [
      "25/07/26 04:58:20 WARN MemoryManager: Total allocation exceeds 95.00% (1,020,054,720 bytes) of heap memory\n",
      "Scaling row group sizes to 95.00% for 8 writers\n",
      "25/07/26 04:58:20 WARN MemoryManager: Total allocation exceeds 95.00% (1,020,054,720 bytes) of heap memory\n",
      "Scaling row group sizes to 95.00% for 8 writers\n",
      "                                                                                \r"
     ]
    },
    {
     "name": "stdout",
     "output_type": "stream",
     "text": [
      "Saved stratified sample: ../data/sample/Apparel_v1_00/amazon_us_reviews-train-00004-of-00005.parquet\n",
      "Stratified sampling: ../data/raw/Apparel_v1_00/amazon_us_reviews-train-00000-of-00005.parquet\n"
     ]
    },
    {
     "name": "stderr",
     "output_type": "stream",
     "text": [
      "25/07/26 04:58:21 WARN MemoryManager: Total allocation exceeds 95.00% (1,020,054,720 bytes) of heap memory\n",
      "Scaling row group sizes to 95.00% for 8 writers\n",
      "25/07/26 04:58:22 WARN MemoryManager: Total allocation exceeds 95.00% (1,020,054,720 bytes) of heap memory\n",
      "Scaling row group sizes to 95.00% for 8 writers\n",
      "25/07/26 04:58:22 WARN MemoryManager: Total allocation exceeds 95.00% (1,020,054,720 bytes) of heap memory\n",
      "Scaling row group sizes to 95.00% for 8 writers\n",
      "                                                                                \r"
     ]
    },
    {
     "name": "stdout",
     "output_type": "stream",
     "text": [
      "Saved stratified sample: ../data/sample/Apparel_v1_00/amazon_us_reviews-train-00000-of-00005.parquet\n",
      "Stratified sampling: ../data/raw/Apparel_v1_00/amazon_us_reviews-train-00003-of-00005.parquet\n"
     ]
    },
    {
     "name": "stderr",
     "output_type": "stream",
     "text": [
      "25/07/26 04:58:37 WARN MemoryManager: Total allocation exceeds 95.00% (1,020,054,720 bytes) of heap memory\n",
      "Scaling row group sizes to 95.00% for 8 writers\n",
      "25/07/26 04:58:37 WARN MemoryManager: Total allocation exceeds 95.00% (1,020,054,720 bytes) of heap memory\n",
      "Scaling row group sizes to 95.00% for 8 writers\n",
      "25/07/26 04:58:37 WARN MemoryManager: Total allocation exceeds 95.00% (1,020,054,720 bytes) of heap memory\n",
      "Scaling row group sizes to 95.00% for 8 writers\n",
      "25/07/26 04:58:38 WARN MemoryManager: Total allocation exceeds 95.00% (1,020,054,720 bytes) of heap memory\n",
      "Scaling row group sizes to 95.00% for 8 writers\n",
      "                                                                                \r"
     ]
    },
    {
     "name": "stdout",
     "output_type": "stream",
     "text": [
      "Saved stratified sample: ../data/sample/Apparel_v1_00/amazon_us_reviews-train-00003-of-00005.parquet\n",
      "Stratified sampling: ../data/raw/Apparel_v1_00/amazon_us_reviews-train-00002-of-00005.parquet\n"
     ]
    },
    {
     "name": "stderr",
     "output_type": "stream",
     "text": [
      "25/07/26 04:58:39 WARN MemoryManager: Total allocation exceeds 95.00% (1,020,054,720 bytes) of heap memory\n",
      "Scaling row group sizes to 95.00% for 8 writers\n",
      "25/07/26 04:58:40 WARN MemoryManager: Total allocation exceeds 95.00% (1,020,054,720 bytes) of heap memory\n",
      "Scaling row group sizes to 95.00% for 8 writers\n",
      "25/07/26 04:58:40 WARN MemoryManager: Total allocation exceeds 95.00% (1,020,054,720 bytes) of heap memory\n",
      "Scaling row group sizes to 95.00% for 8 writers\n",
      "25/07/26 04:58:40 WARN MemoryManager: Total allocation exceeds 95.00% (1,020,054,720 bytes) of heap memory\n",
      "Scaling row group sizes to 95.00% for 8 writers\n",
      "25/07/26 04:58:41 WARN MemoryManager: Total allocation exceeds 95.00% (1,020,054,720 bytes) of heap memory\n",
      "Scaling row group sizes to 95.00% for 8 writers\n",
      "                                                                                \r"
     ]
    },
    {
     "name": "stdout",
     "output_type": "stream",
     "text": [
      "Saved stratified sample: ../data/sample/Apparel_v1_00/amazon_us_reviews-train-00002-of-00005.parquet\n",
      "Stratified sampling: ../data/raw/Furniture_v1_00/amazon_us_reviews-train.parquet\n"
     ]
    },
    {
     "name": "stderr",
     "output_type": "stream",
     "text": [
      "25/07/26 04:58:42 WARN MemoryManager: Total allocation exceeds 95.00% (1,020,054,720 bytes) of heap memory\n",
      "Scaling row group sizes to 95.00% for 8 writers\n",
      "25/07/26 04:58:42 WARN MemoryManager: Total allocation exceeds 95.00% (1,020,054,720 bytes) of heap memory\n",
      "Scaling row group sizes to 95.00% for 8 writers\n",
      "25/07/26 04:58:42 WARN MemoryManager: Total allocation exceeds 95.00% (1,020,054,720 bytes) of heap memory\n",
      "Scaling row group sizes to 95.00% for 8 writers\n",
      "                                                                                \r"
     ]
    },
    {
     "name": "stdout",
     "output_type": "stream",
     "text": [
      "Saved stratified sample: ../data/sample/Furniture_v1_00/amazon_us_reviews-train.parquet\n",
      "Stratified sampling: ../data/raw/Baby_v1_00/amazon_us_reviews-train-00001-of-00002.parquet\n"
     ]
    },
    {
     "name": "stderr",
     "output_type": "stream",
     "text": [
      "25/07/26 04:58:43 WARN MemoryManager: Total allocation exceeds 95.00% (1,020,054,720 bytes) of heap memory\n",
      "Scaling row group sizes to 95.00% for 8 writers\n",
      "25/07/26 04:58:44 WARN MemoryManager: Total allocation exceeds 95.00% (1,020,054,720 bytes) of heap memory\n",
      "Scaling row group sizes to 95.00% for 8 writers\n",
      "25/07/26 04:58:44 WARN MemoryManager: Total allocation exceeds 95.00% (1,020,054,720 bytes) of heap memory\n",
      "Scaling row group sizes to 95.00% for 8 writers\n",
      "25/07/26 04:58:44 WARN MemoryManager: Total allocation exceeds 95.00% (1,020,054,720 bytes) of heap memory\n",
      "Scaling row group sizes to 95.00% for 8 writers\n",
      "25/07/26 04:58:45 WARN MemoryManager: Total allocation exceeds 95.00% (1,020,054,720 bytes) of heap memory\n",
      "Scaling row group sizes to 95.00% for 8 writers\n",
      "                                                                                \r"
     ]
    },
    {
     "name": "stdout",
     "output_type": "stream",
     "text": [
      "Saved stratified sample: ../data/sample/Baby_v1_00/amazon_us_reviews-train-00001-of-00002.parquet\n",
      "Stratified sampling: ../data/raw/Baby_v1_00/amazon_us_reviews-train-00000-of-00002.parquet\n"
     ]
    },
    {
     "name": "stderr",
     "output_type": "stream",
     "text": [
      "25/07/26 04:59:02 WARN MemoryManager: Total allocation exceeds 95.00% (1,020,054,720 bytes) of heap memory\n",
      "Scaling row group sizes to 95.00% for 8 writers\n",
      "25/07/26 04:59:02 WARN MemoryManager: Total allocation exceeds 95.00% (1,020,054,720 bytes) of heap memory\n",
      "Scaling row group sizes to 95.00% for 8 writers\n",
      "25/07/26 04:59:02 WARN MemoryManager: Total allocation exceeds 95.00% (1,020,054,720 bytes) of heap memory\n",
      "Scaling row group sizes to 95.00% for 8 writers\n",
      "25/07/26 04:59:03 WARN MemoryManager: Total allocation exceeds 95.00% (1,020,054,720 bytes) of heap memory\n",
      "Scaling row group sizes to 95.00% for 8 writers\n",
      "                                                                                \r"
     ]
    },
    {
     "name": "stdout",
     "output_type": "stream",
     "text": [
      "Saved stratified sample: ../data/sample/Baby_v1_00/amazon_us_reviews-train-00000-of-00002.parquet\n",
      "Stratified sampling: ../data/raw/Mobile_Apps_v1_00/amazon_us_reviews-train-00001-of-00004.parquet\n"
     ]
    },
    {
     "name": "stderr",
     "output_type": "stream",
     "text": [
      "25/07/26 04:59:05 WARN MemoryManager: Total allocation exceeds 95.00% (1,020,054,720 bytes) of heap memory\n",
      "Scaling row group sizes to 95.00% for 8 writers\n",
      "25/07/26 04:59:05 WARN MemoryManager: Total allocation exceeds 95.00% (1,020,054,720 bytes) of heap memory\n",
      "Scaling row group sizes to 95.00% for 8 writers\n",
      "25/07/26 04:59:05 WARN MemoryManager: Total allocation exceeds 95.00% (1,020,054,720 bytes) of heap memory\n",
      "Scaling row group sizes to 95.00% for 8 writers\n",
      "25/07/26 04:59:06 WARN MemoryManager: Total allocation exceeds 95.00% (1,020,054,720 bytes) of heap memory\n",
      "Scaling row group sizes to 95.00% for 8 writers\n",
      "25/07/26 04:59:06 WARN MemoryManager: Total allocation exceeds 95.00% (1,020,054,720 bytes) of heap memory\n",
      "Scaling row group sizes to 95.00% for 8 writers\n",
      "                                                                                \r"
     ]
    },
    {
     "name": "stdout",
     "output_type": "stream",
     "text": [
      "Saved stratified sample: ../data/sample/Mobile_Apps_v1_00/amazon_us_reviews-train-00001-of-00004.parquet\n",
      "Stratified sampling: ../data/raw/Mobile_Apps_v1_00/amazon_us_reviews-train-00000-of-00004.parquet\n"
     ]
    },
    {
     "name": "stderr",
     "output_type": "stream",
     "text": [
      "25/07/26 04:59:08 WARN MemoryManager: Total allocation exceeds 95.00% (1,020,054,720 bytes) of heap memory\n",
      "Scaling row group sizes to 95.00% for 8 writers\n",
      "25/07/26 04:59:08 WARN MemoryManager: Total allocation exceeds 95.00% (1,020,054,720 bytes) of heap memory\n",
      "Scaling row group sizes to 95.00% for 8 writers\n",
      "25/07/26 04:59:08 WARN MemoryManager: Total allocation exceeds 95.00% (1,020,054,720 bytes) of heap memory\n",
      "Scaling row group sizes to 95.00% for 8 writers\n",
      "25/07/26 04:59:09 WARN MemoryManager: Total allocation exceeds 95.00% (1,020,054,720 bytes) of heap memory\n",
      "Scaling row group sizes to 95.00% for 8 writers\n",
      "                                                                                \r"
     ]
    },
    {
     "name": "stdout",
     "output_type": "stream",
     "text": [
      "Saved stratified sample: ../data/sample/Mobile_Apps_v1_00/amazon_us_reviews-train-00000-of-00004.parquet\n",
      "Stratified sampling: ../data/raw/Mobile_Apps_v1_00/amazon_us_reviews-train-00003-of-00004.parquet\n"
     ]
    },
    {
     "name": "stderr",
     "output_type": "stream",
     "text": [
      "25/07/26 04:59:10 WARN MemoryManager: Total allocation exceeds 95.00% (1,020,054,720 bytes) of heap memory\n",
      "Scaling row group sizes to 95.00% for 8 writers\n",
      "25/07/26 04:59:10 WARN MemoryManager: Total allocation exceeds 95.00% (1,020,054,720 bytes) of heap memory\n",
      "Scaling row group sizes to 95.00% for 8 writers\n",
      "25/07/26 04:59:10 WARN MemoryManager: Total allocation exceeds 95.00% (1,020,054,720 bytes) of heap memory\n",
      "Scaling row group sizes to 95.00% for 8 writers\n",
      "25/07/26 04:59:11 WARN MemoryManager: Total allocation exceeds 95.00% (1,020,054,720 bytes) of heap memory\n",
      "Scaling row group sizes to 95.00% for 8 writers\n",
      "                                                                                \r"
     ]
    },
    {
     "name": "stdout",
     "output_type": "stream",
     "text": [
      "Saved stratified sample: ../data/sample/Mobile_Apps_v1_00/amazon_us_reviews-train-00003-of-00004.parquet\n",
      "Stratified sampling: ../data/raw/Mobile_Apps_v1_00/amazon_us_reviews-train-00002-of-00004.parquet\n"
     ]
    },
    {
     "name": "stderr",
     "output_type": "stream",
     "text": [
      "25/07/26 04:59:12 WARN MemoryManager: Total allocation exceeds 95.00% (1,020,054,720 bytes) of heap memory\n",
      "Scaling row group sizes to 95.00% for 8 writers\n",
      "25/07/26 04:59:12 WARN MemoryManager: Total allocation exceeds 95.00% (1,020,054,720 bytes) of heap memory\n",
      "Scaling row group sizes to 95.00% for 8 writers\n",
      "25/07/26 04:59:12 WARN MemoryManager: Total allocation exceeds 95.00% (1,020,054,720 bytes) of heap memory\n",
      "Scaling row group sizes to 95.00% for 8 writers\n",
      "25/07/26 04:59:13 WARN MemoryManager: Total allocation exceeds 95.00% (1,020,054,720 bytes) of heap memory\n",
      "Scaling row group sizes to 95.00% for 8 writers\n",
      "25/07/26 04:59:13 WARN MemoryManager: Total allocation exceeds 95.00% (1,020,054,720 bytes) of heap memory\n",
      "Scaling row group sizes to 95.00% for 8 writers\n",
      "                                                                                \r"
     ]
    },
    {
     "name": "stdout",
     "output_type": "stream",
     "text": [
      "Saved stratified sample: ../data/sample/Mobile_Apps_v1_00/amazon_us_reviews-train-00002-of-00004.parquet\n",
      "Stratified sampling: ../data/raw/Video_DVD_v1_00/amazon_us_reviews-train-00006-of-00008.parquet\n"
     ]
    },
    {
     "name": "stderr",
     "output_type": "stream",
     "text": [
      "25/07/26 04:59:14 WARN MemoryManager: Total allocation exceeds 95.00% (1,020,054,720 bytes) of heap memory\n",
      "Scaling row group sizes to 95.00% for 8 writers\n",
      "25/07/26 04:59:15 WARN MemoryManager: Total allocation exceeds 95.00% (1,020,054,720 bytes) of heap memory\n",
      "Scaling row group sizes to 95.00% for 8 writers\n",
      "25/07/26 04:59:15 WARN MemoryManager: Total allocation exceeds 95.00% (1,020,054,720 bytes) of heap memory\n",
      "Scaling row group sizes to 95.00% for 8 writers\n",
      "                                                                                \r"
     ]
    },
    {
     "name": "stdout",
     "output_type": "stream",
     "text": [
      "Saved stratified sample: ../data/sample/Video_DVD_v1_00/amazon_us_reviews-train-00006-of-00008.parquet\n",
      "Stratified sampling: ../data/raw/Video_DVD_v1_00/amazon_us_reviews-train-00002-of-00008.parquet\n"
     ]
    },
    {
     "name": "stderr",
     "output_type": "stream",
     "text": [
      "25/07/26 04:59:16 WARN MemoryManager: Total allocation exceeds 95.00% (1,020,054,720 bytes) of heap memory\n",
      "Scaling row group sizes to 95.00% for 8 writers\n",
      "25/07/26 04:59:17 WARN MemoryManager: Total allocation exceeds 95.00% (1,020,054,720 bytes) of heap memory\n",
      "Scaling row group sizes to 95.00% for 8 writers\n",
      "25/07/26 04:59:17 WARN MemoryManager: Total allocation exceeds 95.00% (1,020,054,720 bytes) of heap memory\n",
      "Scaling row group sizes to 95.00% for 8 writers\n",
      "25/07/26 04:59:17 WARN MemoryManager: Total allocation exceeds 95.00% (1,020,054,720 bytes) of heap memory\n",
      "Scaling row group sizes to 95.00% for 8 writers\n",
      "25/07/26 04:59:18 WARN MemoryManager: Total allocation exceeds 95.00% (1,020,054,720 bytes) of heap memory\n",
      "Scaling row group sizes to 95.00% for 8 writers\n",
      "                                                                                \r"
     ]
    },
    {
     "name": "stdout",
     "output_type": "stream",
     "text": [
      "Saved stratified sample: ../data/sample/Video_DVD_v1_00/amazon_us_reviews-train-00002-of-00008.parquet\n",
      "Stratified sampling: ../data/raw/Video_DVD_v1_00/amazon_us_reviews-train-00007-of-00008.parquet\n"
     ]
    },
    {
     "name": "stderr",
     "output_type": "stream",
     "text": [
      "25/07/26 04:59:19 WARN MemoryManager: Total allocation exceeds 95.00% (1,020,054,720 bytes) of heap memory\n",
      "Scaling row group sizes to 95.00% for 8 writers\n",
      "25/07/26 04:59:19 WARN MemoryManager: Total allocation exceeds 95.00% (1,020,054,720 bytes) of heap memory\n",
      "Scaling row group sizes to 95.00% for 8 writers\n",
      "25/07/26 04:59:19 WARN MemoryManager: Total allocation exceeds 95.00% (1,020,054,720 bytes) of heap memory\n",
      "Scaling row group sizes to 95.00% for 8 writers\n",
      "25/07/26 04:59:19 WARN MemoryManager: Total allocation exceeds 95.00% (1,020,054,720 bytes) of heap memory\n",
      "Scaling row group sizes to 95.00% for 8 writers\n",
      "                                                                                \r"
     ]
    },
    {
     "name": "stdout",
     "output_type": "stream",
     "text": [
      "Saved stratified sample: ../data/sample/Video_DVD_v1_00/amazon_us_reviews-train-00007-of-00008.parquet\n",
      "Stratified sampling: ../data/raw/Video_DVD_v1_00/amazon_us_reviews-train-00003-of-00008.parquet\n"
     ]
    },
    {
     "name": "stderr",
     "output_type": "stream",
     "text": [
      "25/07/26 04:59:21 WARN MemoryManager: Total allocation exceeds 95.00% (1,020,054,720 bytes) of heap memory\n",
      "Scaling row group sizes to 95.00% for 8 writers\n",
      "25/07/26 04:59:21 WARN MemoryManager: Total allocation exceeds 95.00% (1,020,054,720 bytes) of heap memory\n",
      "Scaling row group sizes to 95.00% for 8 writers\n",
      "25/07/26 04:59:21 WARN MemoryManager: Total allocation exceeds 95.00% (1,020,054,720 bytes) of heap memory\n",
      "Scaling row group sizes to 95.00% for 8 writers\n",
      "25/07/26 04:59:22 WARN MemoryManager: Total allocation exceeds 95.00% (1,020,054,720 bytes) of heap memory\n",
      "Scaling row group sizes to 95.00% for 8 writers\n",
      "                                                                                \r"
     ]
    },
    {
     "name": "stdout",
     "output_type": "stream",
     "text": [
      "Saved stratified sample: ../data/sample/Video_DVD_v1_00/amazon_us_reviews-train-00003-of-00008.parquet\n",
      "Stratified sampling: ../data/raw/Video_DVD_v1_00/amazon_us_reviews-train-00004-of-00008.parquet\n"
     ]
    },
    {
     "name": "stderr",
     "output_type": "stream",
     "text": [
      "25/07/26 04:59:22 WARN MemoryManager: Total allocation exceeds 95.00% (1,020,054,720 bytes) of heap memory\n",
      "Scaling row group sizes to 95.00% for 8 writers\n",
      "25/07/26 04:59:23 WARN MemoryManager: Total allocation exceeds 95.00% (1,020,054,720 bytes) of heap memory\n",
      "Scaling row group sizes to 95.00% for 8 writers\n",
      "25/07/26 04:59:23 WARN MemoryManager: Total allocation exceeds 95.00% (1,020,054,720 bytes) of heap memory\n",
      "Scaling row group sizes to 95.00% for 8 writers\n",
      "25/07/26 04:59:23 WARN MemoryManager: Total allocation exceeds 95.00% (1,020,054,720 bytes) of heap memory\n",
      "Scaling row group sizes to 95.00% for 8 writers\n",
      "25/07/26 04:59:23 WARN MemoryManager: Total allocation exceeds 95.00% (1,020,054,720 bytes) of heap memory\n",
      "Scaling row group sizes to 95.00% for 8 writers\n",
      "                                                                                \r"
     ]
    },
    {
     "name": "stdout",
     "output_type": "stream",
     "text": [
      "Saved stratified sample: ../data/sample/Video_DVD_v1_00/amazon_us_reviews-train-00004-of-00008.parquet\n",
      "Stratified sampling: ../data/raw/Video_DVD_v1_00/amazon_us_reviews-train-00000-of-00008.parquet\n"
     ]
    },
    {
     "name": "stderr",
     "output_type": "stream",
     "text": [
      "25/07/26 04:59:35 WARN MemoryManager: Total allocation exceeds 95.00% (1,020,054,720 bytes) of heap memory\n",
      "Scaling row group sizes to 95.00% for 8 writers\n",
      "25/07/26 04:59:35 WARN MemoryManager: Total allocation exceeds 95.00% (1,020,054,720 bytes) of heap memory\n",
      "Scaling row group sizes to 95.00% for 8 writers\n",
      "25/07/26 04:59:35 WARN MemoryManager: Total allocation exceeds 95.00% (1,020,054,720 bytes) of heap memory\n",
      "Scaling row group sizes to 95.00% for 8 writers\n",
      "25/07/26 04:59:36 WARN MemoryManager: Total allocation exceeds 95.00% (1,020,054,720 bytes) of heap memory\n",
      "Scaling row group sizes to 95.00% for 8 writers\n",
      "                                                                                \r"
     ]
    },
    {
     "name": "stdout",
     "output_type": "stream",
     "text": [
      "Saved stratified sample: ../data/sample/Video_DVD_v1_00/amazon_us_reviews-train-00000-of-00008.parquet\n",
      "Stratified sampling: ../data/raw/Video_DVD_v1_00/amazon_us_reviews-train-00005-of-00008.parquet\n"
     ]
    },
    {
     "name": "stderr",
     "output_type": "stream",
     "text": [
      "25/07/26 04:59:37 WARN MemoryManager: Total allocation exceeds 95.00% (1,020,054,720 bytes) of heap memory\n",
      "Scaling row group sizes to 95.00% for 8 writers\n",
      "25/07/26 04:59:37 WARN MemoryManager: Total allocation exceeds 95.00% (1,020,054,720 bytes) of heap memory\n",
      "Scaling row group sizes to 95.00% for 8 writers\n",
      "25/07/26 04:59:37 WARN MemoryManager: Total allocation exceeds 95.00% (1,020,054,720 bytes) of heap memory\n",
      "Scaling row group sizes to 95.00% for 8 writers\n",
      "25/07/26 04:59:38 WARN MemoryManager: Total allocation exceeds 95.00% (1,020,054,720 bytes) of heap memory\n",
      "Scaling row group sizes to 95.00% for 8 writers\n",
      "                                                                                \r"
     ]
    },
    {
     "name": "stdout",
     "output_type": "stream",
     "text": [
      "Saved stratified sample: ../data/sample/Video_DVD_v1_00/amazon_us_reviews-train-00005-of-00008.parquet\n",
      "Stratified sampling: ../data/raw/Video_DVD_v1_00/amazon_us_reviews-train-00001-of-00008.parquet\n"
     ]
    },
    {
     "name": "stderr",
     "output_type": "stream",
     "text": [
      "25/07/26 05:00:01 WARN MemoryManager: Total allocation exceeds 95.00% (1,020,054,720 bytes) of heap memory\n",
      "Scaling row group sizes to 95.00% for 8 writers\n",
      "25/07/26 05:00:01 WARN MemoryManager: Total allocation exceeds 95.00% (1,020,054,720 bytes) of heap memory\n",
      "Scaling row group sizes to 95.00% for 8 writers\n",
      "25/07/26 05:00:01 WARN MemoryManager: Total allocation exceeds 95.00% (1,020,054,720 bytes) of heap memory\n",
      "Scaling row group sizes to 95.00% for 8 writers\n",
      "25/07/26 05:00:02 WARN MemoryManager: Total allocation exceeds 95.00% (1,020,054,720 bytes) of heap memory\n",
      "Scaling row group sizes to 95.00% for 8 writers\n",
      "                                                                                \r"
     ]
    },
    {
     "name": "stdout",
     "output_type": "stream",
     "text": [
      "Saved stratified sample: ../data/sample/Video_DVD_v1_00/amazon_us_reviews-train-00001-of-00008.parquet\n",
      "Stratified sampling: ../data/raw/Digital_Video_Download_v1_00/amazon_us_reviews-train-00002-of-00003.parquet\n"
     ]
    },
    {
     "name": "stderr",
     "output_type": "stream",
     "text": [
      "25/07/26 05:00:03 WARN MemoryManager: Total allocation exceeds 95.00% (1,020,054,720 bytes) of heap memory\n",
      "Scaling row group sizes to 95.00% for 8 writers\n",
      "25/07/26 05:00:03 WARN MemoryManager: Total allocation exceeds 95.00% (1,020,054,720 bytes) of heap memory\n",
      "Scaling row group sizes to 95.00% for 8 writers\n",
      "25/07/26 05:00:04 WARN MemoryManager: Total allocation exceeds 95.00% (1,020,054,720 bytes) of heap memory\n",
      "Scaling row group sizes to 95.00% for 8 writers\n",
      "25/07/26 05:00:04 WARN MemoryManager: Total allocation exceeds 95.00% (1,020,054,720 bytes) of heap memory\n",
      "Scaling row group sizes to 95.00% for 8 writers\n",
      "                                                                                \r"
     ]
    },
    {
     "name": "stdout",
     "output_type": "stream",
     "text": [
      "Saved stratified sample: ../data/sample/Digital_Video_Download_v1_00/amazon_us_reviews-train-00002-of-00003.parquet\n",
      "Stratified sampling: ../data/raw/Digital_Video_Download_v1_00/amazon_us_reviews-train-00001-of-00003.parquet\n"
     ]
    },
    {
     "name": "stderr",
     "output_type": "stream",
     "text": [
      "25/07/26 05:00:30 WARN MemoryManager: Total allocation exceeds 95.00% (1,020,054,720 bytes) of heap memory\n",
      "Scaling row group sizes to 95.00% for 8 writers\n",
      "25/07/26 05:00:30 WARN MemoryManager: Total allocation exceeds 95.00% (1,020,054,720 bytes) of heap memory\n",
      "Scaling row group sizes to 95.00% for 8 writers\n",
      "25/07/26 05:00:31 WARN MemoryManager: Total allocation exceeds 95.00% (1,020,054,720 bytes) of heap memory\n",
      "Scaling row group sizes to 95.00% for 8 writers\n",
      "25/07/26 05:00:31 WARN MemoryManager: Total allocation exceeds 95.00% (1,020,054,720 bytes) of heap memory\n",
      "Scaling row group sizes to 95.00% for 8 writers\n",
      "                                                                                \r"
     ]
    },
    {
     "name": "stdout",
     "output_type": "stream",
     "text": [
      "Saved stratified sample: ../data/sample/Digital_Video_Download_v1_00/amazon_us_reviews-train-00001-of-00003.parquet\n",
      "Stratified sampling: ../data/raw/Digital_Video_Download_v1_00/amazon_us_reviews-train-00000-of-00003.parquet\n"
     ]
    },
    {
     "name": "stderr",
     "output_type": "stream",
     "text": [
      "25/07/26 05:00:32 WARN MemoryManager: Total allocation exceeds 95.00% (1,020,054,720 bytes) of heap memory\n",
      "Scaling row group sizes to 95.00% for 8 writers\n",
      "25/07/26 05:00:33 WARN MemoryManager: Total allocation exceeds 95.00% (1,020,054,720 bytes) of heap memory\n",
      "Scaling row group sizes to 95.00% for 8 writers\n",
      "25/07/26 05:00:33 WARN MemoryManager: Total allocation exceeds 95.00% (1,020,054,720 bytes) of heap memory\n",
      "Scaling row group sizes to 95.00% for 8 writers\n",
      "                                                                                \r"
     ]
    },
    {
     "name": "stdout",
     "output_type": "stream",
     "text": [
      "Saved stratified sample: ../data/sample/Digital_Video_Download_v1_00/amazon_us_reviews-train-00000-of-00003.parquet\n",
      "Stratified sampling: ../data/raw/Books_v1_02/amazon_us_reviews-train-00000-of-00007.parquet\n"
     ]
    },
    {
     "name": "stderr",
     "output_type": "stream",
     "text": [
      "25/07/26 05:00:35 WARN MemoryManager: Total allocation exceeds 95.00% (1,020,054,720 bytes) of heap memory\n",
      "Scaling row group sizes to 95.00% for 8 writers\n",
      "25/07/26 05:00:35 WARN MemoryManager: Total allocation exceeds 95.00% (1,020,054,720 bytes) of heap memory\n",
      "Scaling row group sizes to 95.00% for 8 writers\n",
      "25/07/26 05:00:35 WARN MemoryManager: Total allocation exceeds 95.00% (1,020,054,720 bytes) of heap memory\n",
      "Scaling row group sizes to 95.00% for 8 writers\n",
      "25/07/26 05:00:36 WARN MemoryManager: Total allocation exceeds 95.00% (1,020,054,720 bytes) of heap memory\n",
      "Scaling row group sizes to 95.00% for 8 writers\n",
      "                                                                                \r"
     ]
    },
    {
     "name": "stdout",
     "output_type": "stream",
     "text": [
      "Saved stratified sample: ../data/sample/Books_v1_02/amazon_us_reviews-train-00000-of-00007.parquet\n",
      "Stratified sampling: ../data/raw/Books_v1_02/amazon_us_reviews-train-00004-of-00007.parquet\n"
     ]
    },
    {
     "name": "stderr",
     "output_type": "stream",
     "text": [
      "25/07/26 05:00:58 WARN MemoryManager: Total allocation exceeds 95.00% (1,020,054,720 bytes) of heap memory\n",
      "Scaling row group sizes to 95.00% for 8 writers\n",
      "25/07/26 05:00:59 WARN MemoryManager: Total allocation exceeds 95.00% (1,020,054,720 bytes) of heap memory\n",
      "Scaling row group sizes to 95.00% for 8 writers\n",
      "25/07/26 05:00:59 WARN MemoryManager: Total allocation exceeds 95.00% (1,020,054,720 bytes) of heap memory\n",
      "Scaling row group sizes to 95.00% for 8 writers\n",
      "                                                                                \r"
     ]
    },
    {
     "name": "stdout",
     "output_type": "stream",
     "text": [
      "Saved stratified sample: ../data/sample/Books_v1_02/amazon_us_reviews-train-00004-of-00007.parquet\n",
      "Stratified sampling: ../data/raw/Books_v1_02/amazon_us_reviews-train-00001-of-00007.parquet\n"
     ]
    },
    {
     "name": "stderr",
     "output_type": "stream",
     "text": [
      "25/07/26 05:01:00 WARN MemoryManager: Total allocation exceeds 95.00% (1,020,054,720 bytes) of heap memory\n",
      "Scaling row group sizes to 95.00% for 8 writers\n",
      "25/07/26 05:01:00 WARN MemoryManager: Total allocation exceeds 95.00% (1,020,054,720 bytes) of heap memory\n",
      "Scaling row group sizes to 95.00% for 8 writers\n",
      "25/07/26 05:01:01 WARN MemoryManager: Total allocation exceeds 95.00% (1,020,054,720 bytes) of heap memory\n",
      "Scaling row group sizes to 95.00% for 8 writers\n",
      "25/07/26 05:01:01 WARN MemoryManager: Total allocation exceeds 95.00% (1,020,054,720 bytes) of heap memory\n",
      "Scaling row group sizes to 95.00% for 8 writers\n",
      "                                                                                \r"
     ]
    },
    {
     "name": "stdout",
     "output_type": "stream",
     "text": [
      "Saved stratified sample: ../data/sample/Books_v1_02/amazon_us_reviews-train-00001-of-00007.parquet\n",
      "Stratified sampling: ../data/raw/Books_v1_02/amazon_us_reviews-train-00005-of-00007.parquet\n"
     ]
    },
    {
     "name": "stderr",
     "output_type": "stream",
     "text": [
      "25/07/26 05:01:02 WARN MemoryManager: Total allocation exceeds 95.00% (1,020,054,720 bytes) of heap memory\n",
      "Scaling row group sizes to 95.00% for 8 writers\n",
      "25/07/26 05:01:02 WARN MemoryManager: Total allocation exceeds 95.00% (1,020,054,720 bytes) of heap memory\n",
      "Scaling row group sizes to 95.00% for 8 writers\n",
      "25/07/26 05:01:03 WARN MemoryManager: Total allocation exceeds 95.00% (1,020,054,720 bytes) of heap memory\n",
      "Scaling row group sizes to 95.00% for 8 writers\n",
      "25/07/26 05:01:03 WARN MemoryManager: Total allocation exceeds 95.00% (1,020,054,720 bytes) of heap memory\n",
      "Scaling row group sizes to 95.00% for 8 writers\n",
      "25/07/26 05:01:03 WARN MemoryManager: Total allocation exceeds 95.00% (1,020,054,720 bytes) of heap memory\n",
      "Scaling row group sizes to 95.00% for 8 writers\n",
      "                                                                                \r"
     ]
    },
    {
     "name": "stdout",
     "output_type": "stream",
     "text": [
      "Saved stratified sample: ../data/sample/Books_v1_02/amazon_us_reviews-train-00005-of-00007.parquet\n",
      "Stratified sampling: ../data/raw/Books_v1_02/amazon_us_reviews-train-00002-of-00007.parquet\n"
     ]
    },
    {
     "name": "stderr",
     "output_type": "stream",
     "text": [
      "25/07/26 05:01:04 WARN MemoryManager: Total allocation exceeds 95.00% (1,020,054,720 bytes) of heap memory\n",
      "Scaling row group sizes to 95.00% for 8 writers\n",
      "25/07/26 05:01:05 WARN MemoryManager: Total allocation exceeds 95.00% (1,020,054,720 bytes) of heap memory\n",
      "Scaling row group sizes to 95.00% for 8 writers\n",
      "                                                                                \r"
     ]
    },
    {
     "name": "stdout",
     "output_type": "stream",
     "text": [
      "Saved stratified sample: ../data/sample/Books_v1_02/amazon_us_reviews-train-00002-of-00007.parquet\n",
      "Stratified sampling: ../data/raw/Books_v1_02/amazon_us_reviews-train-00006-of-00007.parquet\n"
     ]
    },
    {
     "name": "stderr",
     "output_type": "stream",
     "text": [
      "25/07/26 05:01:06 WARN MemoryManager: Total allocation exceeds 95.00% (1,020,054,720 bytes) of heap memory\n",
      "Scaling row group sizes to 95.00% for 8 writers\n",
      "25/07/26 05:01:06 WARN MemoryManager: Total allocation exceeds 95.00% (1,020,054,720 bytes) of heap memory\n",
      "Scaling row group sizes to 95.00% for 8 writers\n",
      "25/07/26 05:01:06 WARN MemoryManager: Total allocation exceeds 95.00% (1,020,054,720 bytes) of heap memory\n",
      "Scaling row group sizes to 95.00% for 8 writers\n",
      "                                                                                \r"
     ]
    },
    {
     "name": "stdout",
     "output_type": "stream",
     "text": [
      "Saved stratified sample: ../data/sample/Books_v1_02/amazon_us_reviews-train-00006-of-00007.parquet\n",
      "Stratified sampling: ../data/raw/Books_v1_02/amazon_us_reviews-train-00003-of-00007.parquet\n"
     ]
    },
    {
     "name": "stderr",
     "output_type": "stream",
     "text": [
      "25/07/26 05:01:26 WARN MemoryManager: Total allocation exceeds 95.00% (1,020,054,720 bytes) of heap memory\n",
      "Scaling row group sizes to 95.00% for 8 writers\n",
      "25/07/26 05:01:27 WARN MemoryManager: Total allocation exceeds 95.00% (1,020,054,720 bytes) of heap memory\n",
      "Scaling row group sizes to 95.00% for 8 writers\n",
      "25/07/26 05:01:27 WARN MemoryManager: Total allocation exceeds 95.00% (1,020,054,720 bytes) of heap memory\n",
      "Scaling row group sizes to 95.00% for 8 writers\n",
      "25/07/26 05:01:27 WARN MemoryManager: Total allocation exceeds 95.00% (1,020,054,720 bytes) of heap memory\n",
      "Scaling row group sizes to 95.00% for 8 writers\n",
      "                                                                                \r"
     ]
    },
    {
     "name": "stdout",
     "output_type": "stream",
     "text": [
      "Saved stratified sample: ../data/sample/Books_v1_02/amazon_us_reviews-train-00003-of-00007.parquet\n",
      "Stratified sampling: ../data/raw/Toys_v1_00/amazon_us_reviews-train-00001-of-00005.parquet\n"
     ]
    },
    {
     "name": "stderr",
     "output_type": "stream",
     "text": [
      "25/07/26 05:01:46 WARN MemoryManager: Total allocation exceeds 95.00% (1,020,054,720 bytes) of heap memory\n",
      "Scaling row group sizes to 95.00% for 8 writers\n",
      "25/07/26 05:01:46 WARN MemoryManager: Total allocation exceeds 95.00% (1,020,054,720 bytes) of heap memory\n",
      "Scaling row group sizes to 95.00% for 8 writers\n",
      "25/07/26 05:01:47 WARN MemoryManager: Total allocation exceeds 95.00% (1,020,054,720 bytes) of heap memory\n",
      "Scaling row group sizes to 95.00% for 8 writers\n",
      "25/07/26 05:01:47 WARN MemoryManager: Total allocation exceeds 95.00% (1,020,054,720 bytes) of heap memory\n",
      "Scaling row group sizes to 95.00% for 8 writers\n",
      "25/07/26 05:01:47 WARN MemoryManager: Total allocation exceeds 95.00% (1,020,054,720 bytes) of heap memory\n",
      "Scaling row group sizes to 95.00% for 8 writers\n",
      "                                                                                \r"
     ]
    },
    {
     "name": "stdout",
     "output_type": "stream",
     "text": [
      "Saved stratified sample: ../data/sample/Toys_v1_00/amazon_us_reviews-train-00001-of-00005.parquet\n",
      "Stratified sampling: ../data/raw/Toys_v1_00/amazon_us_reviews-train-00004-of-00005.parquet\n"
     ]
    },
    {
     "name": "stderr",
     "output_type": "stream",
     "text": [
      "25/07/26 05:01:48 WARN MemoryManager: Total allocation exceeds 95.00% (1,020,054,720 bytes) of heap memory\n",
      "Scaling row group sizes to 95.00% for 8 writers\n",
      "25/07/26 05:01:48 WARN MemoryManager: Total allocation exceeds 95.00% (1,020,054,720 bytes) of heap memory\n",
      "Scaling row group sizes to 95.00% for 8 writers\n",
      "                                                                                \r"
     ]
    },
    {
     "name": "stdout",
     "output_type": "stream",
     "text": [
      "Saved stratified sample: ../data/sample/Toys_v1_00/amazon_us_reviews-train-00004-of-00005.parquet\n",
      "Stratified sampling: ../data/raw/Toys_v1_00/amazon_us_reviews-train-00000-of-00005.parquet\n"
     ]
    },
    {
     "name": "stderr",
     "output_type": "stream",
     "text": [
      "25/07/26 05:01:50 WARN MemoryManager: Total allocation exceeds 95.00% (1,020,054,720 bytes) of heap memory\n",
      "Scaling row group sizes to 95.00% for 8 writers\n",
      "25/07/26 05:01:50 WARN MemoryManager: Total allocation exceeds 95.00% (1,020,054,720 bytes) of heap memory\n",
      "Scaling row group sizes to 95.00% for 8 writers\n",
      "                                                                                \r"
     ]
    },
    {
     "name": "stdout",
     "output_type": "stream",
     "text": [
      "Saved stratified sample: ../data/sample/Toys_v1_00/amazon_us_reviews-train-00000-of-00005.parquet\n",
      "Stratified sampling: ../data/raw/Toys_v1_00/amazon_us_reviews-train-00003-of-00005.parquet\n"
     ]
    },
    {
     "name": "stderr",
     "output_type": "stream",
     "text": [
      "25/07/26 05:01:52 WARN MemoryManager: Total allocation exceeds 95.00% (1,020,054,720 bytes) of heap memory\n",
      "Scaling row group sizes to 95.00% for 8 writers\n",
      "25/07/26 05:01:52 WARN MemoryManager: Total allocation exceeds 95.00% (1,020,054,720 bytes) of heap memory\n",
      "Scaling row group sizes to 95.00% for 8 writers\n",
      "25/07/26 05:01:53 WARN MemoryManager: Total allocation exceeds 95.00% (1,020,054,720 bytes) of heap memory\n",
      "Scaling row group sizes to 95.00% for 8 writers\n",
      "                                                                                \r"
     ]
    },
    {
     "name": "stdout",
     "output_type": "stream",
     "text": [
      "Saved stratified sample: ../data/sample/Toys_v1_00/amazon_us_reviews-train-00003-of-00005.parquet\n",
      "Stratified sampling: ../data/raw/Toys_v1_00/amazon_us_reviews-train-00002-of-00005.parquet\n"
     ]
    },
    {
     "name": "stderr",
     "output_type": "stream",
     "text": [
      "25/07/26 05:02:18 WARN MemoryManager: Total allocation exceeds 95.00% (1,020,054,720 bytes) of heap memory\n",
      "Scaling row group sizes to 95.00% for 8 writers\n",
      "25/07/26 05:02:18 WARN MemoryManager: Total allocation exceeds 95.00% (1,020,054,720 bytes) of heap memory\n",
      "Scaling row group sizes to 95.00% for 8 writers\n",
      "25/07/26 05:02:19 WARN MemoryManager: Total allocation exceeds 95.00% (1,020,054,720 bytes) of heap memory\n",
      "Scaling row group sizes to 95.00% for 8 writers\n",
      "                                                                                \r"
     ]
    },
    {
     "name": "stdout",
     "output_type": "stream",
     "text": [
      "Saved stratified sample: ../data/sample/Toys_v1_00/amazon_us_reviews-train-00002-of-00005.parquet\n",
      "Stratified sampling: ../data/raw/Beauty_v1_00/amazon_us_reviews-train-00001-of-00005.parquet\n"
     ]
    },
    {
     "name": "stderr",
     "output_type": "stream",
     "text": [
      "25/07/26 05:02:39 WARN MemoryManager: Total allocation exceeds 95.00% (1,020,054,720 bytes) of heap memory\n",
      "Scaling row group sizes to 95.00% for 8 writers\n",
      "25/07/26 05:02:40 WARN MemoryManager: Total allocation exceeds 95.00% (1,020,054,720 bytes) of heap memory\n",
      "Scaling row group sizes to 95.00% for 8 writers\n",
      "                                                                                \r"
     ]
    },
    {
     "name": "stdout",
     "output_type": "stream",
     "text": [
      "Saved stratified sample: ../data/sample/Beauty_v1_00/amazon_us_reviews-train-00001-of-00005.parquet\n",
      "Stratified sampling: ../data/raw/Beauty_v1_00/amazon_us_reviews-train-00004-of-00005.parquet\n"
     ]
    },
    {
     "name": "stderr",
     "output_type": "stream",
     "text": [
      "25/07/26 05:02:41 WARN MemoryManager: Total allocation exceeds 95.00% (1,020,054,720 bytes) of heap memory\n",
      "Scaling row group sizes to 95.00% for 8 writers\n",
      "25/07/26 05:02:41 WARN MemoryManager: Total allocation exceeds 95.00% (1,020,054,720 bytes) of heap memory\n",
      "Scaling row group sizes to 95.00% for 8 writers\n",
      "25/07/26 05:02:42 WARN MemoryManager: Total allocation exceeds 95.00% (1,020,054,720 bytes) of heap memory\n",
      "Scaling row group sizes to 95.00% for 8 writers\n",
      "25/07/26 05:02:42 WARN MemoryManager: Total allocation exceeds 95.00% (1,020,054,720 bytes) of heap memory\n",
      "Scaling row group sizes to 95.00% for 8 writers\n",
      "                                                                                \r"
     ]
    },
    {
     "name": "stdout",
     "output_type": "stream",
     "text": [
      "Saved stratified sample: ../data/sample/Beauty_v1_00/amazon_us_reviews-train-00004-of-00005.parquet\n",
      "Stratified sampling: ../data/raw/Beauty_v1_00/amazon_us_reviews-train-00000-of-00005.parquet\n"
     ]
    },
    {
     "name": "stderr",
     "output_type": "stream",
     "text": [
      "25/07/26 05:03:04 WARN MemoryManager: Total allocation exceeds 95.00% (1,020,054,720 bytes) of heap memory\n",
      "Scaling row group sizes to 95.00% for 8 writers\n",
      "25/07/26 05:03:05 WARN MemoryManager: Total allocation exceeds 95.00% (1,020,054,720 bytes) of heap memory\n",
      "Scaling row group sizes to 95.00% for 8 writers\n",
      "25/07/26 05:03:05 WARN MemoryManager: Total allocation exceeds 95.00% (1,020,054,720 bytes) of heap memory\n",
      "Scaling row group sizes to 95.00% for 8 writers\n",
      "25/07/26 05:03:05 WARN MemoryManager: Total allocation exceeds 95.00% (1,020,054,720 bytes) of heap memory\n",
      "Scaling row group sizes to 95.00% for 8 writers\n",
      "25/07/26 05:03:06 WARN MemoryManager: Total allocation exceeds 95.00% (1,020,054,720 bytes) of heap memory\n",
      "Scaling row group sizes to 95.00% for 8 writers\n",
      "                                                                                \r"
     ]
    },
    {
     "name": "stdout",
     "output_type": "stream",
     "text": [
      "Saved stratified sample: ../data/sample/Beauty_v1_00/amazon_us_reviews-train-00000-of-00005.parquet\n",
      "Stratified sampling: ../data/raw/Beauty_v1_00/amazon_us_reviews-train-00003-of-00005.parquet\n"
     ]
    },
    {
     "name": "stderr",
     "output_type": "stream",
     "text": [
      "25/07/26 05:03:06 WARN MemoryManager: Total allocation exceeds 95.00% (1,020,054,720 bytes) of heap memory\n",
      "Scaling row group sizes to 95.00% for 8 writers\n",
      "25/07/26 05:03:07 WARN MemoryManager: Total allocation exceeds 95.00% (1,020,054,720 bytes) of heap memory\n",
      "Scaling row group sizes to 95.00% for 8 writers\n",
      "25/07/26 05:03:07 WARN MemoryManager: Total allocation exceeds 95.00% (1,020,054,720 bytes) of heap memory\n",
      "Scaling row group sizes to 95.00% for 8 writers\n",
      "                                                                                \r"
     ]
    },
    {
     "name": "stdout",
     "output_type": "stream",
     "text": [
      "Saved stratified sample: ../data/sample/Beauty_v1_00/amazon_us_reviews-train-00003-of-00005.parquet\n",
      "Stratified sampling: ../data/raw/Beauty_v1_00/amazon_us_reviews-train-00002-of-00005.parquet\n"
     ]
    },
    {
     "name": "stderr",
     "output_type": "stream",
     "text": [
      "25/07/26 05:03:09 WARN MemoryManager: Total allocation exceeds 95.00% (1,020,054,720 bytes) of heap memory\n",
      "Scaling row group sizes to 95.00% for 8 writers\n",
      "25/07/26 05:03:09 WARN MemoryManager: Total allocation exceeds 95.00% (1,020,054,720 bytes) of heap memory\n",
      "Scaling row group sizes to 95.00% for 8 writers\n",
      "25/07/26 05:03:09 WARN MemoryManager: Total allocation exceeds 95.00% (1,020,054,720 bytes) of heap memory\n",
      "Scaling row group sizes to 95.00% for 8 writers\n",
      "25/07/26 05:03:10 WARN MemoryManager: Total allocation exceeds 95.00% (1,020,054,720 bytes) of heap memory\n",
      "Scaling row group sizes to 95.00% for 8 writers\n",
      "                                                                                \r"
     ]
    },
    {
     "name": "stdout",
     "output_type": "stream",
     "text": [
      "Saved stratified sample: ../data/sample/Beauty_v1_00/amazon_us_reviews-train-00002-of-00005.parquet\n",
      "Stratified sampling: ../data/raw/Pet_Products_v1_00/amazon_us_reviews-train-00002-of-00003.parquet\n"
     ]
    },
    {
     "name": "stderr",
     "output_type": "stream",
     "text": [
      "25/07/26 05:03:30 WARN MemoryManager: Total allocation exceeds 95.00% (1,020,054,720 bytes) of heap memory\n",
      "Scaling row group sizes to 95.00% for 8 writers\n",
      "25/07/26 05:03:30 WARN MemoryManager: Total allocation exceeds 95.00% (1,020,054,720 bytes) of heap memory\n",
      "Scaling row group sizes to 95.00% for 8 writers\n",
      "25/07/26 05:03:31 WARN MemoryManager: Total allocation exceeds 95.00% (1,020,054,720 bytes) of heap memory\n",
      "Scaling row group sizes to 95.00% for 8 writers\n",
      "25/07/26 05:03:31 WARN MemoryManager: Total allocation exceeds 95.00% (1,020,054,720 bytes) of heap memory\n",
      "Scaling row group sizes to 95.00% for 8 writers\n",
      "                                                                                \r"
     ]
    },
    {
     "name": "stdout",
     "output_type": "stream",
     "text": [
      "Saved stratified sample: ../data/sample/Pet_Products_v1_00/amazon_us_reviews-train-00002-of-00003.parquet\n",
      "Stratified sampling: ../data/raw/Pet_Products_v1_00/amazon_us_reviews-train-00001-of-00003.parquet\n"
     ]
    },
    {
     "name": "stderr",
     "output_type": "stream",
     "text": [
      "25/07/26 05:03:32 WARN MemoryManager: Total allocation exceeds 95.00% (1,020,054,720 bytes) of heap memory\n",
      "Scaling row group sizes to 95.00% for 8 writers\n",
      "25/07/26 05:03:32 WARN MemoryManager: Total allocation exceeds 95.00% (1,020,054,720 bytes) of heap memory\n",
      "Scaling row group sizes to 95.00% for 8 writers\n",
      "25/07/26 05:03:33 WARN MemoryManager: Total allocation exceeds 95.00% (1,020,054,720 bytes) of heap memory\n",
      "Scaling row group sizes to 95.00% for 8 writers\n",
      "25/07/26 05:03:33 WARN MemoryManager: Total allocation exceeds 95.00% (1,020,054,720 bytes) of heap memory\n",
      "Scaling row group sizes to 95.00% for 8 writers\n",
      "25/07/26 05:03:33 WARN MemoryManager: Total allocation exceeds 95.00% (1,020,054,720 bytes) of heap memory\n",
      "Scaling row group sizes to 95.00% for 8 writers\n",
      "                                                                                \r"
     ]
    },
    {
     "name": "stdout",
     "output_type": "stream",
     "text": [
      "Saved stratified sample: ../data/sample/Pet_Products_v1_00/amazon_us_reviews-train-00001-of-00003.parquet\n",
      "Stratified sampling: ../data/raw/Pet_Products_v1_00/amazon_us_reviews-train-00000-of-00003.parquet\n"
     ]
    },
    {
     "name": "stderr",
     "output_type": "stream",
     "text": [
      "25/07/26 05:03:34 WARN MemoryManager: Total allocation exceeds 95.00% (1,020,054,720 bytes) of heap memory\n",
      "Scaling row group sizes to 95.00% for 8 writers\n",
      "25/07/26 05:03:34 WARN MemoryManager: Total allocation exceeds 95.00% (1,020,054,720 bytes) of heap memory\n",
      "Scaling row group sizes to 95.00% for 8 writers\n",
      "25/07/26 05:03:35 WARN MemoryManager: Total allocation exceeds 95.00% (1,020,054,720 bytes) of heap memory\n",
      "Scaling row group sizes to 95.00% for 8 writers\n",
      "                                                                                \r"
     ]
    },
    {
     "name": "stdout",
     "output_type": "stream",
     "text": [
      "Saved stratified sample: ../data/sample/Pet_Products_v1_00/amazon_us_reviews-train-00000-of-00003.parquet\n",
      "Stratified sampling: ../data/raw/Luggage_v1_00/amazon_us_reviews-train.parquet\n"
     ]
    },
    {
     "name": "stderr",
     "output_type": "stream",
     "text": [
      "25/07/26 05:03:36 WARN MemoryManager: Total allocation exceeds 95.00% (1,020,054,720 bytes) of heap memory\n",
      "Scaling row group sizes to 95.00% for 8 writers\n",
      "                                                                                \r"
     ]
    },
    {
     "name": "stdout",
     "output_type": "stream",
     "text": [
      "Saved stratified sample: ../data/sample/Luggage_v1_00/amazon_us_reviews-train.parquet\n",
      "Stratified sampling: ../data/raw/Mobile_Electronics_v1_00/amazon_us_reviews-train.parquet\n"
     ]
    },
    {
     "name": "stderr",
     "output_type": "stream",
     "text": [
      "25/07/26 05:03:46 WARN MemoryManager: Total allocation exceeds 95.00% (1,020,054,720 bytes) of heap memory\n",
      "Scaling row group sizes to 95.00% for 8 writers\n"
     ]
    },
    {
     "name": "stdout",
     "output_type": "stream",
     "text": [
      "Saved stratified sample: ../data/sample/Mobile_Electronics_v1_00/amazon_us_reviews-train.parquet\n",
      "Stratified sampling: ../data/raw/Home_Improvement_v1_00/amazon_us_reviews-train-00002-of-00003.parquet\n"
     ]
    },
    {
     "name": "stderr",
     "output_type": "stream",
     "text": [
      "25/07/26 05:03:47 WARN MemoryManager: Total allocation exceeds 95.00% (1,020,054,720 bytes) of heap memory\n",
      "Scaling row group sizes to 95.00% for 8 writers\n",
      "25/07/26 05:03:47 WARN MemoryManager: Total allocation exceeds 95.00% (1,020,054,720 bytes) of heap memory\n",
      "Scaling row group sizes to 95.00% for 8 writers\n",
      "25/07/26 05:03:48 WARN MemoryManager: Total allocation exceeds 95.00% (1,020,054,720 bytes) of heap memory\n",
      "Scaling row group sizes to 95.00% for 8 writers\n",
      "                                                                                \r"
     ]
    },
    {
     "name": "stdout",
     "output_type": "stream",
     "text": [
      "Saved stratified sample: ../data/sample/Home_Improvement_v1_00/amazon_us_reviews-train-00002-of-00003.parquet\n",
      "Stratified sampling: ../data/raw/Home_Improvement_v1_00/amazon_us_reviews-train-00001-of-00003.parquet\n"
     ]
    },
    {
     "name": "stderr",
     "output_type": "stream",
     "text": [
      "25/07/26 05:03:49 WARN MemoryManager: Total allocation exceeds 95.00% (1,020,054,720 bytes) of heap memory\n",
      "Scaling row group sizes to 95.00% for 8 writers\n",
      "                                                                                \r"
     ]
    },
    {
     "name": "stdout",
     "output_type": "stream",
     "text": [
      "Saved stratified sample: ../data/sample/Home_Improvement_v1_00/amazon_us_reviews-train-00001-of-00003.parquet\n",
      "Stratified sampling: ../data/raw/Home_Improvement_v1_00/amazon_us_reviews-train-00000-of-00003.parquet\n"
     ]
    },
    {
     "name": "stderr",
     "output_type": "stream",
     "text": [
      "25/07/26 05:03:51 WARN MemoryManager: Total allocation exceeds 95.00% (1,020,054,720 bytes) of heap memory\n",
      "Scaling row group sizes to 95.00% for 8 writers\n",
      "25/07/26 05:03:51 WARN MemoryManager: Total allocation exceeds 95.00% (1,020,054,720 bytes) of heap memory\n",
      "Scaling row group sizes to 95.00% for 8 writers\n",
      "25/07/26 05:03:51 WARN MemoryManager: Total allocation exceeds 95.00% (1,020,054,720 bytes) of heap memory\n",
      "Scaling row group sizes to 95.00% for 8 writers\n",
      "25/07/26 05:03:52 WARN MemoryManager: Total allocation exceeds 95.00% (1,020,054,720 bytes) of heap memory\n",
      "Scaling row group sizes to 95.00% for 8 writers\n",
      "25/07/26 05:03:52 WARN MemoryManager: Total allocation exceeds 95.00% (1,020,054,720 bytes) of heap memory\n",
      "Scaling row group sizes to 95.00% for 8 writers\n",
      "                                                                                \r"
     ]
    },
    {
     "name": "stdout",
     "output_type": "stream",
     "text": [
      "Saved stratified sample: ../data/sample/Home_Improvement_v1_00/amazon_us_reviews-train-00000-of-00003.parquet\n",
      "Stratified sampling: ../data/raw/Home_v1_00/amazon_us_reviews-train-00004-of-00006.parquet\n"
     ]
    },
    {
     "name": "stderr",
     "output_type": "stream",
     "text": [
      "25/07/26 05:04:10 WARN MemoryManager: Total allocation exceeds 95.00% (1,020,054,720 bytes) of heap memory\n",
      "Scaling row group sizes to 95.00% for 8 writers\n",
      "25/07/26 05:04:10 WARN MemoryManager: Total allocation exceeds 95.00% (1,020,054,720 bytes) of heap memory\n",
      "Scaling row group sizes to 95.00% for 8 writers\n",
      "25/07/26 05:04:10 WARN MemoryManager: Total allocation exceeds 95.00% (1,020,054,720 bytes) of heap memory\n",
      "Scaling row group sizes to 95.00% for 8 writers\n",
      "25/07/26 05:04:11 WARN MemoryManager: Total allocation exceeds 95.00% (1,020,054,720 bytes) of heap memory\n",
      "Scaling row group sizes to 95.00% for 8 writers\n",
      "                                                                                \r"
     ]
    },
    {
     "name": "stdout",
     "output_type": "stream",
     "text": [
      "Saved stratified sample: ../data/sample/Home_v1_00/amazon_us_reviews-train-00004-of-00006.parquet\n",
      "Stratified sampling: ../data/raw/Home_v1_00/amazon_us_reviews-train-00000-of-00006.parquet\n"
     ]
    },
    {
     "name": "stderr",
     "output_type": "stream",
     "text": [
      "25/07/26 05:04:12 WARN MemoryManager: Total allocation exceeds 95.00% (1,020,054,720 bytes) of heap memory\n",
      "Scaling row group sizes to 95.00% for 8 writers\n",
      "25/07/26 05:04:12 WARN MemoryManager: Total allocation exceeds 95.00% (1,020,054,720 bytes) of heap memory\n",
      "Scaling row group sizes to 95.00% for 8 writers\n",
      "25/07/26 05:04:13 WARN MemoryManager: Total allocation exceeds 95.00% (1,020,054,720 bytes) of heap memory\n",
      "Scaling row group sizes to 95.00% for 8 writers\n",
      "                                                                                \r"
     ]
    },
    {
     "name": "stdout",
     "output_type": "stream",
     "text": [
      "Saved stratified sample: ../data/sample/Home_v1_00/amazon_us_reviews-train-00000-of-00006.parquet\n",
      "Stratified sampling: ../data/raw/Home_v1_00/amazon_us_reviews-train-00005-of-00006.parquet\n"
     ]
    },
    {
     "name": "stderr",
     "output_type": "stream",
     "text": [
      "25/07/26 05:04:14 WARN MemoryManager: Total allocation exceeds 95.00% (1,020,054,720 bytes) of heap memory\n",
      "Scaling row group sizes to 95.00% for 8 writers\n",
      "25/07/26 05:04:14 WARN MemoryManager: Total allocation exceeds 95.00% (1,020,054,720 bytes) of heap memory\n",
      "Scaling row group sizes to 95.00% for 8 writers\n",
      "25/07/26 05:04:14 WARN MemoryManager: Total allocation exceeds 95.00% (1,020,054,720 bytes) of heap memory\n",
      "Scaling row group sizes to 95.00% for 8 writers\n",
      "                                                                                \r"
     ]
    },
    {
     "name": "stdout",
     "output_type": "stream",
     "text": [
      "Saved stratified sample: ../data/sample/Home_v1_00/amazon_us_reviews-train-00005-of-00006.parquet\n",
      "Stratified sampling: ../data/raw/Home_v1_00/amazon_us_reviews-train-00001-of-00006.parquet\n"
     ]
    },
    {
     "name": "stderr",
     "output_type": "stream",
     "text": [
      "25/07/26 05:04:16 WARN MemoryManager: Total allocation exceeds 95.00% (1,020,054,720 bytes) of heap memory\n",
      "Scaling row group sizes to 95.00% for 8 writers\n",
      "25/07/26 05:04:16 WARN MemoryManager: Total allocation exceeds 95.00% (1,020,054,720 bytes) of heap memory\n",
      "Scaling row group sizes to 95.00% for 8 writers\n",
      "25/07/26 05:04:17 WARN MemoryManager: Total allocation exceeds 95.00% (1,020,054,720 bytes) of heap memory\n",
      "Scaling row group sizes to 95.00% for 8 writers\n",
      "25/07/26 05:04:17 WARN MemoryManager: Total allocation exceeds 95.00% (1,020,054,720 bytes) of heap memory\n",
      "Scaling row group sizes to 95.00% for 8 writers\n",
      "25/07/26 05:04:17 WARN MemoryManager: Total allocation exceeds 95.00% (1,020,054,720 bytes) of heap memory\n",
      "Scaling row group sizes to 95.00% for 8 writers\n",
      "                                                                                \r"
     ]
    },
    {
     "name": "stdout",
     "output_type": "stream",
     "text": [
      "Saved stratified sample: ../data/sample/Home_v1_00/amazon_us_reviews-train-00001-of-00006.parquet\n",
      "Stratified sampling: ../data/raw/Home_v1_00/amazon_us_reviews-train-00002-of-00006.parquet\n"
     ]
    },
    {
     "name": "stderr",
     "output_type": "stream",
     "text": [
      "25/07/26 05:04:18 WARN MemoryManager: Total allocation exceeds 95.00% (1,020,054,720 bytes) of heap memory\n",
      "Scaling row group sizes to 95.00% for 8 writers\n",
      "25/07/26 05:04:19 WARN MemoryManager: Total allocation exceeds 95.00% (1,020,054,720 bytes) of heap memory\n",
      "Scaling row group sizes to 95.00% for 8 writers\n",
      "25/07/26 05:04:19 WARN MemoryManager: Total allocation exceeds 95.00% (1,020,054,720 bytes) of heap memory\n",
      "Scaling row group sizes to 95.00% for 8 writers\n",
      "25/07/26 05:04:19 WARN MemoryManager: Total allocation exceeds 95.00% (1,020,054,720 bytes) of heap memory\n",
      "Scaling row group sizes to 95.00% for 8 writers\n",
      "25/07/26 05:04:20 WARN MemoryManager: Total allocation exceeds 95.00% (1,020,054,720 bytes) of heap memory\n",
      "Scaling row group sizes to 95.00% for 8 writers\n",
      "                                                                                \r"
     ]
    },
    {
     "name": "stdout",
     "output_type": "stream",
     "text": [
      "Saved stratified sample: ../data/sample/Home_v1_00/amazon_us_reviews-train-00002-of-00006.parquet\n",
      "Stratified sampling: ../data/raw/Home_v1_00/amazon_us_reviews-train-00003-of-00006.parquet\n"
     ]
    },
    {
     "name": "stderr",
     "output_type": "stream",
     "text": [
      "25/07/26 05:04:20 WARN MemoryManager: Total allocation exceeds 95.00% (1,020,054,720 bytes) of heap memory\n",
      "Scaling row group sizes to 95.00% for 8 writers\n",
      "25/07/26 05:04:21 WARN MemoryManager: Total allocation exceeds 95.00% (1,020,054,720 bytes) of heap memory\n",
      "Scaling row group sizes to 95.00% for 8 writers\n",
      "25/07/26 05:04:21 WARN MemoryManager: Total allocation exceeds 95.00% (1,020,054,720 bytes) of heap memory\n",
      "Scaling row group sizes to 95.00% for 8 writers\n",
      "25/07/26 05:04:21 WARN MemoryManager: Total allocation exceeds 95.00% (1,020,054,720 bytes) of heap memory\n",
      "Scaling row group sizes to 95.00% for 8 writers\n",
      "                                                                                \r"
     ]
    },
    {
     "name": "stdout",
     "output_type": "stream",
     "text": [
      "Saved stratified sample: ../data/sample/Home_v1_00/amazon_us_reviews-train-00003-of-00006.parquet\n",
      "Stratified sampling: ../data/raw/Sports_v1_00/amazon_us_reviews-train-00001-of-00005.parquet\n"
     ]
    },
    {
     "name": "stderr",
     "output_type": "stream",
     "text": [
      "25/07/26 05:04:35 WARN MemoryManager: Total allocation exceeds 95.00% (1,020,054,720 bytes) of heap memory\n",
      "Scaling row group sizes to 95.00% for 8 writers\n",
      "25/07/26 05:04:36 WARN MemoryManager: Total allocation exceeds 95.00% (1,020,054,720 bytes) of heap memory\n",
      "Scaling row group sizes to 95.00% for 8 writers\n",
      "                                                                                \r"
     ]
    },
    {
     "name": "stdout",
     "output_type": "stream",
     "text": [
      "Saved stratified sample: ../data/sample/Sports_v1_00/amazon_us_reviews-train-00001-of-00005.parquet\n",
      "Stratified sampling: ../data/raw/Sports_v1_00/amazon_us_reviews-train-00004-of-00005.parquet\n"
     ]
    },
    {
     "name": "stderr",
     "output_type": "stream",
     "text": [
      "25/07/26 05:04:37 WARN MemoryManager: Total allocation exceeds 95.00% (1,020,054,720 bytes) of heap memory\n",
      "Scaling row group sizes to 95.00% for 8 writers\n",
      "25/07/26 05:04:38 WARN MemoryManager: Total allocation exceeds 95.00% (1,020,054,720 bytes) of heap memory\n",
      "Scaling row group sizes to 95.00% for 8 writers\n",
      "                                                                                \r"
     ]
    },
    {
     "name": "stdout",
     "output_type": "stream",
     "text": [
      "Saved stratified sample: ../data/sample/Sports_v1_00/amazon_us_reviews-train-00004-of-00005.parquet\n",
      "Stratified sampling: ../data/raw/Sports_v1_00/amazon_us_reviews-train-00000-of-00005.parquet\n"
     ]
    },
    {
     "name": "stderr",
     "output_type": "stream",
     "text": [
      "25/07/26 05:04:39 WARN MemoryManager: Total allocation exceeds 95.00% (1,020,054,720 bytes) of heap memory\n",
      "Scaling row group sizes to 95.00% for 8 writers\n",
      "25/07/26 05:04:39 WARN MemoryManager: Total allocation exceeds 95.00% (1,020,054,720 bytes) of heap memory\n",
      "Scaling row group sizes to 95.00% for 8 writers\n",
      "25/07/26 05:04:40 WARN MemoryManager: Total allocation exceeds 95.00% (1,020,054,720 bytes) of heap memory\n",
      "Scaling row group sizes to 95.00% for 8 writers\n",
      "25/07/26 05:04:40 WARN MemoryManager: Total allocation exceeds 95.00% (1,020,054,720 bytes) of heap memory\n",
      "Scaling row group sizes to 95.00% for 8 writers\n",
      "                                                                                \r"
     ]
    },
    {
     "name": "stdout",
     "output_type": "stream",
     "text": [
      "Saved stratified sample: ../data/sample/Sports_v1_00/amazon_us_reviews-train-00000-of-00005.parquet\n",
      "Stratified sampling: ../data/raw/Sports_v1_00/amazon_us_reviews-train-00003-of-00005.parquet\n"
     ]
    },
    {
     "name": "stderr",
     "output_type": "stream",
     "text": [
      "25/07/26 05:04:41 WARN MemoryManager: Total allocation exceeds 95.00% (1,020,054,720 bytes) of heap memory\n",
      "Scaling row group sizes to 95.00% for 8 writers\n",
      "25/07/26 05:04:42 WARN MemoryManager: Total allocation exceeds 95.00% (1,020,054,720 bytes) of heap memory\n",
      "Scaling row group sizes to 95.00% for 8 writers\n",
      "                                                                                \r"
     ]
    },
    {
     "name": "stdout",
     "output_type": "stream",
     "text": [
      "Saved stratified sample: ../data/sample/Sports_v1_00/amazon_us_reviews-train-00003-of-00005.parquet\n",
      "Stratified sampling: ../data/raw/Sports_v1_00/amazon_us_reviews-train-00002-of-00005.parquet\n"
     ]
    },
    {
     "name": "stderr",
     "output_type": "stream",
     "text": [
      "25/07/26 05:04:44 WARN MemoryManager: Total allocation exceeds 95.00% (1,020,054,720 bytes) of heap memory\n",
      "Scaling row group sizes to 95.00% for 8 writers\n",
      "25/07/26 05:04:44 WARN MemoryManager: Total allocation exceeds 95.00% (1,020,054,720 bytes) of heap memory\n",
      "Scaling row group sizes to 95.00% for 8 writers\n",
      "25/07/26 05:04:45 WARN MemoryManager: Total allocation exceeds 95.00% (1,020,054,720 bytes) of heap memory\n",
      "Scaling row group sizes to 95.00% for 8 writers\n",
      "25/07/26 05:04:45 WARN MemoryManager: Total allocation exceeds 95.00% (1,020,054,720 bytes) of heap memory\n",
      "Scaling row group sizes to 95.00% for 8 writers\n",
      "                                                                                \r"
     ]
    },
    {
     "name": "stdout",
     "output_type": "stream",
     "text": [
      "Saved stratified sample: ../data/sample/Sports_v1_00/amazon_us_reviews-train-00002-of-00005.parquet\n",
      "Stratified sampling: ../data/raw/Kitchen_v1_00/amazon_us_reviews-train-00001-of-00005.parquet\n"
     ]
    },
    {
     "name": "stderr",
     "output_type": "stream",
     "text": [
      "25/07/26 05:04:47 WARN MemoryManager: Total allocation exceeds 95.00% (1,020,054,720 bytes) of heap memory\n",
      "Scaling row group sizes to 95.00% for 8 writers\n",
      "25/07/26 05:04:47 WARN MemoryManager: Total allocation exceeds 95.00% (1,020,054,720 bytes) of heap memory\n",
      "Scaling row group sizes to 95.00% for 8 writers\n",
      "25/07/26 05:04:47 WARN MemoryManager: Total allocation exceeds 95.00% (1,020,054,720 bytes) of heap memory\n",
      "Scaling row group sizes to 95.00% for 8 writers\n",
      "25/07/26 05:04:48 WARN MemoryManager: Total allocation exceeds 95.00% (1,020,054,720 bytes) of heap memory\n",
      "Scaling row group sizes to 95.00% for 8 writers\n",
      "25/07/26 05:04:48 WARN MemoryManager: Total allocation exceeds 95.00% (1,020,054,720 bytes) of heap memory\n",
      "Scaling row group sizes to 95.00% for 8 writers\n",
      "                                                                                \r"
     ]
    },
    {
     "name": "stdout",
     "output_type": "stream",
     "text": [
      "Saved stratified sample: ../data/sample/Kitchen_v1_00/amazon_us_reviews-train-00001-of-00005.parquet\n",
      "Stratified sampling: ../data/raw/Kitchen_v1_00/amazon_us_reviews-train-00004-of-00005.parquet\n"
     ]
    },
    {
     "name": "stderr",
     "output_type": "stream",
     "text": [
      "25/07/26 05:04:49 WARN MemoryManager: Total allocation exceeds 95.00% (1,020,054,720 bytes) of heap memory\n",
      "Scaling row group sizes to 95.00% for 8 writers\n",
      "                                                                                \r"
     ]
    },
    {
     "name": "stdout",
     "output_type": "stream",
     "text": [
      "Saved stratified sample: ../data/sample/Kitchen_v1_00/amazon_us_reviews-train-00004-of-00005.parquet\n",
      "Stratified sampling: ../data/raw/Kitchen_v1_00/amazon_us_reviews-train-00000-of-00005.parquet\n"
     ]
    },
    {
     "name": "stderr",
     "output_type": "stream",
     "text": [
      "25/07/26 05:04:52 WARN MemoryManager: Total allocation exceeds 95.00% (1,020,054,720 bytes) of heap memory\n",
      "Scaling row group sizes to 95.00% for 8 writers\n",
      "25/07/26 05:04:52 WARN MemoryManager: Total allocation exceeds 95.00% (1,020,054,720 bytes) of heap memory\n",
      "Scaling row group sizes to 95.00% for 8 writers\n",
      "25/07/26 05:04:52 WARN MemoryManager: Total allocation exceeds 95.00% (1,020,054,720 bytes) of heap memory\n",
      "Scaling row group sizes to 95.00% for 8 writers\n",
      "25/07/26 05:04:53 WARN MemoryManager: Total allocation exceeds 95.00% (1,020,054,720 bytes) of heap memory\n",
      "Scaling row group sizes to 95.00% for 8 writers\n",
      "                                                                                \r"
     ]
    },
    {
     "name": "stdout",
     "output_type": "stream",
     "text": [
      "Saved stratified sample: ../data/sample/Kitchen_v1_00/amazon_us_reviews-train-00000-of-00005.parquet\n",
      "Stratified sampling: ../data/raw/Kitchen_v1_00/amazon_us_reviews-train-00003-of-00005.parquet\n"
     ]
    },
    {
     "name": "stderr",
     "output_type": "stream",
     "text": [
      "25/07/26 05:05:11 WARN MemoryManager: Total allocation exceeds 95.00% (1,020,054,720 bytes) of heap memory\n",
      "Scaling row group sizes to 95.00% for 8 writers\n",
      "25/07/26 05:05:12 WARN MemoryManager: Total allocation exceeds 95.00% (1,020,054,720 bytes) of heap memory\n",
      "Scaling row group sizes to 95.00% for 8 writers\n",
      "25/07/26 05:05:12 WARN MemoryManager: Total allocation exceeds 95.00% (1,020,054,720 bytes) of heap memory\n",
      "Scaling row group sizes to 95.00% for 8 writers\n",
      "25/07/26 05:05:12 WARN MemoryManager: Total allocation exceeds 95.00% (1,020,054,720 bytes) of heap memory\n",
      "Scaling row group sizes to 95.00% for 8 writers\n",
      "                                                                                \r"
     ]
    },
    {
     "name": "stdout",
     "output_type": "stream",
     "text": [
      "Saved stratified sample: ../data/sample/Kitchen_v1_00/amazon_us_reviews-train-00003-of-00005.parquet\n",
      "Stratified sampling: ../data/raw/Kitchen_v1_00/amazon_us_reviews-train-00002-of-00005.parquet\n"
     ]
    },
    {
     "name": "stderr",
     "output_type": "stream",
     "text": [
      "25/07/26 05:05:13 WARN MemoryManager: Total allocation exceeds 95.00% (1,020,054,720 bytes) of heap memory\n",
      "Scaling row group sizes to 95.00% for 8 writers\n",
      "25/07/26 05:05:14 WARN MemoryManager: Total allocation exceeds 95.00% (1,020,054,720 bytes) of heap memory\n",
      "Scaling row group sizes to 95.00% for 8 writers\n",
      "25/07/26 05:05:14 WARN MemoryManager: Total allocation exceeds 95.00% (1,020,054,720 bytes) of heap memory\n",
      "Scaling row group sizes to 95.00% for 8 writers\n",
      "25/07/26 05:05:15 WARN MemoryManager: Total allocation exceeds 95.00% (1,020,054,720 bytes) of heap memory\n",
      "Scaling row group sizes to 95.00% for 8 writers\n",
      "                                                                                \r"
     ]
    },
    {
     "name": "stdout",
     "output_type": "stream",
     "text": [
      "Saved stratified sample: ../data/sample/Kitchen_v1_00/amazon_us_reviews-train-00002-of-00005.parquet\n",
      "Stratified sampling: ../data/raw/Wireless_v1_00/amazon_us_reviews-train-00009-of-00010.parquet\n"
     ]
    },
    {
     "name": "stderr",
     "output_type": "stream",
     "text": [
      "25/07/26 05:05:25 WARN MemoryManager: Total allocation exceeds 95.00% (1,020,054,720 bytes) of heap memory\n",
      "Scaling row group sizes to 95.00% for 8 writers\n"
     ]
    },
    {
     "name": "stdout",
     "output_type": "stream",
     "text": [
      "Saved stratified sample: ../data/sample/Wireless_v1_00/amazon_us_reviews-train-00009-of-00010.parquet\n",
      "Stratified sampling: ../data/raw/Wireless_v1_00/amazon_us_reviews-train-00002-of-00010.parquet\n"
     ]
    },
    {
     "name": "stderr",
     "output_type": "stream",
     "text": [
      "25/07/26 05:05:27 WARN MemoryManager: Total allocation exceeds 95.00% (1,020,054,720 bytes) of heap memory\n",
      "Scaling row group sizes to 95.00% for 8 writers\n",
      "25/07/26 05:05:27 WARN MemoryManager: Total allocation exceeds 95.00% (1,020,054,720 bytes) of heap memory\n",
      "Scaling row group sizes to 95.00% for 8 writers\n",
      "25/07/26 05:05:27 WARN MemoryManager: Total allocation exceeds 95.00% (1,020,054,720 bytes) of heap memory\n",
      "Scaling row group sizes to 95.00% for 8 writers\n",
      "25/07/26 05:05:28 WARN MemoryManager: Total allocation exceeds 95.00% (1,020,054,720 bytes) of heap memory\n",
      "Scaling row group sizes to 95.00% for 8 writers\n",
      "                                                                                \r"
     ]
    },
    {
     "name": "stdout",
     "output_type": "stream",
     "text": [
      "Saved stratified sample: ../data/sample/Wireless_v1_00/amazon_us_reviews-train-00002-of-00010.parquet\n",
      "Stratified sampling: ../data/raw/Wireless_v1_00/amazon_us_reviews-train-00006-of-00010.parquet\n"
     ]
    },
    {
     "name": "stderr",
     "output_type": "stream",
     "text": [
      "25/07/26 05:05:45 WARN MemoryManager: Total allocation exceeds 95.00% (1,020,054,720 bytes) of heap memory\n",
      "Scaling row group sizes to 95.00% for 8 writers\n",
      "25/07/26 05:05:45 WARN MemoryManager: Total allocation exceeds 95.00% (1,020,054,720 bytes) of heap memory\n",
      "Scaling row group sizes to 95.00% for 8 writers\n",
      "25/07/26 05:05:45 WARN MemoryManager: Total allocation exceeds 95.00% (1,020,054,720 bytes) of heap memory\n",
      "Scaling row group sizes to 95.00% for 8 writers\n",
      "25/07/26 05:05:46 WARN MemoryManager: Total allocation exceeds 95.00% (1,020,054,720 bytes) of heap memory\n",
      "Scaling row group sizes to 95.00% for 8 writers\n",
      "                                                                                \r"
     ]
    },
    {
     "name": "stdout",
     "output_type": "stream",
     "text": [
      "Saved stratified sample: ../data/sample/Wireless_v1_00/amazon_us_reviews-train-00006-of-00010.parquet\n",
      "Stratified sampling: ../data/raw/Wireless_v1_00/amazon_us_reviews-train-00008-of-00010.parquet\n"
     ]
    },
    {
     "name": "stderr",
     "output_type": "stream",
     "text": [
      "25/07/26 05:05:47 WARN MemoryManager: Total allocation exceeds 95.00% (1,020,054,720 bytes) of heap memory\n",
      "Scaling row group sizes to 95.00% for 8 writers\n",
      "25/07/26 05:05:47 WARN MemoryManager: Total allocation exceeds 95.00% (1,020,054,720 bytes) of heap memory\n",
      "Scaling row group sizes to 95.00% for 8 writers\n",
      "25/07/26 05:05:47 WARN MemoryManager: Total allocation exceeds 95.00% (1,020,054,720 bytes) of heap memory\n",
      "Scaling row group sizes to 95.00% for 8 writers\n",
      "                                                                                \r"
     ]
    },
    {
     "name": "stdout",
     "output_type": "stream",
     "text": [
      "Saved stratified sample: ../data/sample/Wireless_v1_00/amazon_us_reviews-train-00008-of-00010.parquet\n",
      "Stratified sampling: ../data/raw/Wireless_v1_00/amazon_us_reviews-train-00003-of-00010.parquet\n"
     ]
    },
    {
     "name": "stderr",
     "output_type": "stream",
     "text": [
      "25/07/26 05:05:48 WARN MemoryManager: Total allocation exceeds 95.00% (1,020,054,720 bytes) of heap memory\n",
      "Scaling row group sizes to 95.00% for 8 writers\n",
      "25/07/26 05:05:49 WARN MemoryManager: Total allocation exceeds 95.00% (1,020,054,720 bytes) of heap memory\n",
      "Scaling row group sizes to 95.00% for 8 writers\n",
      "25/07/26 05:05:49 WARN MemoryManager: Total allocation exceeds 95.00% (1,020,054,720 bytes) of heap memory\n",
      "Scaling row group sizes to 95.00% for 8 writers\n",
      "                                                                                \r"
     ]
    },
    {
     "name": "stdout",
     "output_type": "stream",
     "text": [
      "Saved stratified sample: ../data/sample/Wireless_v1_00/amazon_us_reviews-train-00003-of-00010.parquet\n",
      "Stratified sampling: ../data/raw/Wireless_v1_00/amazon_us_reviews-train-00007-of-00010.parquet\n"
     ]
    },
    {
     "name": "stderr",
     "output_type": "stream",
     "text": [
      "25/07/26 05:05:51 WARN MemoryManager: Total allocation exceeds 95.00% (1,020,054,720 bytes) of heap memory\n",
      "Scaling row group sizes to 95.00% for 8 writers\n",
      "25/07/26 05:05:51 WARN MemoryManager: Total allocation exceeds 95.00% (1,020,054,720 bytes) of heap memory\n",
      "Scaling row group sizes to 95.00% for 8 writers\n",
      "25/07/26 05:05:51 WARN MemoryManager: Total allocation exceeds 95.00% (1,020,054,720 bytes) of heap memory\n",
      "Scaling row group sizes to 95.00% for 8 writers\n",
      "25/07/26 05:05:51 WARN MemoryManager: Total allocation exceeds 95.00% (1,020,054,720 bytes) of heap memory\n",
      "Scaling row group sizes to 95.00% for 8 writers\n",
      "25/07/26 05:05:52 WARN MemoryManager: Total allocation exceeds 95.00% (1,020,054,720 bytes) of heap memory\n",
      "Scaling row group sizes to 95.00% for 8 writers\n",
      "                                                                                \r"
     ]
    },
    {
     "name": "stdout",
     "output_type": "stream",
     "text": [
      "Saved stratified sample: ../data/sample/Wireless_v1_00/amazon_us_reviews-train-00007-of-00010.parquet\n",
      "Stratified sampling: ../data/raw/Wireless_v1_00/amazon_us_reviews-train-00000-of-00010.parquet\n"
     ]
    },
    {
     "name": "stderr",
     "output_type": "stream",
     "text": [
      "25/07/26 05:05:53 WARN MemoryManager: Total allocation exceeds 95.00% (1,020,054,720 bytes) of heap memory\n",
      "Scaling row group sizes to 95.00% for 8 writers\n",
      "25/07/26 05:05:53 WARN MemoryManager: Total allocation exceeds 95.00% (1,020,054,720 bytes) of heap memory\n",
      "Scaling row group sizes to 95.00% for 8 writers\n",
      "25/07/26 05:05:53 WARN MemoryManager: Total allocation exceeds 95.00% (1,020,054,720 bytes) of heap memory\n",
      "Scaling row group sizes to 95.00% for 8 writers\n",
      "25/07/26 05:05:54 WARN MemoryManager: Total allocation exceeds 95.00% (1,020,054,720 bytes) of heap memory\n",
      "Scaling row group sizes to 95.00% for 8 writers\n",
      "25/07/26 05:05:54 WARN MemoryManager: Total allocation exceeds 95.00% (1,020,054,720 bytes) of heap memory\n",
      "Scaling row group sizes to 95.00% for 8 writers\n",
      "                                                                                \r"
     ]
    },
    {
     "name": "stdout",
     "output_type": "stream",
     "text": [
      "Saved stratified sample: ../data/sample/Wireless_v1_00/amazon_us_reviews-train-00000-of-00010.parquet\n",
      "Stratified sampling: ../data/raw/Wireless_v1_00/amazon_us_reviews-train-00004-of-00010.parquet\n"
     ]
    },
    {
     "name": "stderr",
     "output_type": "stream",
     "text": [
      "25/07/26 05:06:12 WARN MemoryManager: Total allocation exceeds 95.00% (1,020,054,720 bytes) of heap memory\n",
      "Scaling row group sizes to 95.00% for 8 writers\n",
      "25/07/26 05:06:12 WARN MemoryManager: Total allocation exceeds 95.00% (1,020,054,720 bytes) of heap memory\n",
      "Scaling row group sizes to 95.00% for 8 writers\n",
      "25/07/26 05:06:13 WARN MemoryManager: Total allocation exceeds 95.00% (1,020,054,720 bytes) of heap memory\n",
      "Scaling row group sizes to 95.00% for 8 writers\n",
      "                                                                                \r"
     ]
    },
    {
     "name": "stdout",
     "output_type": "stream",
     "text": [
      "Saved stratified sample: ../data/sample/Wireless_v1_00/amazon_us_reviews-train-00004-of-00010.parquet\n",
      "Stratified sampling: ../data/raw/Wireless_v1_00/amazon_us_reviews-train-00001-of-00010.parquet\n"
     ]
    },
    {
     "name": "stderr",
     "output_type": "stream",
     "text": [
      "25/07/26 05:06:30 WARN MemoryManager: Total allocation exceeds 95.00% (1,020,054,720 bytes) of heap memory\n",
      "Scaling row group sizes to 95.00% for 8 writers\n",
      "25/07/26 05:06:30 WARN MemoryManager: Total allocation exceeds 95.00% (1,020,054,720 bytes) of heap memory\n",
      "Scaling row group sizes to 95.00% for 8 writers\n",
      "25/07/26 05:06:30 WARN MemoryManager: Total allocation exceeds 95.00% (1,020,054,720 bytes) of heap memory\n",
      "Scaling row group sizes to 95.00% for 8 writers\n",
      "25/07/26 05:06:31 WARN MemoryManager: Total allocation exceeds 95.00% (1,020,054,720 bytes) of heap memory\n",
      "Scaling row group sizes to 95.00% for 8 writers\n",
      "25/07/26 05:06:31 WARN MemoryManager: Total allocation exceeds 95.00% (1,020,054,720 bytes) of heap memory\n",
      "Scaling row group sizes to 95.00% for 8 writers\n",
      "                                                                                \r"
     ]
    },
    {
     "name": "stdout",
     "output_type": "stream",
     "text": [
      "Saved stratified sample: ../data/sample/Wireless_v1_00/amazon_us_reviews-train-00001-of-00010.parquet\n",
      "Stratified sampling: ../data/raw/Wireless_v1_00/amazon_us_reviews-train-00005-of-00010.parquet\n"
     ]
    },
    {
     "name": "stderr",
     "output_type": "stream",
     "text": [
      "25/07/26 05:06:32 WARN MemoryManager: Total allocation exceeds 95.00% (1,020,054,720 bytes) of heap memory\n",
      "Scaling row group sizes to 95.00% for 8 writers\n",
      "25/07/26 05:06:32 WARN MemoryManager: Total allocation exceeds 95.00% (1,020,054,720 bytes) of heap memory\n",
      "Scaling row group sizes to 95.00% for 8 writers\n",
      "25/07/26 05:06:33 WARN MemoryManager: Total allocation exceeds 95.00% (1,020,054,720 bytes) of heap memory\n",
      "Scaling row group sizes to 95.00% for 8 writers\n",
      "                                                                                \r"
     ]
    },
    {
     "name": "stdout",
     "output_type": "stream",
     "text": [
      "Saved stratified sample: ../data/sample/Wireless_v1_00/amazon_us_reviews-train-00005-of-00010.parquet\n",
      "Stratified sampling: ../data/raw/Health_Personal_Care_v1_00/amazon_us_reviews-train-00004-of-00006.parquet\n"
     ]
    },
    {
     "name": "stderr",
     "output_type": "stream",
     "text": [
      "25/07/26 05:06:34 WARN MemoryManager: Total allocation exceeds 95.00% (1,020,054,720 bytes) of heap memory\n",
      "Scaling row group sizes to 95.00% for 8 writers\n",
      "25/07/26 05:06:35 WARN MemoryManager: Total allocation exceeds 95.00% (1,020,054,720 bytes) of heap memory\n",
      "Scaling row group sizes to 95.00% for 8 writers\n",
      "25/07/26 05:06:35 WARN MemoryManager: Total allocation exceeds 95.00% (1,020,054,720 bytes) of heap memory\n",
      "Scaling row group sizes to 95.00% for 8 writers\n",
      "                                                                                \r"
     ]
    },
    {
     "name": "stdout",
     "output_type": "stream",
     "text": [
      "Saved stratified sample: ../data/sample/Health_Personal_Care_v1_00/amazon_us_reviews-train-00004-of-00006.parquet\n",
      "Stratified sampling: ../data/raw/Health_Personal_Care_v1_00/amazon_us_reviews-train-00000-of-00006.parquet\n"
     ]
    },
    {
     "name": "stderr",
     "output_type": "stream",
     "text": [
      "25/07/26 05:06:37 WARN MemoryManager: Total allocation exceeds 95.00% (1,020,054,720 bytes) of heap memory\n",
      "Scaling row group sizes to 95.00% for 8 writers\n",
      "25/07/26 05:06:37 WARN MemoryManager: Total allocation exceeds 95.00% (1,020,054,720 bytes) of heap memory\n",
      "Scaling row group sizes to 95.00% for 8 writers\n",
      "25/07/26 05:06:37 WARN MemoryManager: Total allocation exceeds 95.00% (1,020,054,720 bytes) of heap memory\n",
      "Scaling row group sizes to 95.00% for 8 writers\n",
      "25/07/26 05:06:38 WARN MemoryManager: Total allocation exceeds 95.00% (1,020,054,720 bytes) of heap memory\n",
      "Scaling row group sizes to 95.00% for 8 writers\n",
      "25/07/26 05:06:38 WARN MemoryManager: Total allocation exceeds 95.00% (1,020,054,720 bytes) of heap memory\n",
      "Scaling row group sizes to 95.00% for 8 writers\n",
      "                                                                                \r"
     ]
    },
    {
     "name": "stdout",
     "output_type": "stream",
     "text": [
      "Saved stratified sample: ../data/sample/Health_Personal_Care_v1_00/amazon_us_reviews-train-00000-of-00006.parquet\n",
      "Stratified sampling: ../data/raw/Health_Personal_Care_v1_00/amazon_us_reviews-train-00005-of-00006.parquet\n"
     ]
    },
    {
     "name": "stderr",
     "output_type": "stream",
     "text": [
      "25/07/26 05:06:50 WARN MemoryManager: Total allocation exceeds 95.00% (1,020,054,720 bytes) of heap memory\n",
      "Scaling row group sizes to 95.00% for 8 writers\n",
      "                                                                                \r"
     ]
    },
    {
     "name": "stdout",
     "output_type": "stream",
     "text": [
      "Saved stratified sample: ../data/sample/Health_Personal_Care_v1_00/amazon_us_reviews-train-00005-of-00006.parquet\n",
      "Stratified sampling: ../data/raw/Health_Personal_Care_v1_00/amazon_us_reviews-train-00001-of-00006.parquet\n"
     ]
    },
    {
     "name": "stderr",
     "output_type": "stream",
     "text": [
      "25/07/26 05:06:51 WARN MemoryManager: Total allocation exceeds 95.00% (1,020,054,720 bytes) of heap memory\n",
      "Scaling row group sizes to 95.00% for 8 writers\n",
      "25/07/26 05:06:52 WARN MemoryManager: Total allocation exceeds 95.00% (1,020,054,720 bytes) of heap memory\n",
      "Scaling row group sizes to 95.00% for 8 writers\n",
      "25/07/26 05:06:52 WARN MemoryManager: Total allocation exceeds 95.00% (1,020,054,720 bytes) of heap memory\n",
      "Scaling row group sizes to 95.00% for 8 writers\n",
      "25/07/26 05:06:52 WARN MemoryManager: Total allocation exceeds 95.00% (1,020,054,720 bytes) of heap memory\n",
      "Scaling row group sizes to 95.00% for 8 writers\n",
      "25/07/26 05:06:53 WARN MemoryManager: Total allocation exceeds 95.00% (1,020,054,720 bytes) of heap memory\n",
      "Scaling row group sizes to 95.00% for 8 writers\n",
      "                                                                                \r"
     ]
    },
    {
     "name": "stdout",
     "output_type": "stream",
     "text": [
      "Saved stratified sample: ../data/sample/Health_Personal_Care_v1_00/amazon_us_reviews-train-00001-of-00006.parquet\n",
      "Stratified sampling: ../data/raw/Health_Personal_Care_v1_00/amazon_us_reviews-train-00002-of-00006.parquet\n"
     ]
    },
    {
     "name": "stderr",
     "output_type": "stream",
     "text": [
      "25/07/26 05:06:53 WARN MemoryManager: Total allocation exceeds 95.00% (1,020,054,720 bytes) of heap memory\n",
      "Scaling row group sizes to 95.00% for 8 writers\n",
      "25/07/26 05:06:54 WARN MemoryManager: Total allocation exceeds 95.00% (1,020,054,720 bytes) of heap memory\n",
      "Scaling row group sizes to 95.00% for 8 writers\n",
      "25/07/26 05:06:54 WARN MemoryManager: Total allocation exceeds 95.00% (1,020,054,720 bytes) of heap memory\n",
      "Scaling row group sizes to 95.00% for 8 writers\n",
      "25/07/26 05:06:55 WARN MemoryManager: Total allocation exceeds 95.00% (1,020,054,720 bytes) of heap memory\n",
      "Scaling row group sizes to 95.00% for 8 writers\n",
      "                                                                                \r"
     ]
    },
    {
     "name": "stdout",
     "output_type": "stream",
     "text": [
      "Saved stratified sample: ../data/sample/Health_Personal_Care_v1_00/amazon_us_reviews-train-00002-of-00006.parquet\n",
      "Stratified sampling: ../data/raw/Health_Personal_Care_v1_00/amazon_us_reviews-train-00003-of-00006.parquet\n"
     ]
    },
    {
     "name": "stderr",
     "output_type": "stream",
     "text": [
      "25/07/26 05:06:55 WARN MemoryManager: Total allocation exceeds 95.00% (1,020,054,720 bytes) of heap memory\n",
      "Scaling row group sizes to 95.00% for 8 writers\n",
      "25/07/26 05:06:56 WARN MemoryManager: Total allocation exceeds 95.00% (1,020,054,720 bytes) of heap memory\n",
      "Scaling row group sizes to 95.00% for 8 writers\n",
      "25/07/26 05:06:56 WARN MemoryManager: Total allocation exceeds 95.00% (1,020,054,720 bytes) of heap memory\n",
      "Scaling row group sizes to 95.00% for 8 writers\n",
      "25/07/26 05:06:57 WARN MemoryManager: Total allocation exceeds 95.00% (1,020,054,720 bytes) of heap memory\n",
      "Scaling row group sizes to 95.00% for 8 writers\n",
      "                                                                                \r"
     ]
    },
    {
     "name": "stdout",
     "output_type": "stream",
     "text": [
      "Saved stratified sample: ../data/sample/Health_Personal_Care_v1_00/amazon_us_reviews-train-00003-of-00006.parquet\n",
      "Stratified sampling: ../data/raw/Digital_Software_v1_00/amazon_us_reviews-train.parquet\n"
     ]
    },
    {
     "name": "stderr",
     "output_type": "stream",
     "text": [
      "25/07/26 05:06:57 WARN MemoryManager: Total allocation exceeds 95.00% (1,020,054,720 bytes) of heap memory\n",
      "Scaling row group sizes to 95.00% for 8 writers\n"
     ]
    },
    {
     "name": "stdout",
     "output_type": "stream",
     "text": [
      "Saved stratified sample: ../data/sample/Digital_Software_v1_00/amazon_us_reviews-train.parquet\n",
      "Stratified sampling: ../data/raw/Home_Entertainment_v1_00/amazon_us_reviews-train-00001-of-00002.parquet\n"
     ]
    },
    {
     "name": "stderr",
     "output_type": "stream",
     "text": [
      "25/07/26 05:06:58 WARN MemoryManager: Total allocation exceeds 95.00% (1,020,054,720 bytes) of heap memory\n",
      "Scaling row group sizes to 95.00% for 8 writers\n"
     ]
    },
    {
     "name": "stdout",
     "output_type": "stream",
     "text": [
      "Saved stratified sample: ../data/sample/Home_Entertainment_v1_00/amazon_us_reviews-train-00001-of-00002.parquet\n",
      "Stratified sampling: ../data/raw/Home_Entertainment_v1_00/amazon_us_reviews-train-00000-of-00002.parquet\n"
     ]
    },
    {
     "name": "stderr",
     "output_type": "stream",
     "text": [
      "25/07/26 05:06:59 WARN MemoryManager: Total allocation exceeds 95.00% (1,020,054,720 bytes) of heap memory\n",
      "Scaling row group sizes to 95.00% for 8 writers\n",
      "25/07/26 05:06:59 WARN MemoryManager: Total allocation exceeds 95.00% (1,020,054,720 bytes) of heap memory\n",
      "Scaling row group sizes to 95.00% for 8 writers\n",
      "25/07/26 05:06:59 WARN MemoryManager: Total allocation exceeds 95.00% (1,020,054,720 bytes) of heap memory\n",
      "Scaling row group sizes to 95.00% for 8 writers\n",
      "25/07/26 05:06:59 WARN MemoryManager: Total allocation exceeds 95.00% (1,020,054,720 bytes) of heap memory\n",
      "Scaling row group sizes to 95.00% for 8 writers\n",
      "25/07/26 05:07:00 WARN MemoryManager: Total allocation exceeds 95.00% (1,020,054,720 bytes) of heap memory\n",
      "Scaling row group sizes to 95.00% for 8 writers\n",
      "                                                                                \r"
     ]
    },
    {
     "name": "stdout",
     "output_type": "stream",
     "text": [
      "Saved stratified sample: ../data/sample/Home_Entertainment_v1_00/amazon_us_reviews-train-00000-of-00002.parquet\n",
      "Stratified sampling: ../data/raw/Personal_Care_Appliances_v1_00/amazon_us_reviews-train.parquet\n",
      "Saved stratified sample: ../data/sample/Personal_Care_Appliances_v1_00/amazon_us_reviews-train.parquet\n",
      "Stratified sampling: ../data/raw/Gift_Card_v1_00/amazon_us_reviews-train.parquet\n"
     ]
    },
    {
     "name": "stderr",
     "output_type": "stream",
     "text": [
      "25/07/26 05:07:01 WARN MemoryManager: Total allocation exceeds 95.00% (1,020,054,720 bytes) of heap memory\n",
      "Scaling row group sizes to 95.00% for 8 writers\n"
     ]
    },
    {
     "name": "stdout",
     "output_type": "stream",
     "text": [
      "Saved stratified sample: ../data/sample/Gift_Card_v1_00/amazon_us_reviews-train.parquet\n",
      "Stratified sampling: ../data/raw/Jewelry_v1_00/amazon_us_reviews-train-00001-of-00002.parquet\n"
     ]
    },
    {
     "name": "stderr",
     "output_type": "stream",
     "text": [
      "25/07/26 05:07:01 WARN MemoryManager: Total allocation exceeds 95.00% (1,020,054,720 bytes) of heap memory\n",
      "Scaling row group sizes to 95.00% for 8 writers\n",
      "                                                                                \r"
     ]
    },
    {
     "name": "stdout",
     "output_type": "stream",
     "text": [
      "Saved stratified sample: ../data/sample/Jewelry_v1_00/amazon_us_reviews-train-00001-of-00002.parquet\n",
      "Stratified sampling: ../data/raw/Jewelry_v1_00/amazon_us_reviews-train-00000-of-00002.parquet\n"
     ]
    },
    {
     "name": "stderr",
     "output_type": "stream",
     "text": [
      "25/07/26 05:07:03 WARN MemoryManager: Total allocation exceeds 95.00% (1,020,054,720 bytes) of heap memory\n",
      "Scaling row group sizes to 95.00% for 8 writers\n",
      "25/07/26 05:07:04 WARN MemoryManager: Total allocation exceeds 95.00% (1,020,054,720 bytes) of heap memory\n",
      "Scaling row group sizes to 95.00% for 8 writers\n",
      "25/07/26 05:07:04 WARN MemoryManager: Total allocation exceeds 95.00% (1,020,054,720 bytes) of heap memory\n",
      "Scaling row group sizes to 95.00% for 8 writers\n",
      "                                                                                \r"
     ]
    },
    {
     "name": "stdout",
     "output_type": "stream",
     "text": [
      "Saved stratified sample: ../data/sample/Jewelry_v1_00/amazon_us_reviews-train-00000-of-00002.parquet\n",
      "Stratified sampling: ../data/raw/Automotive_v1_00/amazon_us_reviews-train-00001-of-00004.parquet\n"
     ]
    },
    {
     "name": "stderr",
     "output_type": "stream",
     "text": [
      "25/07/26 05:07:06 WARN MemoryManager: Total allocation exceeds 95.00% (1,020,054,720 bytes) of heap memory\n",
      "Scaling row group sizes to 95.00% for 8 writers\n",
      "25/07/26 05:07:06 WARN MemoryManager: Total allocation exceeds 95.00% (1,020,054,720 bytes) of heap memory\n",
      "Scaling row group sizes to 95.00% for 8 writers\n",
      "25/07/26 05:07:07 WARN MemoryManager: Total allocation exceeds 95.00% (1,020,054,720 bytes) of heap memory\n",
      "Scaling row group sizes to 95.00% for 8 writers\n",
      "25/07/26 05:07:07 WARN MemoryManager: Total allocation exceeds 95.00% (1,020,054,720 bytes) of heap memory\n",
      "Scaling row group sizes to 95.00% for 8 writers\n",
      "25/07/26 05:07:07 WARN MemoryManager: Total allocation exceeds 95.00% (1,020,054,720 bytes) of heap memory\n",
      "Scaling row group sizes to 95.00% for 8 writers\n",
      "                                                                                \r"
     ]
    },
    {
     "name": "stdout",
     "output_type": "stream",
     "text": [
      "Saved stratified sample: ../data/sample/Automotive_v1_00/amazon_us_reviews-train-00001-of-00004.parquet\n",
      "Stratified sampling: ../data/raw/Automotive_v1_00/amazon_us_reviews-train-00000-of-00004.parquet\n"
     ]
    },
    {
     "name": "stderr",
     "output_type": "stream",
     "text": [
      "25/07/26 05:07:08 WARN MemoryManager: Total allocation exceeds 95.00% (1,020,054,720 bytes) of heap memory\n",
      "Scaling row group sizes to 95.00% for 8 writers\n",
      "25/07/26 05:07:09 WARN MemoryManager: Total allocation exceeds 95.00% (1,020,054,720 bytes) of heap memory\n",
      "Scaling row group sizes to 95.00% for 8 writers\n",
      "                                                                                \r"
     ]
    },
    {
     "name": "stdout",
     "output_type": "stream",
     "text": [
      "Saved stratified sample: ../data/sample/Automotive_v1_00/amazon_us_reviews-train-00000-of-00004.parquet\n",
      "Stratified sampling: ../data/raw/Automotive_v1_00/amazon_us_reviews-train-00003-of-00004.parquet\n",
      "Saved stratified sample: ../data/sample/Automotive_v1_00/amazon_us_reviews-train-00003-of-00004.parquet\n",
      "Stratified sampling: ../data/raw/Automotive_v1_00/amazon_us_reviews-train-00002-of-00004.parquet\n"
     ]
    },
    {
     "name": "stderr",
     "output_type": "stream",
     "text": [
      "25/07/26 05:07:11 WARN MemoryManager: Total allocation exceeds 95.00% (1,020,054,720 bytes) of heap memory\n",
      "Scaling row group sizes to 95.00% for 8 writers\n",
      "25/07/26 05:07:12 WARN MemoryManager: Total allocation exceeds 95.00% (1,020,054,720 bytes) of heap memory\n",
      "Scaling row group sizes to 95.00% for 8 writers\n",
      "25/07/26 05:07:12 WARN MemoryManager: Total allocation exceeds 95.00% (1,020,054,720 bytes) of heap memory\n",
      "Scaling row group sizes to 95.00% for 8 writers\n",
      "25/07/26 05:07:12 WARN MemoryManager: Total allocation exceeds 95.00% (1,020,054,720 bytes) of heap memory\n",
      "Scaling row group sizes to 95.00% for 8 writers\n",
      "25/07/26 05:07:13 WARN MemoryManager: Total allocation exceeds 95.00% (1,020,054,720 bytes) of heap memory\n",
      "Scaling row group sizes to 95.00% for 8 writers\n",
      "                                                                                \r"
     ]
    },
    {
     "name": "stdout",
     "output_type": "stream",
     "text": [
      "Saved stratified sample: ../data/sample/Automotive_v1_00/amazon_us_reviews-train-00002-of-00004.parquet\n",
      "Stratified sampling: ../data/raw/Office_Products_v1_00/amazon_us_reviews-train-00002-of-00003.parquet\n"
     ]
    },
    {
     "name": "stderr",
     "output_type": "stream",
     "text": [
      "25/07/26 05:07:23 WARN MemoryManager: Total allocation exceeds 95.00% (1,020,054,720 bytes) of heap memory\n",
      "Scaling row group sizes to 95.00% for 8 writers\n",
      "25/07/26 05:07:23 WARN MemoryManager: Total allocation exceeds 95.00% (1,020,054,720 bytes) of heap memory\n",
      "Scaling row group sizes to 95.00% for 8 writers\n",
      "25/07/26 05:07:24 WARN MemoryManager: Total allocation exceeds 95.00% (1,020,054,720 bytes) of heap memory\n",
      "Scaling row group sizes to 95.00% for 8 writers\n",
      "25/07/26 05:07:24 WARN MemoryManager: Total allocation exceeds 95.00% (1,020,054,720 bytes) of heap memory\n",
      "Scaling row group sizes to 95.00% for 8 writers\n",
      "25/07/26 05:07:24 WARN MemoryManager: Total allocation exceeds 95.00% (1,020,054,720 bytes) of heap memory\n",
      "Scaling row group sizes to 95.00% for 8 writers\n",
      "                                                                                \r"
     ]
    },
    {
     "name": "stdout",
     "output_type": "stream",
     "text": [
      "Saved stratified sample: ../data/sample/Office_Products_v1_00/amazon_us_reviews-train-00002-of-00003.parquet\n",
      "Stratified sampling: ../data/raw/Office_Products_v1_00/amazon_us_reviews-train-00001-of-00003.parquet\n"
     ]
    },
    {
     "name": "stderr",
     "output_type": "stream",
     "text": [
      "25/07/26 05:07:25 WARN MemoryManager: Total allocation exceeds 95.00% (1,020,054,720 bytes) of heap memory\n",
      "Scaling row group sizes to 95.00% for 8 writers\n",
      "25/07/26 05:07:25 WARN MemoryManager: Total allocation exceeds 95.00% (1,020,054,720 bytes) of heap memory\n",
      "Scaling row group sizes to 95.00% for 8 writers\n",
      "25/07/26 05:07:25 WARN MemoryManager: Total allocation exceeds 95.00% (1,020,054,720 bytes) of heap memory\n",
      "Scaling row group sizes to 95.00% for 8 writers\n",
      "                                                                                \r"
     ]
    },
    {
     "name": "stdout",
     "output_type": "stream",
     "text": [
      "Saved stratified sample: ../data/sample/Office_Products_v1_00/amazon_us_reviews-train-00001-of-00003.parquet\n",
      "Stratified sampling: ../data/raw/Office_Products_v1_00/amazon_us_reviews-train-00000-of-00003.parquet\n"
     ]
    },
    {
     "name": "stderr",
     "output_type": "stream",
     "text": [
      "25/07/26 05:07:27 WARN MemoryManager: Total allocation exceeds 95.00% (1,020,054,720 bytes) of heap memory\n",
      "Scaling row group sizes to 95.00% for 8 writers\n",
      "25/07/26 05:07:27 WARN MemoryManager: Total allocation exceeds 95.00% (1,020,054,720 bytes) of heap memory\n",
      "Scaling row group sizes to 95.00% for 8 writers\n",
      "25/07/26 05:07:28 WARN MemoryManager: Total allocation exceeds 95.00% (1,020,054,720 bytes) of heap memory\n",
      "Scaling row group sizes to 95.00% for 8 writers\n",
      "                                                                                \r"
     ]
    },
    {
     "name": "stdout",
     "output_type": "stream",
     "text": [
      "Saved stratified sample: ../data/sample/Office_Products_v1_00/amazon_us_reviews-train-00000-of-00003.parquet\n",
      "Stratified sampling: ../data/raw/Camera_v1_00/amazon_us_reviews-train-00002-of-00003.parquet\n"
     ]
    },
    {
     "name": "stderr",
     "output_type": "stream",
     "text": [
      "25/07/26 05:07:39 WARN MemoryManager: Total allocation exceeds 95.00% (1,020,054,720 bytes) of heap memory\n",
      "Scaling row group sizes to 95.00% for 8 writers\n",
      "                                                                                \r"
     ]
    },
    {
     "name": "stdout",
     "output_type": "stream",
     "text": [
      "Saved stratified sample: ../data/sample/Camera_v1_00/amazon_us_reviews-train-00002-of-00003.parquet\n",
      "Stratified sampling: ../data/raw/Camera_v1_00/amazon_us_reviews-train-00001-of-00003.parquet\n"
     ]
    },
    {
     "name": "stderr",
     "output_type": "stream",
     "text": [
      "25/07/26 05:07:40 WARN MemoryManager: Total allocation exceeds 95.00% (1,020,054,720 bytes) of heap memory\n",
      "Scaling row group sizes to 95.00% for 8 writers\n",
      "25/07/26 05:07:40 WARN MemoryManager: Total allocation exceeds 95.00% (1,020,054,720 bytes) of heap memory\n",
      "Scaling row group sizes to 95.00% for 8 writers\n",
      "25/07/26 05:07:40 WARN MemoryManager: Total allocation exceeds 95.00% (1,020,054,720 bytes) of heap memory\n",
      "Scaling row group sizes to 95.00% for 8 writers\n",
      "25/07/26 05:07:40 WARN MemoryManager: Total allocation exceeds 95.00% (1,020,054,720 bytes) of heap memory\n",
      "Scaling row group sizes to 95.00% for 8 writers\n",
      "25/07/26 05:07:41 WARN MemoryManager: Total allocation exceeds 95.00% (1,020,054,720 bytes) of heap memory\n",
      "Scaling row group sizes to 95.00% for 8 writers\n",
      "25/07/26 05:07:41 WARN MemoryManager: Total allocation exceeds 95.00% (1,020,054,720 bytes) of heap memory\n",
      "Scaling row group sizes to 95.00% for 8 writers\n",
      "                                                                                \r"
     ]
    },
    {
     "name": "stdout",
     "output_type": "stream",
     "text": [
      "Saved stratified sample: ../data/sample/Camera_v1_00/amazon_us_reviews-train-00001-of-00003.parquet\n",
      "Stratified sampling: ../data/raw/Camera_v1_00/amazon_us_reviews-train-00000-of-00003.parquet\n"
     ]
    },
    {
     "name": "stderr",
     "output_type": "stream",
     "text": [
      "25/07/26 05:07:42 WARN MemoryManager: Total allocation exceeds 95.00% (1,020,054,720 bytes) of heap memory\n",
      "Scaling row group sizes to 95.00% for 8 writers\n",
      "25/07/26 05:07:43 WARN MemoryManager: Total allocation exceeds 95.00% (1,020,054,720 bytes) of heap memory\n",
      "Scaling row group sizes to 95.00% for 8 writers\n",
      "25/07/26 05:07:43 WARN MemoryManager: Total allocation exceeds 95.00% (1,020,054,720 bytes) of heap memory\n",
      "Scaling row group sizes to 95.00% for 8 writers\n",
      "25/07/26 05:07:43 WARN MemoryManager: Total allocation exceeds 95.00% (1,020,054,720 bytes) of heap memory\n",
      "Scaling row group sizes to 95.00% for 8 writers\n",
      "                                                                                \r"
     ]
    },
    {
     "name": "stdout",
     "output_type": "stream",
     "text": [
      "Saved stratified sample: ../data/sample/Camera_v1_00/amazon_us_reviews-train-00000-of-00003.parquet\n",
      "Stratified sampling: ../data/raw/Video_v1_00/amazon_us_reviews-train.parquet\n"
     ]
    },
    {
     "name": "stderr",
     "output_type": "stream",
     "text": [
      "25/07/26 05:07:44 WARN MemoryManager: Total allocation exceeds 95.00% (1,020,054,720 bytes) of heap memory\n",
      "Scaling row group sizes to 95.00% for 8 writers\n",
      "25/07/26 05:07:44 WARN MemoryManager: Total allocation exceeds 95.00% (1,020,054,720 bytes) of heap memory\n",
      "Scaling row group sizes to 95.00% for 8 writers\n",
      "25/07/26 05:07:45 WARN MemoryManager: Total allocation exceeds 95.00% (1,020,054,720 bytes) of heap memory\n",
      "Scaling row group sizes to 95.00% for 8 writers\n",
      "25/07/26 05:07:45 WARN MemoryManager: Total allocation exceeds 95.00% (1,020,054,720 bytes) of heap memory\n",
      "Scaling row group sizes to 95.00% for 8 writers\n",
      "                                                                                \r"
     ]
    },
    {
     "name": "stdout",
     "output_type": "stream",
     "text": [
      "Saved stratified sample: ../data/sample/Video_v1_00/amazon_us_reviews-train.parquet\n",
      "Stratified sampling: ../data/raw/Grocery_v1_00/amazon_us_reviews-train-00002-of-00003.parquet\n"
     ]
    },
    {
     "name": "stderr",
     "output_type": "stream",
     "text": [
      "                                                                                \r"
     ]
    },
    {
     "name": "stdout",
     "output_type": "stream",
     "text": [
      "Saved stratified sample: ../data/sample/Grocery_v1_00/amazon_us_reviews-train-00002-of-00003.parquet\n",
      "Stratified sampling: ../data/raw/Grocery_v1_00/amazon_us_reviews-train-00001-of-00003.parquet\n"
     ]
    },
    {
     "name": "stderr",
     "output_type": "stream",
     "text": [
      "25/07/26 05:08:14 WARN MemoryManager: Total allocation exceeds 95.00% (1,020,054,720 bytes) of heap memory\n",
      "Scaling row group sizes to 95.00% for 8 writers\n",
      "25/07/26 05:08:14 WARN MemoryManager: Total allocation exceeds 95.00% (1,020,054,720 bytes) of heap memory\n",
      "Scaling row group sizes to 95.00% for 8 writers\n",
      "25/07/26 05:08:15 WARN MemoryManager: Total allocation exceeds 95.00% (1,020,054,720 bytes) of heap memory\n",
      "Scaling row group sizes to 95.00% for 8 writers\n",
      "25/07/26 05:08:15 WARN MemoryManager: Total allocation exceeds 95.00% (1,020,054,720 bytes) of heap memory\n",
      "Scaling row group sizes to 95.00% for 8 writers\n",
      "25/07/26 05:08:15 WARN MemoryManager: Total allocation exceeds 95.00% (1,020,054,720 bytes) of heap memory\n",
      "Scaling row group sizes to 95.00% for 8 writers\n",
      "                                                                                \r"
     ]
    },
    {
     "name": "stdout",
     "output_type": "stream",
     "text": [
      "Saved stratified sample: ../data/sample/Grocery_v1_00/amazon_us_reviews-train-00001-of-00003.parquet\n",
      "Stratified sampling: ../data/raw/Grocery_v1_00/amazon_us_reviews-train-00000-of-00003.parquet\n"
     ]
    },
    {
     "name": "stderr",
     "output_type": "stream",
     "text": [
      "25/07/26 05:08:35 WARN MemoryManager: Total allocation exceeds 95.00% (1,020,054,720 bytes) of heap memory\n",
      "Scaling row group sizes to 95.00% for 8 writers\n",
      "25/07/26 05:08:36 WARN MemoryManager: Total allocation exceeds 95.00% (1,020,054,720 bytes) of heap memory\n",
      "Scaling row group sizes to 95.00% for 8 writers\n",
      "25/07/26 05:08:36 WARN MemoryManager: Total allocation exceeds 95.00% (1,020,054,720 bytes) of heap memory\n",
      "Scaling row group sizes to 95.00% for 8 writers\n",
      "                                                                                \r"
     ]
    },
    {
     "name": "stdout",
     "output_type": "stream",
     "text": [
      "Saved stratified sample: ../data/sample/Grocery_v1_00/amazon_us_reviews-train-00000-of-00003.parquet\n",
      "Stratified sampling: ../data/raw/Books_v1_01/partial/train/0006.parquet\n"
     ]
    },
    {
     "name": "stderr",
     "output_type": "stream",
     "text": [
      "25/07/26 05:08:56 WARN MemoryManager: Total allocation exceeds 95.00% (1,020,054,720 bytes) of heap memory\n",
      "Scaling row group sizes to 95.00% for 8 writers\n",
      "25/07/26 05:08:56 WARN MemoryManager: Total allocation exceeds 95.00% (1,020,054,720 bytes) of heap memory\n",
      "Scaling row group sizes to 95.00% for 8 writers\n",
      "25/07/26 05:08:56 WARN MemoryManager: Total allocation exceeds 95.00% (1,020,054,720 bytes) of heap memory\n",
      "Scaling row group sizes to 95.00% for 8 writers\n",
      "25/07/26 05:08:57 WARN MemoryManager: Total allocation exceeds 95.00% (1,020,054,720 bytes) of heap memory\n",
      "Scaling row group sizes to 95.00% for 8 writers\n",
      "                                                                                \r"
     ]
    },
    {
     "name": "stdout",
     "output_type": "stream",
     "text": [
      "Saved stratified sample: ../data/sample/Books_v1_01/partial/train/0006.parquet\n",
      "Stratified sampling: ../data/raw/Books_v1_01/partial/train/0007.parquet\n"
     ]
    },
    {
     "name": "stderr",
     "output_type": "stream",
     "text": [
      "25/07/26 05:08:58 WARN MemoryManager: Total allocation exceeds 95.00% (1,020,054,720 bytes) of heap memory\n",
      "Scaling row group sizes to 95.00% for 8 writers\n",
      "25/07/26 05:08:58 WARN MemoryManager: Total allocation exceeds 95.00% (1,020,054,720 bytes) of heap memory\n",
      "Scaling row group sizes to 95.00% for 8 writers\n",
      "25/07/26 05:08:58 WARN MemoryManager: Total allocation exceeds 95.00% (1,020,054,720 bytes) of heap memory\n",
      "Scaling row group sizes to 95.00% for 8 writers\n",
      "                                                                                \r"
     ]
    },
    {
     "name": "stdout",
     "output_type": "stream",
     "text": [
      "Saved stratified sample: ../data/sample/Books_v1_01/partial/train/0007.parquet\n",
      "Stratified sampling: ../data/raw/Books_v1_01/partial/train/0005.parquet\n"
     ]
    },
    {
     "name": "stderr",
     "output_type": "stream",
     "text": [
      "25/07/26 05:08:59 WARN MemoryManager: Total allocation exceeds 95.00% (1,020,054,720 bytes) of heap memory\n",
      "Scaling row group sizes to 95.00% for 8 writers\n",
      "25/07/26 05:08:59 WARN MemoryManager: Total allocation exceeds 95.00% (1,020,054,720 bytes) of heap memory\n",
      "Scaling row group sizes to 95.00% for 8 writers\n",
      "25/07/26 05:09:00 WARN MemoryManager: Total allocation exceeds 95.00% (1,020,054,720 bytes) of heap memory\n",
      "Scaling row group sizes to 95.00% for 8 writers\n",
      "                                                                                \r"
     ]
    },
    {
     "name": "stdout",
     "output_type": "stream",
     "text": [
      "Saved stratified sample: ../data/sample/Books_v1_01/partial/train/0005.parquet\n",
      "Stratified sampling: ../data/raw/Books_v1_01/partial/train/0004.parquet\n"
     ]
    },
    {
     "name": "stderr",
     "output_type": "stream",
     "text": [
      "25/07/26 05:09:16 WARN MemoryManager: Total allocation exceeds 95.00% (1,020,054,720 bytes) of heap memory\n",
      "Scaling row group sizes to 95.00% for 8 writers\n",
      "25/07/26 05:09:17 WARN MemoryManager: Total allocation exceeds 95.00% (1,020,054,720 bytes) of heap memory\n",
      "Scaling row group sizes to 95.00% for 8 writers\n",
      "25/07/26 05:09:17 WARN MemoryManager: Total allocation exceeds 95.00% (1,020,054,720 bytes) of heap memory\n",
      "Scaling row group sizes to 95.00% for 8 writers\n",
      "                                                                                \r"
     ]
    },
    {
     "name": "stdout",
     "output_type": "stream",
     "text": [
      "Saved stratified sample: ../data/sample/Books_v1_01/partial/train/0004.parquet\n",
      "Stratified sampling: ../data/raw/Books_v1_01/partial/train/0008.parquet\n"
     ]
    },
    {
     "name": "stderr",
     "output_type": "stream",
     "text": [
      "25/07/26 05:09:18 WARN MemoryManager: Total allocation exceeds 95.00% (1,020,054,720 bytes) of heap memory\n",
      "Scaling row group sizes to 95.00% for 8 writers\n",
      "25/07/26 05:09:19 WARN MemoryManager: Total allocation exceeds 95.00% (1,020,054,720 bytes) of heap memory\n",
      "Scaling row group sizes to 95.00% for 8 writers\n",
      "25/07/26 05:09:19 WARN MemoryManager: Total allocation exceeds 95.00% (1,020,054,720 bytes) of heap memory\n",
      "Scaling row group sizes to 95.00% for 8 writers\n",
      "                                                                                \r"
     ]
    },
    {
     "name": "stdout",
     "output_type": "stream",
     "text": [
      "Saved stratified sample: ../data/sample/Books_v1_01/partial/train/0008.parquet\n",
      "Stratified sampling: ../data/raw/Books_v1_01/partial/train/0001.parquet\n"
     ]
    },
    {
     "name": "stderr",
     "output_type": "stream",
     "text": [
      "25/07/26 05:09:37 WARN MemoryManager: Total allocation exceeds 95.00% (1,020,054,720 bytes) of heap memory\n",
      "Scaling row group sizes to 95.00% for 8 writers\n",
      "25/07/26 05:09:37 WARN MemoryManager: Total allocation exceeds 95.00% (1,020,054,720 bytes) of heap memory\n",
      "Scaling row group sizes to 95.00% for 8 writers\n",
      "25/07/26 05:09:37 WARN MemoryManager: Total allocation exceeds 95.00% (1,020,054,720 bytes) of heap memory\n",
      "Scaling row group sizes to 95.00% for 8 writers\n",
      "25/07/26 05:09:38 WARN MemoryManager: Total allocation exceeds 95.00% (1,020,054,720 bytes) of heap memory\n",
      "Scaling row group sizes to 95.00% for 8 writers\n",
      "                                                                                \r"
     ]
    },
    {
     "name": "stdout",
     "output_type": "stream",
     "text": [
      "Saved stratified sample: ../data/sample/Books_v1_01/partial/train/0001.parquet\n",
      "Stratified sampling: ../data/raw/Books_v1_01/partial/train/0000.parquet\n"
     ]
    },
    {
     "name": "stderr",
     "output_type": "stream",
     "text": [
      "25/07/26 05:09:38 WARN MemoryManager: Total allocation exceeds 95.00% (1,020,054,720 bytes) of heap memory\n",
      "Scaling row group sizes to 95.00% for 8 writers\n",
      "25/07/26 05:09:39 WARN MemoryManager: Total allocation exceeds 95.00% (1,020,054,720 bytes) of heap memory\n",
      "Scaling row group sizes to 95.00% for 8 writers\n",
      "25/07/26 05:09:39 WARN MemoryManager: Total allocation exceeds 95.00% (1,020,054,720 bytes) of heap memory\n",
      "Scaling row group sizes to 95.00% for 8 writers\n",
      "                                                                                \r"
     ]
    },
    {
     "name": "stdout",
     "output_type": "stream",
     "text": [
      "Saved stratified sample: ../data/sample/Books_v1_01/partial/train/0000.parquet\n",
      "Stratified sampling: ../data/raw/Books_v1_01/partial/train/0009.parquet\n"
     ]
    },
    {
     "name": "stderr",
     "output_type": "stream",
     "text": [
      "25/07/26 05:09:40 WARN MemoryManager: Total allocation exceeds 95.00% (1,020,054,720 bytes) of heap memory\n",
      "Scaling row group sizes to 95.00% for 8 writers\n",
      "25/07/26 05:09:40 WARN MemoryManager: Total allocation exceeds 95.00% (1,020,054,720 bytes) of heap memory\n",
      "Scaling row group sizes to 95.00% for 8 writers\n",
      "25/07/26 05:09:41 WARN MemoryManager: Total allocation exceeds 95.00% (1,020,054,720 bytes) of heap memory\n",
      "Scaling row group sizes to 95.00% for 8 writers\n",
      "                                                                                \r"
     ]
    },
    {
     "name": "stdout",
     "output_type": "stream",
     "text": [
      "Saved stratified sample: ../data/sample/Books_v1_01/partial/train/0009.parquet\n",
      "Stratified sampling: ../data/raw/Books_v1_01/partial/train/0002.parquet\n"
     ]
    },
    {
     "name": "stderr",
     "output_type": "stream",
     "text": [
      "25/07/26 05:09:42 WARN MemoryManager: Total allocation exceeds 95.00% (1,020,054,720 bytes) of heap memory\n",
      "Scaling row group sizes to 95.00% for 8 writers\n",
      "25/07/26 05:09:42 WARN MemoryManager: Total allocation exceeds 95.00% (1,020,054,720 bytes) of heap memory\n",
      "Scaling row group sizes to 95.00% for 8 writers\n",
      "25/07/26 05:09:42 WARN MemoryManager: Total allocation exceeds 95.00% (1,020,054,720 bytes) of heap memory\n",
      "Scaling row group sizes to 95.00% for 8 writers\n",
      "25/07/26 05:09:42 WARN MemoryManager: Total allocation exceeds 95.00% (1,020,054,720 bytes) of heap memory\n",
      "Scaling row group sizes to 95.00% for 8 writers\n",
      "                                                                                \r"
     ]
    },
    {
     "name": "stdout",
     "output_type": "stream",
     "text": [
      "Saved stratified sample: ../data/sample/Books_v1_01/partial/train/0002.parquet\n",
      "Stratified sampling: ../data/raw/Books_v1_01/partial/train/0003.parquet\n"
     ]
    },
    {
     "name": "stderr",
     "output_type": "stream",
     "text": [
      "25/07/26 05:10:02 WARN MemoryManager: Total allocation exceeds 95.00% (1,020,054,720 bytes) of heap memory\n",
      "Scaling row group sizes to 95.00% for 8 writers\n",
      "25/07/26 05:10:03 WARN MemoryManager: Total allocation exceeds 95.00% (1,020,054,720 bytes) of heap memory\n",
      "Scaling row group sizes to 95.00% for 8 writers\n",
      "25/07/26 05:10:03 WARN MemoryManager: Total allocation exceeds 95.00% (1,020,054,720 bytes) of heap memory\n",
      "Scaling row group sizes to 95.00% for 8 writers\n",
      "25/07/26 05:10:03 WARN MemoryManager: Total allocation exceeds 95.00% (1,020,054,720 bytes) of heap memory\n",
      "Scaling row group sizes to 95.00% for 8 writers\n",
      "                                                                                \r"
     ]
    },
    {
     "name": "stdout",
     "output_type": "stream",
     "text": [
      "Saved stratified sample: ../data/sample/Books_v1_01/partial/train/0003.parquet\n",
      "Stratified sampling: ../data/raw/Software_v1_00/amazon_us_reviews-train.parquet\n"
     ]
    },
    {
     "name": "stderr",
     "output_type": "stream",
     "text": [
      "25/07/26 05:10:04 WARN MemoryManager: Total allocation exceeds 95.00% (1,020,054,720 bytes) of heap memory\n",
      "Scaling row group sizes to 95.00% for 8 writers\n",
      "25/07/26 05:10:04 WARN MemoryManager: Total allocation exceeds 95.00% (1,020,054,720 bytes) of heap memory\n",
      "Scaling row group sizes to 95.00% for 8 writers\n",
      "                                                                                \r"
     ]
    },
    {
     "name": "stdout",
     "output_type": "stream",
     "text": [
      "Saved stratified sample: ../data/sample/Software_v1_00/amazon_us_reviews-train.parquet\n",
      "Stratified sampling: ../data/raw/Digital_Music_Purchase_v1_00/amazon_us_reviews-train-00001-of-00002.parquet\n"
     ]
    },
    {
     "name": "stderr",
     "output_type": "stream",
     "text": [
      "25/07/26 05:10:05 WARN MemoryManager: Total allocation exceeds 95.00% (1,020,054,720 bytes) of heap memory\n",
      "Scaling row group sizes to 95.00% for 8 writers\n",
      "25/07/26 05:10:06 WARN MemoryManager: Total allocation exceeds 95.00% (1,020,054,720 bytes) of heap memory\n",
      "Scaling row group sizes to 95.00% for 8 writers\n",
      "25/07/26 05:10:06 WARN MemoryManager: Total allocation exceeds 95.00% (1,020,054,720 bytes) of heap memory\n",
      "Scaling row group sizes to 95.00% for 8 writers\n",
      "                                                                                \r"
     ]
    },
    {
     "name": "stdout",
     "output_type": "stream",
     "text": [
      "Saved stratified sample: ../data/sample/Digital_Music_Purchase_v1_00/amazon_us_reviews-train-00001-of-00002.parquet\n",
      "Stratified sampling: ../data/raw/Digital_Music_Purchase_v1_00/amazon_us_reviews-train-00000-of-00002.parquet\n"
     ]
    },
    {
     "name": "stderr",
     "output_type": "stream",
     "text": [
      "25/07/26 05:10:23 WARN MemoryManager: Total allocation exceeds 95.00% (1,020,054,720 bytes) of heap memory\n",
      "Scaling row group sizes to 95.00% for 8 writers\n",
      "25/07/26 05:10:23 WARN MemoryManager: Total allocation exceeds 95.00% (1,020,054,720 bytes) of heap memory\n",
      "Scaling row group sizes to 95.00% for 8 writers\n",
      "25/07/26 05:10:24 WARN MemoryManager: Total allocation exceeds 95.00% (1,020,054,720 bytes) of heap memory\n",
      "Scaling row group sizes to 95.00% for 8 writers\n",
      "25/07/26 05:10:24 WARN MemoryManager: Total allocation exceeds 95.00% (1,020,054,720 bytes) of heap memory\n",
      "Scaling row group sizes to 95.00% for 8 writers\n",
      "                                                                                \r"
     ]
    },
    {
     "name": "stdout",
     "output_type": "stream",
     "text": [
      "Saved stratified sample: ../data/sample/Digital_Music_Purchase_v1_00/amazon_us_reviews-train-00000-of-00002.parquet\n",
      "Stratified sampling: ../data/raw/Books_v1_00/partial/train/0006.parquet\n"
     ]
    },
    {
     "name": "stderr",
     "output_type": "stream",
     "text": [
      "25/07/26 05:10:25 WARN MemoryManager: Total allocation exceeds 95.00% (1,020,054,720 bytes) of heap memory\n",
      "Scaling row group sizes to 95.00% for 8 writers\n",
      "25/07/26 05:10:25 WARN MemoryManager: Total allocation exceeds 95.00% (1,020,054,720 bytes) of heap memory\n",
      "Scaling row group sizes to 95.00% for 8 writers\n",
      "25/07/26 05:10:26 WARN MemoryManager: Total allocation exceeds 95.00% (1,020,054,720 bytes) of heap memory\n",
      "Scaling row group sizes to 95.00% for 8 writers\n",
      "                                                                                \r"
     ]
    },
    {
     "name": "stdout",
     "output_type": "stream",
     "text": [
      "Saved stratified sample: ../data/sample/Books_v1_00/partial/train/0006.parquet\n",
      "Stratified sampling: ../data/raw/Books_v1_00/partial/train/0007.parquet\n"
     ]
    },
    {
     "name": "stderr",
     "output_type": "stream",
     "text": [
      "25/07/26 05:10:27 WARN MemoryManager: Total allocation exceeds 95.00% (1,020,054,720 bytes) of heap memory\n",
      "Scaling row group sizes to 95.00% for 8 writers\n",
      "25/07/26 05:10:28 WARN MemoryManager: Total allocation exceeds 95.00% (1,020,054,720 bytes) of heap memory\n",
      "Scaling row group sizes to 95.00% for 8 writers\n",
      "25/07/26 05:10:28 WARN MemoryManager: Total allocation exceeds 95.00% (1,020,054,720 bytes) of heap memory\n",
      "Scaling row group sizes to 95.00% for 8 writers\n",
      "25/07/26 05:10:28 WARN MemoryManager: Total allocation exceeds 95.00% (1,020,054,720 bytes) of heap memory\n",
      "Scaling row group sizes to 95.00% for 8 writers\n",
      "                                                                                \r"
     ]
    },
    {
     "name": "stdout",
     "output_type": "stream",
     "text": [
      "Saved stratified sample: ../data/sample/Books_v1_00/partial/train/0007.parquet\n",
      "Stratified sampling: ../data/raw/Books_v1_00/partial/train/0005.parquet\n"
     ]
    },
    {
     "name": "stderr",
     "output_type": "stream",
     "text": [
      "25/07/26 05:10:29 WARN MemoryManager: Total allocation exceeds 95.00% (1,020,054,720 bytes) of heap memory\n",
      "Scaling row group sizes to 95.00% for 8 writers\n",
      "25/07/26 05:10:30 WARN MemoryManager: Total allocation exceeds 95.00% (1,020,054,720 bytes) of heap memory\n",
      "Scaling row group sizes to 95.00% for 8 writers\n",
      "25/07/26 05:10:30 WARN MemoryManager: Total allocation exceeds 95.00% (1,020,054,720 bytes) of heap memory\n",
      "Scaling row group sizes to 95.00% for 8 writers\n",
      "25/07/26 05:10:30 WARN MemoryManager: Total allocation exceeds 95.00% (1,020,054,720 bytes) of heap memory\n",
      "Scaling row group sizes to 95.00% for 8 writers\n",
      "25/07/26 05:10:31 WARN MemoryManager: Total allocation exceeds 95.00% (1,020,054,720 bytes) of heap memory\n",
      "Scaling row group sizes to 95.00% for 8 writers\n",
      "                                                                                \r"
     ]
    },
    {
     "name": "stdout",
     "output_type": "stream",
     "text": [
      "Saved stratified sample: ../data/sample/Books_v1_00/partial/train/0005.parquet\n",
      "Stratified sampling: ../data/raw/Books_v1_00/partial/train/0004.parquet\n"
     ]
    },
    {
     "name": "stderr",
     "output_type": "stream",
     "text": [
      "25/07/26 05:10:31 WARN MemoryManager: Total allocation exceeds 95.00% (1,020,054,720 bytes) of heap memory\n",
      "Scaling row group sizes to 95.00% for 8 writers\n",
      "25/07/26 05:10:32 WARN MemoryManager: Total allocation exceeds 95.00% (1,020,054,720 bytes) of heap memory\n",
      "Scaling row group sizes to 95.00% for 8 writers\n",
      "25/07/26 05:10:32 WARN MemoryManager: Total allocation exceeds 95.00% (1,020,054,720 bytes) of heap memory\n",
      "Scaling row group sizes to 95.00% for 8 writers\n",
      "25/07/26 05:10:32 WARN MemoryManager: Total allocation exceeds 95.00% (1,020,054,720 bytes) of heap memory\n",
      "Scaling row group sizes to 95.00% for 8 writers\n",
      "25/07/26 05:10:33 WARN MemoryManager: Total allocation exceeds 95.00% (1,020,054,720 bytes) of heap memory\n",
      "Scaling row group sizes to 95.00% for 8 writers\n",
      "                                                                                \r"
     ]
    },
    {
     "name": "stdout",
     "output_type": "stream",
     "text": [
      "Saved stratified sample: ../data/sample/Books_v1_00/partial/train/0004.parquet\n",
      "Stratified sampling: ../data/raw/Books_v1_00/partial/train/0008.parquet\n"
     ]
    },
    {
     "name": "stderr",
     "output_type": "stream",
     "text": [
      "25/07/26 05:10:33 WARN MemoryManager: Total allocation exceeds 95.00% (1,020,054,720 bytes) of heap memory\n",
      "Scaling row group sizes to 95.00% for 8 writers\n",
      "25/07/26 05:10:34 WARN MemoryManager: Total allocation exceeds 95.00% (1,020,054,720 bytes) of heap memory\n",
      "Scaling row group sizes to 95.00% for 8 writers\n",
      "25/07/26 05:10:34 WARN MemoryManager: Total allocation exceeds 95.00% (1,020,054,720 bytes) of heap memory\n",
      "Scaling row group sizes to 95.00% for 8 writers\n",
      "25/07/26 05:10:34 WARN MemoryManager: Total allocation exceeds 95.00% (1,020,054,720 bytes) of heap memory\n",
      "Scaling row group sizes to 95.00% for 8 writers\n",
      "                                                                                \r"
     ]
    },
    {
     "name": "stdout",
     "output_type": "stream",
     "text": [
      "Saved stratified sample: ../data/sample/Books_v1_00/partial/train/0008.parquet\n",
      "Stratified sampling: ../data/raw/Books_v1_00/partial/train/0001.parquet\n"
     ]
    },
    {
     "name": "stderr",
     "output_type": "stream",
     "text": [
      "25/07/26 05:10:50 WARN MemoryManager: Total allocation exceeds 95.00% (1,020,054,720 bytes) of heap memory\n",
      "Scaling row group sizes to 95.00% for 8 writers\n",
      "25/07/26 05:10:51 WARN MemoryManager: Total allocation exceeds 95.00% (1,020,054,720 bytes) of heap memory\n",
      "Scaling row group sizes to 95.00% for 8 writers\n",
      "25/07/26 05:10:51 WARN MemoryManager: Total allocation exceeds 95.00% (1,020,054,720 bytes) of heap memory\n",
      "Scaling row group sizes to 95.00% for 8 writers\n",
      "25/07/26 05:10:51 WARN MemoryManager: Total allocation exceeds 95.00% (1,020,054,720 bytes) of heap memory\n",
      "Scaling row group sizes to 95.00% for 8 writers\n",
      "                                                                                \r"
     ]
    },
    {
     "name": "stdout",
     "output_type": "stream",
     "text": [
      "Saved stratified sample: ../data/sample/Books_v1_00/partial/train/0001.parquet\n",
      "Stratified sampling: ../data/raw/Books_v1_00/partial/train/0000.parquet\n"
     ]
    },
    {
     "name": "stderr",
     "output_type": "stream",
     "text": [
      "25/07/26 05:11:08 WARN MemoryManager: Total allocation exceeds 95.00% (1,020,054,720 bytes) of heap memory\n",
      "Scaling row group sizes to 95.00% for 8 writers\n",
      "25/07/26 05:11:08 WARN MemoryManager: Total allocation exceeds 95.00% (1,020,054,720 bytes) of heap memory\n",
      "Scaling row group sizes to 95.00% for 8 writers\n",
      "25/07/26 05:11:09 WARN MemoryManager: Total allocation exceeds 95.00% (1,020,054,720 bytes) of heap memory\n",
      "Scaling row group sizes to 95.00% for 8 writers\n",
      "25/07/26 05:11:09 WARN MemoryManager: Total allocation exceeds 95.00% (1,020,054,720 bytes) of heap memory\n",
      "Scaling row group sizes to 95.00% for 8 writers\n",
      "25/07/26 05:11:09 WARN MemoryManager: Total allocation exceeds 95.00% (1,020,054,720 bytes) of heap memory\n",
      "Scaling row group sizes to 95.00% for 8 writers\n",
      "                                                                                \r"
     ]
    },
    {
     "name": "stdout",
     "output_type": "stream",
     "text": [
      "Saved stratified sample: ../data/sample/Books_v1_00/partial/train/0000.parquet\n",
      "Stratified sampling: ../data/raw/Books_v1_00/partial/train/0009.parquet\n"
     ]
    },
    {
     "name": "stderr",
     "output_type": "stream",
     "text": [
      "25/07/26 05:11:10 WARN MemoryManager: Total allocation exceeds 95.00% (1,020,054,720 bytes) of heap memory\n",
      "Scaling row group sizes to 95.00% for 8 writers\n",
      "25/07/26 05:11:10 WARN MemoryManager: Total allocation exceeds 95.00% (1,020,054,720 bytes) of heap memory\n",
      "Scaling row group sizes to 95.00% for 8 writers\n",
      "25/07/26 05:11:11 WARN MemoryManager: Total allocation exceeds 95.00% (1,020,054,720 bytes) of heap memory\n",
      "Scaling row group sizes to 95.00% for 8 writers\n",
      "25/07/26 05:11:11 WARN MemoryManager: Total allocation exceeds 95.00% (1,020,054,720 bytes) of heap memory\n",
      "Scaling row group sizes to 95.00% for 8 writers\n",
      "                                                                                \r"
     ]
    },
    {
     "name": "stdout",
     "output_type": "stream",
     "text": [
      "Saved stratified sample: ../data/sample/Books_v1_00/partial/train/0009.parquet\n",
      "Stratified sampling: ../data/raw/Books_v1_00/partial/train/0002.parquet\n"
     ]
    },
    {
     "name": "stderr",
     "output_type": "stream",
     "text": [
      "25/07/26 05:11:27 WARN MemoryManager: Total allocation exceeds 95.00% (1,020,054,720 bytes) of heap memory\n",
      "Scaling row group sizes to 95.00% for 8 writers\n",
      "25/07/26 05:11:27 WARN MemoryManager: Total allocation exceeds 95.00% (1,020,054,720 bytes) of heap memory\n",
      "Scaling row group sizes to 95.00% for 8 writers\n",
      "25/07/26 05:11:27 WARN MemoryManager: Total allocation exceeds 95.00% (1,020,054,720 bytes) of heap memory\n",
      "Scaling row group sizes to 95.00% for 8 writers\n",
      "25/07/26 05:11:28 WARN MemoryManager: Total allocation exceeds 95.00% (1,020,054,720 bytes) of heap memory\n",
      "Scaling row group sizes to 95.00% for 8 writers\n",
      "                                                                                \r"
     ]
    },
    {
     "name": "stdout",
     "output_type": "stream",
     "text": [
      "Saved stratified sample: ../data/sample/Books_v1_00/partial/train/0002.parquet\n",
      "Stratified sampling: ../data/raw/Books_v1_00/partial/train/0003.parquet\n"
     ]
    },
    {
     "name": "stderr",
     "output_type": "stream",
     "text": [
      "25/07/26 05:11:29 WARN MemoryManager: Total allocation exceeds 95.00% (1,020,054,720 bytes) of heap memory\n",
      "Scaling row group sizes to 95.00% for 8 writers\n",
      "25/07/26 05:11:29 WARN MemoryManager: Total allocation exceeds 95.00% (1,020,054,720 bytes) of heap memory\n",
      "Scaling row group sizes to 95.00% for 8 writers\n",
      "25/07/26 05:11:29 WARN MemoryManager: Total allocation exceeds 95.00% (1,020,054,720 bytes) of heap memory\n",
      "Scaling row group sizes to 95.00% for 8 writers\n",
      "25/07/26 05:11:30 WARN MemoryManager: Total allocation exceeds 95.00% (1,020,054,720 bytes) of heap memory\n",
      "Scaling row group sizes to 95.00% for 8 writers\n",
      "                                                                                \r"
     ]
    },
    {
     "name": "stdout",
     "output_type": "stream",
     "text": [
      "Saved stratified sample: ../data/sample/Books_v1_00/partial/train/0003.parquet\n",
      "Stratified sampling: ../data/raw/Tools_v1_00/amazon_us_reviews-train-00001-of-00002.parquet\n"
     ]
    },
    {
     "name": "stderr",
     "output_type": "stream",
     "text": [
      "25/07/26 05:11:31 WARN MemoryManager: Total allocation exceeds 95.00% (1,020,054,720 bytes) of heap memory\n",
      "Scaling row group sizes to 95.00% for 8 writers\n",
      "                                                                                \r"
     ]
    },
    {
     "name": "stdout",
     "output_type": "stream",
     "text": [
      "Saved stratified sample: ../data/sample/Tools_v1_00/amazon_us_reviews-train-00001-of-00002.parquet\n",
      "Stratified sampling: ../data/raw/Tools_v1_00/amazon_us_reviews-train-00000-of-00002.parquet\n"
     ]
    },
    {
     "name": "stderr",
     "output_type": "stream",
     "text": [
      "25/07/26 05:11:43 WARN MemoryManager: Total allocation exceeds 95.00% (1,020,054,720 bytes) of heap memory\n",
      "Scaling row group sizes to 95.00% for 8 writers\n",
      "25/07/26 05:11:44 WARN MemoryManager: Total allocation exceeds 95.00% (1,020,054,720 bytes) of heap memory\n",
      "Scaling row group sizes to 95.00% for 8 writers\n",
      "25/07/26 05:11:44 WARN MemoryManager: Total allocation exceeds 95.00% (1,020,054,720 bytes) of heap memory\n",
      "Scaling row group sizes to 95.00% for 8 writers\n",
      "                                                                                \r"
     ]
    },
    {
     "name": "stdout",
     "output_type": "stream",
     "text": [
      "Saved stratified sample: ../data/sample/Tools_v1_00/amazon_us_reviews-train-00000-of-00002.parquet\n",
      "Stratified sampling: ../data/raw/Digital_Ebook_Purchase_v1_01/amazon_us_reviews-train-00000-of-00007.parquet\n"
     ]
    },
    {
     "name": "stderr",
     "output_type": "stream",
     "text": [
      "25/07/26 05:11:45 WARN MemoryManager: Total allocation exceeds 95.00% (1,020,054,720 bytes) of heap memory\n",
      "Scaling row group sizes to 95.00% for 8 writers\n",
      "25/07/26 05:11:46 WARN MemoryManager: Total allocation exceeds 95.00% (1,020,054,720 bytes) of heap memory\n",
      "Scaling row group sizes to 95.00% for 8 writers\n",
      "25/07/26 05:11:46 WARN MemoryManager: Total allocation exceeds 95.00% (1,020,054,720 bytes) of heap memory\n",
      "Scaling row group sizes to 95.00% for 8 writers\n",
      "                                                                                \r"
     ]
    },
    {
     "name": "stdout",
     "output_type": "stream",
     "text": [
      "Saved stratified sample: ../data/sample/Digital_Ebook_Purchase_v1_01/amazon_us_reviews-train-00000-of-00007.parquet\n",
      "Stratified sampling: ../data/raw/Digital_Ebook_Purchase_v1_01/amazon_us_reviews-train-00004-of-00007.parquet\n"
     ]
    },
    {
     "name": "stderr",
     "output_type": "stream",
     "text": [
      "25/07/26 05:11:48 WARN MemoryManager: Total allocation exceeds 95.00% (1,020,054,720 bytes) of heap memory\n",
      "Scaling row group sizes to 95.00% for 8 writers\n",
      "25/07/26 05:11:48 WARN MemoryManager: Total allocation exceeds 95.00% (1,020,054,720 bytes) of heap memory\n",
      "Scaling row group sizes to 95.00% for 8 writers\n",
      "25/07/26 05:11:48 WARN MemoryManager: Total allocation exceeds 95.00% (1,020,054,720 bytes) of heap memory\n",
      "Scaling row group sizes to 95.00% for 8 writers\n",
      "25/07/26 05:11:49 WARN MemoryManager: Total allocation exceeds 95.00% (1,020,054,720 bytes) of heap memory\n",
      "Scaling row group sizes to 95.00% for 8 writers\n",
      "25/07/26 05:11:49 WARN MemoryManager: Total allocation exceeds 95.00% (1,020,054,720 bytes) of heap memory\n",
      "Scaling row group sizes to 95.00% for 8 writers\n",
      "                                                                                \r"
     ]
    },
    {
     "name": "stdout",
     "output_type": "stream",
     "text": [
      "Saved stratified sample: ../data/sample/Digital_Ebook_Purchase_v1_01/amazon_us_reviews-train-00004-of-00007.parquet\n",
      "Stratified sampling: ../data/raw/Digital_Ebook_Purchase_v1_01/amazon_us_reviews-train-00001-of-00007.parquet\n"
     ]
    },
    {
     "name": "stderr",
     "output_type": "stream",
     "text": [
      "25/07/26 05:11:50 WARN MemoryManager: Total allocation exceeds 95.00% (1,020,054,720 bytes) of heap memory\n",
      "Scaling row group sizes to 95.00% for 8 writers\n",
      "25/07/26 05:11:51 WARN MemoryManager: Total allocation exceeds 95.00% (1,020,054,720 bytes) of heap memory\n",
      "Scaling row group sizes to 95.00% for 8 writers\n",
      "                                                                                \r"
     ]
    },
    {
     "name": "stdout",
     "output_type": "stream",
     "text": [
      "Saved stratified sample: ../data/sample/Digital_Ebook_Purchase_v1_01/amazon_us_reviews-train-00001-of-00007.parquet\n",
      "Stratified sampling: ../data/raw/Digital_Ebook_Purchase_v1_01/amazon_us_reviews-train-00005-of-00007.parquet\n"
     ]
    },
    {
     "name": "stderr",
     "output_type": "stream",
     "text": [
      "25/07/26 05:12:10 WARN MemoryManager: Total allocation exceeds 95.00% (1,020,054,720 bytes) of heap memory\n",
      "Scaling row group sizes to 95.00% for 8 writers\n",
      "25/07/26 05:12:10 WARN MemoryManager: Total allocation exceeds 95.00% (1,020,054,720 bytes) of heap memory\n",
      "Scaling row group sizes to 95.00% for 8 writers\n",
      "25/07/26 05:12:10 WARN MemoryManager: Total allocation exceeds 95.00% (1,020,054,720 bytes) of heap memory\n",
      "Scaling row group sizes to 95.00% for 8 writers\n",
      "25/07/26 05:12:11 WARN MemoryManager: Total allocation exceeds 95.00% (1,020,054,720 bytes) of heap memory\n",
      "Scaling row group sizes to 95.00% for 8 writers\n",
      "25/07/26 05:12:11 WARN MemoryManager: Total allocation exceeds 95.00% (1,020,054,720 bytes) of heap memory\n",
      "Scaling row group sizes to 95.00% for 8 writers\n",
      "                                                                                \r"
     ]
    },
    {
     "name": "stdout",
     "output_type": "stream",
     "text": [
      "Saved stratified sample: ../data/sample/Digital_Ebook_Purchase_v1_01/amazon_us_reviews-train-00005-of-00007.parquet\n",
      "Stratified sampling: ../data/raw/Digital_Ebook_Purchase_v1_01/amazon_us_reviews-train-00002-of-00007.parquet\n"
     ]
    },
    {
     "name": "stderr",
     "output_type": "stream",
     "text": [
      "25/07/26 05:12:25 WARN MemoryManager: Total allocation exceeds 95.00% (1,020,054,720 bytes) of heap memory\n",
      "Scaling row group sizes to 95.00% for 8 writers\n",
      "25/07/26 05:12:26 WARN MemoryManager: Total allocation exceeds 95.00% (1,020,054,720 bytes) of heap memory\n",
      "Scaling row group sizes to 95.00% for 8 writers\n",
      "25/07/26 05:12:26 WARN MemoryManager: Total allocation exceeds 95.00% (1,020,054,720 bytes) of heap memory\n",
      "Scaling row group sizes to 95.00% for 8 writers\n",
      "                                                                                \r"
     ]
    },
    {
     "name": "stdout",
     "output_type": "stream",
     "text": [
      "Saved stratified sample: ../data/sample/Digital_Ebook_Purchase_v1_01/amazon_us_reviews-train-00002-of-00007.parquet\n",
      "Stratified sampling: ../data/raw/Digital_Ebook_Purchase_v1_01/amazon_us_reviews-train-00006-of-00007.parquet\n"
     ]
    },
    {
     "name": "stderr",
     "output_type": "stream",
     "text": [
      "25/07/26 05:12:42 WARN MemoryManager: Total allocation exceeds 95.00% (1,020,054,720 bytes) of heap memory\n",
      "Scaling row group sizes to 95.00% for 8 writers\n",
      "25/07/26 05:12:42 WARN MemoryManager: Total allocation exceeds 95.00% (1,020,054,720 bytes) of heap memory\n",
      "Scaling row group sizes to 95.00% for 8 writers\n",
      "25/07/26 05:12:43 WARN MemoryManager: Total allocation exceeds 95.00% (1,020,054,720 bytes) of heap memory\n",
      "Scaling row group sizes to 95.00% for 8 writers\n",
      "                                                                                \r"
     ]
    },
    {
     "name": "stdout",
     "output_type": "stream",
     "text": [
      "Saved stratified sample: ../data/sample/Digital_Ebook_Purchase_v1_01/amazon_us_reviews-train-00006-of-00007.parquet\n",
      "Stratified sampling: ../data/raw/Digital_Ebook_Purchase_v1_01/amazon_us_reviews-train-00003-of-00007.parquet\n"
     ]
    },
    {
     "name": "stderr",
     "output_type": "stream",
     "text": [
      "25/07/26 05:12:44 WARN MemoryManager: Total allocation exceeds 95.00% (1,020,054,720 bytes) of heap memory\n",
      "Scaling row group sizes to 95.00% for 8 writers\n",
      "25/07/26 05:12:44 WARN MemoryManager: Total allocation exceeds 95.00% (1,020,054,720 bytes) of heap memory\n",
      "Scaling row group sizes to 95.00% for 8 writers\n",
      "25/07/26 05:12:44 WARN MemoryManager: Total allocation exceeds 95.00% (1,020,054,720 bytes) of heap memory\n",
      "Scaling row group sizes to 95.00% for 8 writers\n",
      "25/07/26 05:12:45 WARN MemoryManager: Total allocation exceeds 95.00% (1,020,054,720 bytes) of heap memory\n",
      "Scaling row group sizes to 95.00% for 8 writers\n",
      "                                                                                \r"
     ]
    },
    {
     "name": "stdout",
     "output_type": "stream",
     "text": [
      "Saved stratified sample: ../data/sample/Digital_Ebook_Purchase_v1_01/amazon_us_reviews-train-00003-of-00007.parquet\n",
      "Stratified sampling: ../data/raw/Digital_Video_Games_v1_00/amazon_us_reviews-train.parquet\n",
      "Saved stratified sample: ../data/sample/Digital_Video_Games_v1_00/amazon_us_reviews-train.parquet\n",
      "Stratified sampling: ../data/raw/PC_v1_00/amazon_us_reviews-train-00006-of-00008.parquet\n"
     ]
    },
    {
     "name": "stderr",
     "output_type": "stream",
     "text": [
      "25/07/26 05:12:58 WARN MemoryManager: Total allocation exceeds 95.00% (1,020,054,720 bytes) of heap memory\n",
      "Scaling row group sizes to 95.00% for 8 writers\n",
      "                                                                                \r"
     ]
    },
    {
     "name": "stdout",
     "output_type": "stream",
     "text": [
      "Saved stratified sample: ../data/sample/PC_v1_00/amazon_us_reviews-train-00006-of-00008.parquet\n",
      "Stratified sampling: ../data/raw/PC_v1_00/amazon_us_reviews-train-00002-of-00008.parquet\n"
     ]
    },
    {
     "name": "stderr",
     "output_type": "stream",
     "text": [
      "25/07/26 05:13:00 WARN MemoryManager: Total allocation exceeds 95.00% (1,020,054,720 bytes) of heap memory\n",
      "Scaling row group sizes to 95.00% for 8 writers\n",
      "25/07/26 05:13:00 WARN MemoryManager: Total allocation exceeds 95.00% (1,020,054,720 bytes) of heap memory\n",
      "Scaling row group sizes to 95.00% for 8 writers\n",
      "25/07/26 05:13:01 WARN MemoryManager: Total allocation exceeds 95.00% (1,020,054,720 bytes) of heap memory\n",
      "Scaling row group sizes to 95.00% for 8 writers\n",
      "25/07/26 05:13:01 WARN MemoryManager: Total allocation exceeds 95.00% (1,020,054,720 bytes) of heap memory\n",
      "Scaling row group sizes to 95.00% for 8 writers\n",
      "                                                                                \r"
     ]
    },
    {
     "name": "stdout",
     "output_type": "stream",
     "text": [
      "Saved stratified sample: ../data/sample/PC_v1_00/amazon_us_reviews-train-00002-of-00008.parquet\n",
      "Stratified sampling: ../data/raw/PC_v1_00/amazon_us_reviews-train-00007-of-00008.parquet\n"
     ]
    },
    {
     "name": "stderr",
     "output_type": "stream",
     "text": [
      "25/07/26 05:13:02 WARN MemoryManager: Total allocation exceeds 95.00% (1,020,054,720 bytes) of heap memory\n",
      "Scaling row group sizes to 95.00% for 8 writers\n",
      "25/07/26 05:13:02 WARN MemoryManager: Total allocation exceeds 95.00% (1,020,054,720 bytes) of heap memory\n",
      "Scaling row group sizes to 95.00% for 8 writers\n",
      "25/07/26 05:13:02 WARN MemoryManager: Total allocation exceeds 95.00% (1,020,054,720 bytes) of heap memory\n",
      "Scaling row group sizes to 95.00% for 8 writers\n",
      "25/07/26 05:13:02 WARN MemoryManager: Total allocation exceeds 95.00% (1,020,054,720 bytes) of heap memory\n",
      "Scaling row group sizes to 95.00% for 8 writers\n",
      "                                                                                \r"
     ]
    },
    {
     "name": "stdout",
     "output_type": "stream",
     "text": [
      "Saved stratified sample: ../data/sample/PC_v1_00/amazon_us_reviews-train-00007-of-00008.parquet\n",
      "Stratified sampling: ../data/raw/PC_v1_00/amazon_us_reviews-train-00003-of-00008.parquet\n"
     ]
    },
    {
     "name": "stderr",
     "output_type": "stream",
     "text": [
      "25/07/26 05:13:03 WARN MemoryManager: Total allocation exceeds 95.00% (1,020,054,720 bytes) of heap memory\n",
      "Scaling row group sizes to 95.00% for 8 writers\n",
      "25/07/26 05:13:04 WARN MemoryManager: Total allocation exceeds 95.00% (1,020,054,720 bytes) of heap memory\n",
      "Scaling row group sizes to 95.00% for 8 writers\n",
      "25/07/26 05:13:04 WARN MemoryManager: Total allocation exceeds 95.00% (1,020,054,720 bytes) of heap memory\n",
      "Scaling row group sizes to 95.00% for 8 writers\n",
      "25/07/26 05:13:04 WARN MemoryManager: Total allocation exceeds 95.00% (1,020,054,720 bytes) of heap memory\n",
      "Scaling row group sizes to 95.00% for 8 writers\n",
      "                                                                                \r"
     ]
    },
    {
     "name": "stdout",
     "output_type": "stream",
     "text": [
      "Saved stratified sample: ../data/sample/PC_v1_00/amazon_us_reviews-train-00003-of-00008.parquet\n",
      "Stratified sampling: ../data/raw/PC_v1_00/amazon_us_reviews-train-00004-of-00008.parquet\n"
     ]
    },
    {
     "name": "stderr",
     "output_type": "stream",
     "text": [
      "25/07/26 05:13:18 WARN MemoryManager: Total allocation exceeds 95.00% (1,020,054,720 bytes) of heap memory\n",
      "Scaling row group sizes to 95.00% for 8 writers\n",
      "25/07/26 05:13:18 WARN MemoryManager: Total allocation exceeds 95.00% (1,020,054,720 bytes) of heap memory\n",
      "Scaling row group sizes to 95.00% for 8 writers\n",
      "25/07/26 05:13:19 WARN MemoryManager: Total allocation exceeds 95.00% (1,020,054,720 bytes) of heap memory\n",
      "Scaling row group sizes to 95.00% for 8 writers\n",
      "                                                                                \r"
     ]
    },
    {
     "name": "stdout",
     "output_type": "stream",
     "text": [
      "Saved stratified sample: ../data/sample/PC_v1_00/amazon_us_reviews-train-00004-of-00008.parquet\n",
      "Stratified sampling: ../data/raw/PC_v1_00/amazon_us_reviews-train-00000-of-00008.parquet\n"
     ]
    },
    {
     "name": "stderr",
     "output_type": "stream",
     "text": [
      "25/07/26 05:13:20 WARN MemoryManager: Total allocation exceeds 95.00% (1,020,054,720 bytes) of heap memory\n",
      "Scaling row group sizes to 95.00% for 8 writers\n",
      "25/07/26 05:13:20 WARN MemoryManager: Total allocation exceeds 95.00% (1,020,054,720 bytes) of heap memory\n",
      "Scaling row group sizes to 95.00% for 8 writers\n",
      "25/07/26 05:13:20 WARN MemoryManager: Total allocation exceeds 95.00% (1,020,054,720 bytes) of heap memory\n",
      "Scaling row group sizes to 95.00% for 8 writers\n",
      "25/07/26 05:13:21 WARN MemoryManager: Total allocation exceeds 95.00% (1,020,054,720 bytes) of heap memory\n",
      "Scaling row group sizes to 95.00% for 8 writers\n",
      "25/07/26 05:13:21 WARN MemoryManager: Total allocation exceeds 95.00% (1,020,054,720 bytes) of heap memory\n",
      "Scaling row group sizes to 95.00% for 8 writers\n",
      "                                                                                \r"
     ]
    },
    {
     "name": "stdout",
     "output_type": "stream",
     "text": [
      "Saved stratified sample: ../data/sample/PC_v1_00/amazon_us_reviews-train-00000-of-00008.parquet\n",
      "Stratified sampling: ../data/raw/PC_v1_00/amazon_us_reviews-train-00005-of-00008.parquet\n"
     ]
    },
    {
     "name": "stderr",
     "output_type": "stream",
     "text": [
      "25/07/26 05:13:35 WARN MemoryManager: Total allocation exceeds 95.00% (1,020,054,720 bytes) of heap memory\n",
      "Scaling row group sizes to 95.00% for 8 writers\n",
      "25/07/26 05:13:35 WARN MemoryManager: Total allocation exceeds 95.00% (1,020,054,720 bytes) of heap memory\n",
      "Scaling row group sizes to 95.00% for 8 writers\n",
      "25/07/26 05:13:36 WARN MemoryManager: Total allocation exceeds 95.00% (1,020,054,720 bytes) of heap memory\n",
      "Scaling row group sizes to 95.00% for 8 writers\n",
      "25/07/26 05:13:36 WARN MemoryManager: Total allocation exceeds 95.00% (1,020,054,720 bytes) of heap memory\n",
      "Scaling row group sizes to 95.00% for 8 writers\n",
      "25/07/26 05:13:36 WARN MemoryManager: Total allocation exceeds 95.00% (1,020,054,720 bytes) of heap memory\n",
      "Scaling row group sizes to 95.00% for 8 writers\n",
      "                                                                                \r"
     ]
    },
    {
     "name": "stdout",
     "output_type": "stream",
     "text": [
      "Saved stratified sample: ../data/sample/PC_v1_00/amazon_us_reviews-train-00005-of-00008.parquet\n",
      "Stratified sampling: ../data/raw/PC_v1_00/amazon_us_reviews-train-00001-of-00008.parquet\n"
     ]
    },
    {
     "name": "stderr",
     "output_type": "stream",
     "text": [
      "25/07/26 05:13:46 WARN MemoryManager: Total allocation exceeds 95.00% (1,020,054,720 bytes) of heap memory\n",
      "Scaling row group sizes to 95.00% for 8 writers\n",
      "25/07/26 05:13:46 WARN MemoryManager: Total allocation exceeds 95.00% (1,020,054,720 bytes) of heap memory\n",
      "Scaling row group sizes to 95.00% for 8 writers\n",
      "25/07/26 05:13:47 WARN MemoryManager: Total allocation exceeds 95.00% (1,020,054,720 bytes) of heap memory\n",
      "Scaling row group sizes to 95.00% for 8 writers\n",
      "25/07/26 05:13:47 WARN MemoryManager: Total allocation exceeds 95.00% (1,020,054,720 bytes) of heap memory\n",
      "Scaling row group sizes to 95.00% for 8 writers\n",
      "                                                                                \r"
     ]
    },
    {
     "name": "stdout",
     "output_type": "stream",
     "text": [
      "Saved stratified sample: ../data/sample/PC_v1_00/amazon_us_reviews-train-00001-of-00008.parquet\n",
      "Stratified sampling: ../data/raw/Major_Appliances_v1_00/amazon_us_reviews-train.parquet\n"
     ]
    },
    {
     "name": "stderr",
     "output_type": "stream",
     "text": [
      "25/07/26 05:13:48 WARN MemoryManager: Total allocation exceeds 95.00% (1,020,054,720 bytes) of heap memory\n",
      "Scaling row group sizes to 95.00% for 8 writers\n"
     ]
    },
    {
     "name": "stdout",
     "output_type": "stream",
     "text": [
      "Saved stratified sample: ../data/sample/Major_Appliances_v1_00/amazon_us_reviews-train.parquet\n",
      "Stratified sampling: ../data/raw/Watches_v1_00/amazon_us_reviews-train.parquet\n"
     ]
    },
    {
     "name": "stderr",
     "output_type": "stream",
     "text": [
      "25/07/26 05:14:00 WARN MemoryManager: Total allocation exceeds 95.00% (1,020,054,720 bytes) of heap memory\n",
      "Scaling row group sizes to 95.00% for 8 writers\n",
      "25/07/26 05:14:01 WARN MemoryManager: Total allocation exceeds 95.00% (1,020,054,720 bytes) of heap memory\n",
      "Scaling row group sizes to 95.00% for 8 writers\n",
      "25/07/26 05:14:01 WARN MemoryManager: Total allocation exceeds 95.00% (1,020,054,720 bytes) of heap memory\n",
      "Scaling row group sizes to 95.00% for 8 writers\n",
      "                                                                                \r"
     ]
    },
    {
     "name": "stdout",
     "output_type": "stream",
     "text": [
      "Saved stratified sample: ../data/sample/Watches_v1_00/amazon_us_reviews-train.parquet\n",
      "Stratified sampling: ../data/raw/Digital_Ebook_Purchase_v1_00/partial/train/0006.parquet\n"
     ]
    },
    {
     "name": "stderr",
     "output_type": "stream",
     "text": [
      "25/07/26 05:14:02 WARN MemoryManager: Total allocation exceeds 95.00% (1,020,054,720 bytes) of heap memory\n",
      "Scaling row group sizes to 95.00% for 8 writers\n",
      "25/07/26 05:14:03 WARN MemoryManager: Total allocation exceeds 95.00% (1,020,054,720 bytes) of heap memory\n",
      "Scaling row group sizes to 95.00% for 8 writers\n",
      "25/07/26 05:14:03 WARN MemoryManager: Total allocation exceeds 95.00% (1,020,054,720 bytes) of heap memory\n",
      "Scaling row group sizes to 95.00% for 8 writers\n",
      "                                                                                \r"
     ]
    },
    {
     "name": "stdout",
     "output_type": "stream",
     "text": [
      "Saved stratified sample: ../data/sample/Digital_Ebook_Purchase_v1_00/partial/train/0006.parquet\n",
      "Stratified sampling: ../data/raw/Digital_Ebook_Purchase_v1_00/partial/train/0007.parquet\n"
     ]
    },
    {
     "name": "stderr",
     "output_type": "stream",
     "text": [
      "25/07/26 05:14:21 WARN MemoryManager: Total allocation exceeds 95.00% (1,020,054,720 bytes) of heap memory\n",
      "Scaling row group sizes to 95.00% for 8 writers\n",
      "25/07/26 05:14:22 WARN MemoryManager: Total allocation exceeds 95.00% (1,020,054,720 bytes) of heap memory\n",
      "Scaling row group sizes to 95.00% for 8 writers\n",
      "25/07/26 05:14:22 WARN MemoryManager: Total allocation exceeds 95.00% (1,020,054,720 bytes) of heap memory\n",
      "Scaling row group sizes to 95.00% for 8 writers\n",
      "25/07/26 05:14:22 WARN MemoryManager: Total allocation exceeds 95.00% (1,020,054,720 bytes) of heap memory\n",
      "Scaling row group sizes to 95.00% for 8 writers\n",
      "                                                                                \r"
     ]
    },
    {
     "name": "stdout",
     "output_type": "stream",
     "text": [
      "Saved stratified sample: ../data/sample/Digital_Ebook_Purchase_v1_00/partial/train/0007.parquet\n",
      "Stratified sampling: ../data/raw/Digital_Ebook_Purchase_v1_00/partial/train/0005.parquet\n"
     ]
    },
    {
     "name": "stderr",
     "output_type": "stream",
     "text": [
      "25/07/26 05:14:39 WARN MemoryManager: Total allocation exceeds 95.00% (1,020,054,720 bytes) of heap memory\n",
      "Scaling row group sizes to 95.00% for 8 writers\n",
      "25/07/26 05:14:40 WARN MemoryManager: Total allocation exceeds 95.00% (1,020,054,720 bytes) of heap memory\n",
      "Scaling row group sizes to 95.00% for 8 writers\n",
      "25/07/26 05:14:40 WARN MemoryManager: Total allocation exceeds 95.00% (1,020,054,720 bytes) of heap memory\n",
      "Scaling row group sizes to 95.00% for 8 writers\n",
      "25/07/26 05:14:40 WARN MemoryManager: Total allocation exceeds 95.00% (1,020,054,720 bytes) of heap memory\n",
      "Scaling row group sizes to 95.00% for 8 writers\n",
      "                                                                                \r"
     ]
    },
    {
     "name": "stdout",
     "output_type": "stream",
     "text": [
      "Saved stratified sample: ../data/sample/Digital_Ebook_Purchase_v1_00/partial/train/0005.parquet\n",
      "Stratified sampling: ../data/raw/Digital_Ebook_Purchase_v1_00/partial/train/0004.parquet\n"
     ]
    },
    {
     "name": "stderr",
     "output_type": "stream",
     "text": [
      "25/07/26 05:14:52 WARN MemoryManager: Total allocation exceeds 95.00% (1,020,054,720 bytes) of heap memory\n",
      "Scaling row group sizes to 95.00% for 8 writers\n",
      "25/07/26 05:14:53 WARN MemoryManager: Total allocation exceeds 95.00% (1,020,054,720 bytes) of heap memory\n",
      "Scaling row group sizes to 95.00% for 8 writers\n",
      "25/07/26 05:14:53 WARN MemoryManager: Total allocation exceeds 95.00% (1,020,054,720 bytes) of heap memory\n",
      "Scaling row group sizes to 95.00% for 8 writers\n",
      "25/07/26 05:14:53 WARN MemoryManager: Total allocation exceeds 95.00% (1,020,054,720 bytes) of heap memory\n",
      "Scaling row group sizes to 95.00% for 8 writers\n",
      "25/07/26 05:14:53 WARN MemoryManager: Total allocation exceeds 95.00% (1,020,054,720 bytes) of heap memory\n",
      "Scaling row group sizes to 95.00% for 8 writers\n",
      "                                                                                \r"
     ]
    },
    {
     "name": "stdout",
     "output_type": "stream",
     "text": [
      "Saved stratified sample: ../data/sample/Digital_Ebook_Purchase_v1_00/partial/train/0004.parquet\n",
      "Stratified sampling: ../data/raw/Digital_Ebook_Purchase_v1_00/partial/train/0008.parquet\n"
     ]
    },
    {
     "name": "stderr",
     "output_type": "stream",
     "text": [
      "25/07/26 05:14:54 WARN MemoryManager: Total allocation exceeds 95.00% (1,020,054,720 bytes) of heap memory\n",
      "Scaling row group sizes to 95.00% for 8 writers\n",
      "25/07/26 05:14:55 WARN MemoryManager: Total allocation exceeds 95.00% (1,020,054,720 bytes) of heap memory\n",
      "Scaling row group sizes to 95.00% for 8 writers\n",
      "25/07/26 05:14:55 WARN MemoryManager: Total allocation exceeds 95.00% (1,020,054,720 bytes) of heap memory\n",
      "Scaling row group sizes to 95.00% for 8 writers\n",
      "25/07/26 05:14:55 WARN MemoryManager: Total allocation exceeds 95.00% (1,020,054,720 bytes) of heap memory\n",
      "Scaling row group sizes to 95.00% for 8 writers\n",
      "25/07/26 05:14:55 WARN MemoryManager: Total allocation exceeds 95.00% (1,020,054,720 bytes) of heap memory\n",
      "Scaling row group sizes to 95.00% for 8 writers\n",
      "                                                                                \r"
     ]
    },
    {
     "name": "stdout",
     "output_type": "stream",
     "text": [
      "Saved stratified sample: ../data/sample/Digital_Ebook_Purchase_v1_00/partial/train/0008.parquet\n",
      "Stratified sampling: ../data/raw/Digital_Ebook_Purchase_v1_00/partial/train/0001.parquet\n"
     ]
    },
    {
     "name": "stderr",
     "output_type": "stream",
     "text": [
      "25/07/26 05:14:56 WARN MemoryManager: Total allocation exceeds 95.00% (1,020,054,720 bytes) of heap memory\n",
      "Scaling row group sizes to 95.00% for 8 writers\n",
      "25/07/26 05:14:57 WARN MemoryManager: Total allocation exceeds 95.00% (1,020,054,720 bytes) of heap memory\n",
      "Scaling row group sizes to 95.00% for 8 writers\n",
      "                                                                                \r"
     ]
    },
    {
     "name": "stdout",
     "output_type": "stream",
     "text": [
      "Saved stratified sample: ../data/sample/Digital_Ebook_Purchase_v1_00/partial/train/0001.parquet\n",
      "Stratified sampling: ../data/raw/Digital_Ebook_Purchase_v1_00/partial/train/0000.parquet\n"
     ]
    },
    {
     "name": "stderr",
     "output_type": "stream",
     "text": [
      "25/07/26 05:14:58 WARN MemoryManager: Total allocation exceeds 95.00% (1,020,054,720 bytes) of heap memory\n",
      "Scaling row group sizes to 95.00% for 8 writers\n",
      "25/07/26 05:14:59 WARN MemoryManager: Total allocation exceeds 95.00% (1,020,054,720 bytes) of heap memory\n",
      "Scaling row group sizes to 95.00% for 8 writers\n",
      "25/07/26 05:14:59 WARN MemoryManager: Total allocation exceeds 95.00% (1,020,054,720 bytes) of heap memory\n",
      "Scaling row group sizes to 95.00% for 8 writers\n",
      "25/07/26 05:14:59 WARN MemoryManager: Total allocation exceeds 95.00% (1,020,054,720 bytes) of heap memory\n",
      "Scaling row group sizes to 95.00% for 8 writers\n",
      "25/07/26 05:15:00 WARN MemoryManager: Total allocation exceeds 95.00% (1,020,054,720 bytes) of heap memory\n",
      "Scaling row group sizes to 95.00% for 8 writers\n",
      "                                                                                \r"
     ]
    },
    {
     "name": "stdout",
     "output_type": "stream",
     "text": [
      "Saved stratified sample: ../data/sample/Digital_Ebook_Purchase_v1_00/partial/train/0000.parquet\n",
      "Stratified sampling: ../data/raw/Digital_Ebook_Purchase_v1_00/partial/train/0009.parquet\n"
     ]
    },
    {
     "name": "stderr",
     "output_type": "stream",
     "text": [
      "25/07/26 05:15:12 WARN MemoryManager: Total allocation exceeds 95.00% (1,020,054,720 bytes) of heap memory\n",
      "Scaling row group sizes to 95.00% for 8 writers\n",
      "25/07/26 05:15:13 WARN MemoryManager: Total allocation exceeds 95.00% (1,020,054,720 bytes) of heap memory\n",
      "Scaling row group sizes to 95.00% for 8 writers\n",
      "25/07/26 05:15:13 WARN MemoryManager: Total allocation exceeds 95.00% (1,020,054,720 bytes) of heap memory\n",
      "Scaling row group sizes to 95.00% for 8 writers\n",
      "                                                                                \r"
     ]
    },
    {
     "name": "stdout",
     "output_type": "stream",
     "text": [
      "Saved stratified sample: ../data/sample/Digital_Ebook_Purchase_v1_00/partial/train/0009.parquet\n",
      "Stratified sampling: ../data/raw/Digital_Ebook_Purchase_v1_00/partial/train/0002.parquet\n"
     ]
    },
    {
     "name": "stderr",
     "output_type": "stream",
     "text": [
      "25/07/26 05:15:14 WARN MemoryManager: Total allocation exceeds 95.00% (1,020,054,720 bytes) of heap memory\n",
      "Scaling row group sizes to 95.00% for 8 writers\n",
      "25/07/26 05:15:15 WARN MemoryManager: Total allocation exceeds 95.00% (1,020,054,720 bytes) of heap memory\n",
      "Scaling row group sizes to 95.00% for 8 writers\n",
      "25/07/26 05:15:15 WARN MemoryManager: Total allocation exceeds 95.00% (1,020,054,720 bytes) of heap memory\n",
      "Scaling row group sizes to 95.00% for 8 writers\n",
      "25/07/26 05:15:15 WARN MemoryManager: Total allocation exceeds 95.00% (1,020,054,720 bytes) of heap memory\n",
      "Scaling row group sizes to 95.00% for 8 writers\n",
      "25/07/26 05:15:16 WARN MemoryManager: Total allocation exceeds 95.00% (1,020,054,720 bytes) of heap memory\n",
      "Scaling row group sizes to 95.00% for 8 writers\n",
      "                                                                                \r"
     ]
    },
    {
     "name": "stdout",
     "output_type": "stream",
     "text": [
      "Saved stratified sample: ../data/sample/Digital_Ebook_Purchase_v1_00/partial/train/0002.parquet\n",
      "Stratified sampling: ../data/raw/Digital_Ebook_Purchase_v1_00/partial/train/0003.parquet\n"
     ]
    },
    {
     "name": "stderr",
     "output_type": "stream",
     "text": [
      "25/07/26 05:15:16 WARN MemoryManager: Total allocation exceeds 95.00% (1,020,054,720 bytes) of heap memory\n",
      "Scaling row group sizes to 95.00% for 8 writers\n",
      "25/07/26 05:15:17 WARN MemoryManager: Total allocation exceeds 95.00% (1,020,054,720 bytes) of heap memory\n",
      "Scaling row group sizes to 95.00% for 8 writers\n",
      "25/07/26 05:15:17 WARN MemoryManager: Total allocation exceeds 95.00% (1,020,054,720 bytes) of heap memory\n",
      "Scaling row group sizes to 95.00% for 8 writers\n",
      "                                                                                \r"
     ]
    },
    {
     "name": "stdout",
     "output_type": "stream",
     "text": [
      "Saved stratified sample: ../data/sample/Digital_Ebook_Purchase_v1_00/partial/train/0003.parquet\n"
     ]
    }
   ],
   "source": [
    "from pyspark.sql import SparkSession\n",
    "from pyspark.sql.functions import col\n",
    "spark = SparkSession.builder.appName(\"AmazonReviewStratifiedSampling\").getOrCreate()\n",
    "\n",
    "raw_root = \"../data/raw\"\n",
    "sampled_root = \"../data/sample\"\n",
    "os.makedirs(sampled_root, exist_ok=True)\n",
    "\n",
    "# How much to sample overall (e.g., 2%)\n",
    "SAMPLE_FRAC = 0.05\n",
    "STRATA_COL = \"star_rating\"  # or \"overall\" for some files\n",
    "\n",
    "for root, dirs, files in os.walk(raw_root):\n",
    "    for file in files:\n",
    "        if file.endswith(\".parquet\"):\n",
    "            pf = os.path.join(root, file)\n",
    "            out_dir = pf.replace(raw_root, sampled_root)\n",
    "            os.makedirs(os.path.dirname(out_dir), exist_ok=True)\n",
    "\n",
    "            print(f\"Stratified sampling: {pf}\")\n",
    "            df = spark.read.parquet(pf)\n",
    "            if STRATA_COL not in df.columns:\n",
    "                STRATA_COL = \"overall\"\n",
    "\n",
    "            # Get unique star ratings present in the file\n",
    "            ratings = [r[STRATA_COL] for r in df.select(STRATA_COL).distinct().collect()]\n",
    "\n",
    "            sampled = None\n",
    "            for star in ratings:\n",
    "                subset = df.filter(col(STRATA_COL) == star)\n",
    "                count = subset.count()\n",
    "                n = max(1, int(count * SAMPLE_FRAC))\n",
    "                # If very rare class, keep all available rows\n",
    "                sample_class = subset.sample(False, min(1.0, n / count), seed=42)\n",
    "                if sampled is None:\n",
    "                    sampled = sample_class\n",
    "                else:\n",
    "                    sampled = sampled.union(sample_class)\n",
    "            sampled.write.mode(\"overwrite\").parquet(out_dir)\n",
    "            print(f\"Saved stratified sample: {out_dir}\")\n",
    "\n",
    "spark.stop()"
   ]
  },
  {
   "cell_type": "code",
   "execution_count": 3,
   "id": "a2999969",
   "metadata": {},
   "outputs": [
    {
     "name": "stderr",
     "output_type": "stream",
     "text": [
      "WARNING: Using incubator modules: jdk.incubator.vector\n",
      "Using Spark's default log4j profile: org/apache/spark/log4j2-defaults.properties\n",
      "25/07/26 03:34:00 WARN Utils: Your hostname, Anveshs-MacBook-Air.local, resolves to a loopback address: 127.0.0.1; using 10.0.0.124 instead (on interface en0)\n",
      "25/07/26 03:34:00 WARN Utils: Set SPARK_LOCAL_IP if you need to bind to another address\n",
      "Using Spark's default log4j profile: org/apache/spark/log4j2-defaults.properties\n",
      "Setting default log level to \"WARN\".\n",
      "To adjust logging level use sc.setLogLevel(newLevel). For SparkR, use setLogLevel(newLevel).\n",
      "25/07/26 03:34:01 WARN NativeCodeLoader: Unable to load native-hadoop library for your platform... using builtin-java classes where applicable\n"
     ]
    }
   ],
   "source": [
    "from pyspark.sql import SparkSession\n",
    "import glob\n",
    "import os\n",
    "\n",
    "# 1. Start Spark session (run this only once per notebook!)\n",
    "spark = SparkSession.builder \\\n",
    "    .appName(\"Amazon Review EDA\") \\\n",
    "    .getOrCreate()"
   ]
  },
  {
   "cell_type": "code",
   "execution_count": 4,
   "id": "cadcdb7a",
   "metadata": {},
   "outputs": [
    {
     "name": "stdout",
     "output_type": "stream",
     "text": [
      "Found 41 category Parquet files.\n"
     ]
    }
   ],
   "source": [
    "\n",
    "# 2. Find all first Parquet files from each category\n",
    "root_dir = \"../data/raw\"\n",
    "category_dirs = [os.path.join(root_dir, d) for d in os.listdir(root_dir) if os.path.isdir(os.path.join(root_dir, d))]\n",
    "parquet_files = []\n",
    "for folder in category_dirs:\n",
    "    files = glob.glob(os.path.join(folder, \"*.parquet\"))\n",
    "    if files:\n",
    "        parquet_files.append(files[0])\n",
    "print(f\"Found {len(parquet_files)} category Parquet files.\")\n"
   ]
  },
  {
   "cell_type": "code",
   "execution_count": 5,
   "id": "9807979d",
   "metadata": {},
   "outputs": [
    {
     "name": "stdout",
     "output_type": "stream",
     "text": [
      "\n",
      "--- Profiling file: ../data/raw/Lawn_and_Garden_v1_00/amazon_us_reviews-train-00002-of-00003.parquet ---\n"
     ]
    },
    {
     "name": "stderr",
     "output_type": "stream",
     "text": [
      "                                                                                \r"
     ]
    },
    {
     "name": "stdout",
     "output_type": "stream",
     "text": [
      "Null counts per column: {'marketplace': 0, 'customer_id': 0, 'review_id': 0, 'product_id': 0, 'product_parent': 0, 'product_title': 0, 'product_category': 0, 'star_rating': 0, 'helpful_votes': 0, 'total_votes': 0, 'vine': 0, 'verified_purchase': 0, 'review_headline': 0, 'review_body': 0, 'review_date': 0}\n",
      "Review length stats:\n",
      "   summary       review_length\n",
      "0   count              372288\n",
      "1    mean  510.01443237493555\n",
      "2  stddev   628.0015573230875\n",
      "3     min                   1\n",
      "4     max               47045\n",
      "+-----------+------+\n",
      "|star_rating| count|\n",
      "+-----------+------+\n",
      "|          5|198566|\n",
      "|          4| 65318|\n",
      "|          1| 55203|\n",
      "|          3| 29782|\n",
      "|          2| 23419|\n",
      "+-----------+------+\n",
      "\n",
      "+----+------+\n",
      "|year| count|\n",
      "+----+------+\n",
      "|1999|     4|\n",
      "|2000|   872|\n",
      "|2001|  1137|\n",
      "|2002|  1502|\n",
      "|2003|  2149|\n",
      "|2004|  2290|\n",
      "|2005|  3439|\n",
      "|2006|  6035|\n",
      "|2007| 15372|\n",
      "|2008| 21953|\n",
      "|2009| 30771|\n",
      "|2010| 53573|\n",
      "|2011| 94952|\n",
      "|2012|138239|\n",
      "+----+------+\n",
      "\n",
      "+-----------+\n",
      "|review_body|\n",
      "+-----------+\n",
      "|good       |\n",
      "|good deal  |\n",
      "|Thanks     |\n",
      "|NICE       |\n",
      "|not right  |\n",
      "+-----------+\n",
      "only showing top 5 rows\n",
      "\n",
      "--- Profiling file: ../data/raw/Music_v1_00/amazon_us_reviews-train-00006-of-00008.parquet ---\n",
      "Null counts per column: {'marketplace': 0, 'customer_id': 0, 'review_id': 0, 'product_id': 0, 'product_parent': 0, 'product_title': 0, 'product_category': 0, 'star_rating': 0, 'helpful_votes': 0, 'total_votes': 0, 'vine': 0, 'verified_purchase': 0, 'review_headline': 0, 'review_body': 0, 'review_date': 0}\n",
      "Review length stats:\n",
      "   summary      review_length\n",
      "0   count             513000\n",
      "1    mean  803.0912729044834\n",
      "2  stddev  795.9901695736297\n",
      "3     min                  1\n",
      "4     max              40285\n",
      "+-----------+------+\n",
      "|star_rating| count|\n",
      "+-----------+------+\n",
      "|          5|336202|\n",
      "|          4| 96871|\n",
      "|          3| 35537|\n",
      "|          1| 24498|\n",
      "|          2| 19892|\n",
      "+-----------+------+\n",
      "\n",
      "+----+------+\n",
      "|year| count|\n",
      "+----+------+\n",
      "|2001|151939|\n",
      "|2002|227880|\n",
      "|2003|133181|\n",
      "+----+------+\n",
      "\n",
      "+-----------+\n",
      "|review_body|\n",
      "+-----------+\n",
      "|What's Up  |\n",
      "|.          |\n",
      "|awesome    |\n",
      "|Duplicate  |\n",
      "|Zero       |\n",
      "+-----------+\n",
      "only showing top 5 rows\n",
      "\n",
      "--- Profiling file: ../data/raw/Outdoors_v1_00/amazon_us_reviews-train-00002-of-00003.parquet ---\n",
      "Null counts per column: {'marketplace': 0, 'customer_id': 0, 'review_id': 0, 'product_id': 0, 'product_parent': 0, 'product_title': 0, 'product_category': 0, 'star_rating': 0, 'helpful_votes': 0, 'total_votes': 0, 'vine': 0, 'verified_purchase': 0, 'review_headline': 0, 'review_body': 0, 'review_date': 0}\n",
      "Review length stats:\n",
      "   summary      review_length\n",
      "0   count             236401\n",
      "1    mean  528.2020930537519\n",
      "2  stddev  615.4000706692466\n",
      "3     min                  2\n",
      "4     max              22533\n",
      "+-----------+------+\n",
      "|star_rating| count|\n",
      "+-----------+------+\n",
      "|          5|131589|\n",
      "|          4| 52074|\n",
      "|          1| 20017|\n",
      "|          3| 19783|\n",
      "|          2| 12938|\n",
      "+-----------+------+\n",
      "\n",
      "+----+-----+\n",
      "|year|count|\n",
      "+----+-----+\n",
      "|1999|    2|\n",
      "|2000|   19|\n",
      "|2001|   74|\n",
      "|2002|  100|\n",
      "|2003|  260|\n",
      "|2004|  447|\n",
      "|2005| 1363|\n",
      "|2006| 3449|\n",
      "|2007|12195|\n",
      "|2008|19261|\n",
      "|2009|29985|\n",
      "|2010|48514|\n",
      "|2011|97044|\n",
      "|2012|23688|\n",
      "+----+-----+\n",
      "\n",
      "+-----------+\n",
      "|review_body|\n",
      "+-----------+\n",
      "|great      |\n",
      "|awesome    |\n",
      "|favorite   |\n",
      "|I like it  |\n",
      "|very good  |\n",
      "+-----------+\n",
      "only showing top 5 rows\n",
      "\n",
      "--- Profiling file: ../data/raw/Shoes_v1_00/amazon_us_reviews-train-00001-of-00004.parquet ---\n",
      "Null counts per column: {'marketplace': 0, 'customer_id': 0, 'review_id': 0, 'product_id': 0, 'product_parent': 0, 'product_title': 0, 'product_category': 0, 'star_rating': 0, 'helpful_votes': 0, 'total_votes': 0, 'vine': 0, 'verified_purchase': 0, 'review_headline': 0, 'review_body': 0, 'review_date': 0}\n",
      "Review length stats:\n",
      "   summary       review_length\n",
      "0   count             1343000\n",
      "1    mean  180.77583544303798\n",
      "2  stddev  229.90732035553523\n",
      "3     min                   0\n",
      "4     max               21287\n",
      "+-----------+------+\n",
      "|star_rating| count|\n",
      "+-----------+------+\n",
      "|          5|816945|\n",
      "|          4|261239|\n",
      "|          3|125674|\n",
      "|          2| 73879|\n",
      "|          1| 65263|\n",
      "+-----------+------+\n",
      "\n",
      "+----+-------+\n",
      "|year|  count|\n",
      "+----+-------+\n",
      "|2014|1317477|\n",
      "|2015|  25523|\n",
      "+----+-------+\n",
      "\n",
      "+-----------+\n",
      "|review_body|\n",
      "+-----------+\n",
      "|👍         |\n",
      "|Good       |\n",
      "|Good shoe  |\n",
      "|love       |\n",
      "|excelent   |\n",
      "+-----------+\n",
      "only showing top 5 rows\n",
      "\n",
      "--- Profiling file: ../data/raw/Video_Games_v1_00/amazon_us_reviews-train-00002-of-00003.parquet ---\n",
      "Null counts per column: {'marketplace': 0, 'customer_id': 0, 'review_id': 0, 'product_id': 0, 'product_parent': 0, 'product_title': 0, 'product_category': 0, 'star_rating': 0, 'helpful_votes': 0, 'total_votes': 0, 'vine': 0, 'verified_purchase': 0, 'review_headline': 0, 'review_body': 0, 'review_date': 0}\n",
      "Review length stats:\n",
      "   summary      review_length\n",
      "0   count             262997\n",
      "1    mean  915.4671193967991\n",
      "2  stddev  1115.511342918232\n",
      "3     min                  0\n",
      "4     max              37039\n",
      "+-----------+------+\n",
      "|star_rating| count|\n",
      "+-----------+------+\n",
      "|          5|131909|\n",
      "|          4| 58939|\n",
      "|          1| 28761|\n",
      "|          3| 25633|\n",
      "|          2| 17755|\n",
      "+-----------+------+\n",
      "\n",
      "+----+-----+\n",
      "|year|count|\n",
      "+----+-----+\n",
      "|1997|   12|\n",
      "|1998|   13|\n",
      "|1999| 4923|\n",
      "|2000|23462|\n",
      "|2001|35608|\n",
      "|2002|43812|\n",
      "|2003|40158|\n",
      "|2004|32991|\n",
      "|2005|27106|\n",
      "|2006|24674|\n",
      "|2007|30238|\n",
      "+----+-----+\n",
      "\n",
      "+-----------+\n",
      "|review_body|\n",
      "+-----------+\n",
      "|Ok         |\n",
      "|Loved it!  |\n",
      "|ok         |\n",
      "|Amazing    |\n",
      "|Great!!    |\n",
      "+-----------+\n",
      "only showing top 5 rows\n",
      "\n",
      "--- Profiling file: ../data/raw/Apparel_v1_00/amazon_us_reviews-train-00001-of-00005.parquet ---\n",
      "Null counts per column: {'marketplace': 0, 'customer_id': 0, 'review_id': 0, 'product_id': 0, 'product_parent': 0, 'product_title': 0, 'product_category': 0, 'star_rating': 0, 'helpful_votes': 0, 'total_votes': 0, 'vine': 0, 'verified_purchase': 0, 'review_headline': 0, 'review_body': 0, 'review_date': 0}\n",
      "Review length stats:\n",
      "   summary       review_length\n",
      "0   count             1371000\n",
      "1    mean  160.64455142231947\n",
      "2  stddev  201.25996729352786\n",
      "3     min                   0\n",
      "4     max               23369\n",
      "+-----------+------+\n",
      "|star_rating| count|\n",
      "+-----------+------+\n",
      "|          5|762097|\n",
      "|          4|270620|\n",
      "|          3|150141|\n",
      "|          1|101015|\n",
      "|          2| 87127|\n",
      "+-----------+------+\n",
      "\n",
      "+----+------+\n",
      "|year| count|\n",
      "+----+------+\n",
      "|2007|     1|\n",
      "|2010|     1|\n",
      "|2011|     3|\n",
      "|2012|     4|\n",
      "|2013|103139|\n",
      "|2014|759545|\n",
      "|2015|508307|\n",
      "+----+------+\n",
      "\n",
      "+-----------+\n",
      "|review_body|\n",
      "+-----------+\n",
      "|Not happy  |\n",
      "|Too small  |\n",
      "|Cuteee     |\n",
      "|cute!      |\n",
      "|excelente  |\n",
      "+-----------+\n",
      "only showing top 5 rows\n",
      "\n",
      "--- Profiling file: ../data/raw/Furniture_v1_00/amazon_us_reviews-train.parquet ---\n",
      "Null counts per column: {'marketplace': 0, 'customer_id': 0, 'review_id': 0, 'product_id': 0, 'product_parent': 0, 'product_title': 0, 'product_category': 0, 'star_rating': 0, 'helpful_votes': 0, 'total_votes': 0, 'vine': 0, 'verified_purchase': 0, 'review_headline': 0, 'review_body': 0, 'review_date': 0}\n",
      "Review length stats:\n",
      "   summary       review_length\n",
      "0   count              792113\n",
      "1    mean   299.2613011022417\n",
      "2  stddev  423.40232588387084\n",
      "3     min                   0\n",
      "4     max               36296\n",
      "+-----------+------+\n",
      "|star_rating| count|\n",
      "+-----------+------+\n",
      "|          5|447716|\n",
      "|          4|153666|\n",
      "|          3| 73563|\n",
      "|          1| 73320|\n",
      "|          2| 43848|\n",
      "+-----------+------+\n",
      "\n",
      "+----+------+\n",
      "|year| count|\n",
      "+----+------+\n",
      "|2000|    11|\n",
      "|2001|    38|\n",
      "|2002|    69|\n",
      "|2003|   640|\n",
      "|2004|  1140|\n",
      "|2005|   417|\n",
      "|2006|   684|\n",
      "|2007|  2724|\n",
      "|2008|  4034|\n",
      "|2009|  6861|\n",
      "|2010| 16808|\n",
      "|2011| 33823|\n",
      "|2012| 61219|\n",
      "|2013|157432|\n",
      "|2014|253491|\n",
      "|2015|252722|\n",
      "+----+------+\n",
      "\n",
      "+-----------+\n",
      "|review_body|\n",
      "+-----------+\n",
      "|Beautiful  |\n",
      "|Small      |\n",
      "|Good!!     |\n",
      "|Excellent  |\n",
      "|great      |\n",
      "+-----------+\n",
      "only showing top 5 rows\n",
      "\n",
      "--- Profiling file: ../data/raw/Baby_v1_00/amazon_us_reviews-train-00001-of-00002.parquet ---\n",
      "Null counts per column: {'marketplace': 0, 'customer_id': 0, 'review_id': 0, 'product_id': 0, 'product_parent': 0, 'product_title': 0, 'product_category': 0, 'star_rating': 0, 'helpful_votes': 0, 'total_votes': 0, 'vine': 0, 'verified_purchase': 0, 'review_headline': 0, 'review_body': 0, 'review_date': 0}\n",
      "Review length stats:\n",
      "   summary       review_length\n",
      "0   count              658932\n",
      "1    mean  492.98579671346965\n",
      "2  stddev   545.3497678288152\n",
      "3     min                   1\n",
      "4     max               32705\n",
      "+-----------+------+\n",
      "|star_rating| count|\n",
      "+-----------+------+\n",
      "|          5|374290|\n",
      "|          4|121678|\n",
      "|          1| 61496|\n",
      "|          3| 58943|\n",
      "|          2| 42525|\n",
      "+-----------+------+\n",
      "\n",
      "+----+------+\n",
      "|year| count|\n",
      "+----+------+\n",
      "|1999|   112|\n",
      "|2000|   233|\n",
      "|2001|  2013|\n",
      "|2002|  6759|\n",
      "|2003| 11128|\n",
      "|2004| 16322|\n",
      "|2005| 19411|\n",
      "|2006| 13590|\n",
      "|2007| 20102|\n",
      "|2008| 27660|\n",
      "|2009| 36866|\n",
      "|2010| 58789|\n",
      "|2011|104466|\n",
      "|2012|141791|\n",
      "|2013|199690|\n",
      "+----+------+\n",
      "\n",
      "+-----------+\n",
      "|review_body|\n",
      "+-----------+\n",
      "|exelente   |\n",
      "|:)         |\n",
      "|nice item  |\n",
      "|nice item  |\n",
      "|Perfect    |\n",
      "+-----------+\n",
      "only showing top 5 rows\n",
      "\n",
      "--- Profiling file: ../data/raw/Mobile_Apps_v1_00/amazon_us_reviews-train-00001-of-00004.parquet ---\n",
      "Null counts per column: {'marketplace': 0, 'customer_id': 0, 'review_id': 0, 'product_id': 0, 'product_parent': 0, 'product_title': 0, 'product_category': 0, 'star_rating': 0, 'helpful_votes': 0, 'total_votes': 0, 'vine': 0, 'verified_purchase': 0, 'review_headline': 0, 'review_body': 0, 'review_date': 0}\n",
      "Review length stats:\n",
      "   summary       review_length\n",
      "0   count             1461000\n",
      "1    mean   171.4613600273785\n",
      "2  stddev  193.95399898600567\n",
      "3     min                   1\n",
      "4     max               19738\n",
      "+-----------+------+\n",
      "|star_rating| count|\n",
      "+-----------+------+\n",
      "|          5|761272|\n",
      "|          4|308227|\n",
      "|          1|176025|\n",
      "|          3|141744|\n",
      "|          2| 73732|\n",
      "+-----------+------+\n",
      "\n",
      "+----+-------+\n",
      "|year|  count|\n",
      "+----+-------+\n",
      "|2013| 339743|\n",
      "|2014|1121257|\n",
      "+----+-------+\n",
      "\n",
      "+-----------+\n",
      "|review_body|\n",
      "+-----------+\n",
      "|Fun !      |\n",
      "|Okay       |\n",
      "|Good game  |\n",
      "|GOOD       |\n",
      "|Luv it     |\n",
      "+-----------+\n",
      "only showing top 5 rows\n",
      "\n",
      "--- Profiling file: ../data/raw/Video_DVD_v1_00/amazon_us_reviews-train-00006-of-00008.parquet ---\n",
      "Null counts per column: {'marketplace': 0, 'customer_id': 0, 'review_id': 0, 'product_id': 0, 'product_parent': 0, 'product_title': 0, 'product_category': 0, 'star_rating': 0, 'helpful_votes': 0, 'total_votes': 0, 'vine': 0, 'verified_purchase': 0, 'review_headline': 0, 'review_body': 0, 'review_date': 0}\n",
      "Review length stats:\n",
      "   summary       review_length\n",
      "0   count              368000\n",
      "1    mean  1168.2189836956522\n",
      "2  stddev  1376.2293091878398\n",
      "3     min                   1\n",
      "4     max               42433\n",
      "+-----------+------+\n",
      "|star_rating| count|\n",
      "+-----------+------+\n",
      "|          5|196785|\n",
      "|          4| 73731|\n",
      "|          3| 38234|\n",
      "|          1| 35798|\n",
      "|          2| 23452|\n",
      "+-----------+------+\n",
      "\n",
      "+----+------+\n",
      "|year| count|\n",
      "+----+------+\n",
      "|2004| 95535|\n",
      "|2005|170623|\n",
      "|2006|101842|\n",
      "+----+------+\n",
      "\n",
      "+-----------+\n",
      "|review_body|\n",
      "+-----------+\n",
      "|Good job!  |\n",
      "|A          |\n",
      "|yay        |\n",
      "|Too bad!   |\n",
      "|Exellent   |\n",
      "+-----------+\n",
      "only showing top 5 rows\n",
      "\n",
      "--- Profiling file: ../data/raw/Digital_Video_Download_v1_00/amazon_us_reviews-train-00002-of-00003.parquet ---\n",
      "Null counts per column: {'marketplace': 0, 'customer_id': 0, 'review_id': 0, 'product_id': 0, 'product_parent': 0, 'product_title': 0, 'product_category': 0, 'star_rating': 0, 'helpful_votes': 0, 'total_votes': 0, 'vine': 0, 'verified_purchase': 0, 'review_headline': 0, 'review_body': 0, 'review_date': 0}\n",
      "Review length stats:\n",
      "   summary       review_length\n",
      "0   count             1019147\n",
      "1    mean   288.9146629485246\n",
      "2  stddev  447.07552511241704\n",
      "3     min                   1\n",
      "4     max               39752\n",
      "+-----------+------+\n",
      "|star_rating| count|\n",
      "+-----------+------+\n",
      "|          5|597549|\n",
      "|          4|199759|\n",
      "|          3| 94349|\n",
      "|          1| 74537|\n",
      "|          2| 52953|\n",
      "+-----------+------+\n",
      "\n",
      "+----+------+\n",
      "|year| count|\n",
      "+----+------+\n",
      "|2000|     1|\n",
      "|2001|     1|\n",
      "|2002|     5|\n",
      "|2003|     4|\n",
      "|2004|     6|\n",
      "|2005|    11|\n",
      "|2006|   185|\n",
      "|2007|  2597|\n",
      "|2008|  3083|\n",
      "|2009|  3262|\n",
      "|2010|  6091|\n",
      "|2011| 20896|\n",
      "|2012|142478|\n",
      "|2013|722482|\n",
      "|2014|118045|\n",
      "+----+------+\n",
      "\n",
      "+-----------+\n",
      "|review_body|\n",
      "+-----------+\n",
      "|Best ever  |\n",
      "|Good show  |\n",
      "|Bad        |\n",
      "|Loved it!  |\n",
      "|gift       |\n",
      "+-----------+\n",
      "only showing top 5 rows\n",
      "\n",
      "--- Profiling file: ../data/raw/Books_v1_02/amazon_us_reviews-train-00000-of-00007.parquet ---\n",
      "Null counts per column: {'marketplace': 0, 'customer_id': 0, 'review_id': 0, 'product_id': 0, 'product_parent': 0, 'product_title': 0, 'product_category': 0, 'star_rating': 0, 'helpful_votes': 0, 'total_votes': 0, 'vine': 0, 'verified_purchase': 0, 'review_headline': 0, 'review_body': 0, 'review_date': 0}\n",
      "Review length stats:\n",
      "   summary       review_length\n",
      "0   count              396000\n",
      "1    mean  1062.6677424242425\n",
      "2  stddev  1268.3163366637518\n",
      "3     min                   2\n",
      "4     max               47723\n",
      "+-----------+------+\n",
      "|star_rating| count|\n",
      "+-----------+------+\n",
      "|          5|231618|\n",
      "|          4| 76692|\n",
      "|          3| 34460|\n",
      "|          1| 31632|\n",
      "|          2| 21598|\n",
      "+-----------+------+\n",
      "\n",
      "+----+------+\n",
      "|year| count|\n",
      "+----+------+\n",
      "|2005|396000|\n",
      "+----+------+\n",
      "\n",
      "+-----------+\n",
      "|review_body|\n",
      "+-----------+\n",
      "|good       |\n",
      "|BUY IT!    |\n",
      "|1*         |\n",
      "|good one.  |\n",
      "+-----------+\n",
      "\n",
      "\n",
      "--- Profiling file: ../data/raw/Toys_v1_00/amazon_us_reviews-train-00001-of-00005.parquet ---\n",
      "Null counts per column: {'marketplace': 0, 'customer_id': 0, 'review_id': 0, 'product_id': 0, 'product_parent': 0, 'product_title': 0, 'product_category': 0, 'star_rating': 0, 'helpful_votes': 0, 'total_votes': 0, 'vine': 0, 'verified_purchase': 0, 'review_headline': 0, 'review_body': 0, 'review_date': 0}\n",
      "Review length stats:\n",
      "   summary       review_length\n",
      "0   count             1284000\n",
      "1    mean  190.58944392523364\n",
      "2  stddev   332.5834900045381\n",
      "3     min                   0\n",
      "4     max               27806\n",
      "+-----------+------+\n",
      "|star_rating| count|\n",
      "+-----------+------+\n",
      "|          5|847743|\n",
      "|          4|182606|\n",
      "|          1| 99012|\n",
      "|          3| 97515|\n",
      "|          2| 57124|\n",
      "+-----------+------+\n",
      "\n",
      "+----+-------+\n",
      "|year|  count|\n",
      "+----+-------+\n",
      "|2014|1236904|\n",
      "|2015|  47096|\n",
      "+----+-------+\n",
      "\n",
      "+-----------+\n",
      "|review_body|\n",
      "+-----------+\n",
      "|Perfect    |\n",
      "|Very cute  |\n",
      "|love       |\n",
      "|Loved it   |\n",
      "|Excellent  |\n",
      "+-----------+\n",
      "only showing top 5 rows\n",
      "\n",
      "--- Profiling file: ../data/raw/Beauty_v1_00/amazon_us_reviews-train-00001-of-00005.parquet ---\n",
      "Null counts per column: {'marketplace': 0, 'customer_id': 0, 'review_id': 0, 'product_id': 0, 'product_parent': 0, 'product_title': 0, 'product_category': 0, 'star_rating': 0, 'helpful_votes': 0, 'total_votes': 0, 'vine': 0, 'verified_purchase': 0, 'review_headline': 0, 'review_body': 0, 'review_date': 0}\n",
      "Review length stats:\n",
      "   summary       review_length\n",
      "0   count             1270000\n",
      "1    mean  173.77717086614174\n",
      "2  stddev  291.65829379692184\n",
      "3     min                   0\n",
      "4     max               25757\n",
      "+-----------+------+\n",
      "|star_rating| count|\n",
      "+-----------+------+\n",
      "|          5|838383|\n",
      "|          4|172850|\n",
      "|          1|104686|\n",
      "|          3| 93878|\n",
      "|          2| 60203|\n",
      "+-----------+------+\n",
      "\n",
      "+----+------+\n",
      "|year| count|\n",
      "+----+------+\n",
      "|2014|682698|\n",
      "|2015|587302|\n",
      "+----+------+\n",
      "\n",
      "+-----------+\n",
      "|review_body|\n",
      "+-----------+\n",
      "|Average    |\n",
      "|AWESOME    |\n",
      "|like it    |\n",
      "|&#60;3     |\n",
      "|5STAR      |\n",
      "+-----------+\n",
      "only showing top 5 rows\n",
      "\n",
      "--- Profiling file: ../data/raw/Pet_Products_v1_00/amazon_us_reviews-train-00002-of-00003.parquet ---\n",
      "Null counts per column: {'marketplace': 0, 'customer_id': 0, 'review_id': 0, 'product_id': 0, 'product_parent': 0, 'product_title': 0, 'product_category': 0, 'star_rating': 0, 'helpful_votes': 0, 'total_votes': 0, 'vine': 0, 'verified_purchase': 0, 'review_headline': 0, 'review_body': 0, 'review_date': 0}\n",
      "Review length stats:\n",
      "   summary      review_length\n",
      "0   count             521619\n",
      "1    mean  471.2569404105295\n",
      "2  stddev  542.5107052444245\n",
      "3     min                  1\n",
      "4     max              29037\n",
      "+-----------+------+\n",
      "|star_rating| count|\n",
      "+-----------+------+\n",
      "|          5|308682|\n",
      "|          4| 82594|\n",
      "|          1| 56741|\n",
      "|          3| 42128|\n",
      "|          2| 31474|\n",
      "+-----------+------+\n",
      "\n",
      "+----+------+\n",
      "|year| count|\n",
      "+----+------+\n",
      "|1998|     2|\n",
      "|1999|    13|\n",
      "|2000|    37|\n",
      "|2001|    32|\n",
      "|2002|   116|\n",
      "|2003|   287|\n",
      "|2004|   685|\n",
      "|2005|  1857|\n",
      "|2006|  4659|\n",
      "|2007| 16427|\n",
      "|2008| 24220|\n",
      "|2009| 35166|\n",
      "|2010| 57337|\n",
      "|2011|105420|\n",
      "|2012|188409|\n",
      "|2013| 86952|\n",
      "+----+------+\n",
      "\n",
      "+-----------+\n",
      "|review_body|\n",
      "+-----------+\n",
      "|AAA plus   |\n",
      "|useless    |\n",
      "|perfecto   |\n",
      "|EXCELENTE  |\n",
      "|very good  |\n",
      "+-----------+\n",
      "only showing top 5 rows\n",
      "\n",
      "--- Profiling file: ../data/raw/Luggage_v1_00/amazon_us_reviews-train.parquet ---\n",
      "Null counts per column: {'marketplace': 0, 'customer_id': 0, 'review_id': 0, 'product_id': 0, 'product_parent': 0, 'product_title': 0, 'product_category': 0, 'star_rating': 0, 'helpful_votes': 0, 'total_votes': 0, 'vine': 0, 'verified_purchase': 0, 'review_headline': 0, 'review_body': 0, 'review_date': 0}\n",
      "Review length stats:\n",
      "   summary      review_length\n",
      "0   count             348657\n",
      "1    mean  275.0184880842777\n",
      "2  stddev  389.4415212494271\n",
      "3     min                  0\n",
      "4     max              22379\n",
      "+-----------+------+\n",
      "|star_rating| count|\n",
      "+-----------+------+\n",
      "|          5|216499|\n",
      "|          4| 61433|\n",
      "|          3| 27846|\n",
      "|          1| 25008|\n",
      "|          2| 17871|\n",
      "+-----------+------+\n",
      "\n",
      "+----+------+\n",
      "|year| count|\n",
      "+----+------+\n",
      "|2002|    12|\n",
      "|2003|    26|\n",
      "|2004|    30|\n",
      "|2005|    71|\n",
      "|2006|   330|\n",
      "|2007|  1214|\n",
      "|2008|  1822|\n",
      "|2009|  2764|\n",
      "|2010|  5638|\n",
      "|2011| 12494|\n",
      "|2012| 24414|\n",
      "|2013| 63193|\n",
      "|2014|112708|\n",
      "|2015|123941|\n",
      "+----+------+\n",
      "\n",
      "+-----------+\n",
      "|review_body|\n",
      "+-----------+\n",
      "|Cool       |\n",
      "|Durable    |\n",
      "|great      |\n",
      "|Love it    |\n",
      "|perfect    |\n",
      "+-----------+\n",
      "only showing top 5 rows\n",
      "\n",
      "--- Profiling file: ../data/raw/Mobile_Electronics_v1_00/amazon_us_reviews-train.parquet ---\n",
      "Null counts per column: {'marketplace': 0, 'customer_id': 0, 'review_id': 0, 'product_id': 0, 'product_parent': 0, 'product_title': 0, 'product_category': 0, 'star_rating': 0, 'helpful_votes': 0, 'total_votes': 0, 'vine': 0, 'verified_purchase': 0, 'review_headline': 0, 'review_body': 0, 'review_date': 0}\n",
      "Review length stats:\n",
      "   summary      review_length\n",
      "0   count             104975\n",
      "1    mean  342.3064253393665\n",
      "2  stddev  526.1215314130859\n",
      "3     min                  0\n",
      "4     max              16009\n",
      "+-----------+-----+\n",
      "|star_rating|count|\n",
      "+-----------+-----+\n",
      "|          5|52255|\n",
      "|          4|18088|\n",
      "|          1|17587|\n",
      "|          3| 9734|\n",
      "|          2| 7311|\n",
      "+-----------+-----+\n",
      "\n",
      "+----+-----+\n",
      "|year|count|\n",
      "+----+-----+\n",
      "|2001|    1|\n",
      "|2002|   28|\n",
      "|2003|   61|\n",
      "|2004|  115|\n",
      "|2005|  224|\n",
      "|2006|  443|\n",
      "|2007| 1379|\n",
      "|2008| 1750|\n",
      "|2009| 2943|\n",
      "|2010| 6973|\n",
      "|2011|11941|\n",
      "|2012|15469|\n",
      "|2013|24389|\n",
      "|2014|21982|\n",
      "|2015|17277|\n",
      "+----+-----+\n",
      "\n",
      "+-----------+\n",
      "|review_body|\n",
      "+-----------+\n",
      "|Love it    |\n",
      "|Sucks      |\n",
      "|Great      |\n",
      "|satisfied  |\n",
      "|ok         |\n",
      "+-----------+\n",
      "only showing top 5 rows\n",
      "\n",
      "--- Profiling file: ../data/raw/Home_Improvement_v1_00/amazon_us_reviews-train-00002-of-00003.parquet ---\n",
      "Null counts per column: {'marketplace': 0, 'customer_id': 0, 'review_id': 0, 'product_id': 0, 'product_parent': 0, 'product_title': 0, 'product_category': 0, 'star_rating': 0, 'helpful_votes': 0, 'total_votes': 0, 'vine': 0, 'verified_purchase': 0, 'review_headline': 0, 'review_body': 0, 'review_date': 0}\n",
      "Review length stats:\n",
      "   summary       review_length\n",
      "0   count              487781\n",
      "1    mean  451.07236034203873\n",
      "2  stddev   577.1454628535934\n",
      "3     min                   1\n",
      "4     max               40318\n",
      "+-----------+------+\n",
      "|star_rating| count|\n",
      "+-----------+------+\n",
      "|          5|277390|\n",
      "|          4| 86114|\n",
      "|          1| 58002|\n",
      "|          3| 38535|\n",
      "|          2| 27740|\n",
      "+-----------+------+\n",
      "\n",
      "+----+------+\n",
      "|year| count|\n",
      "+----+------+\n",
      "|1999|    37|\n",
      "|2000|   413|\n",
      "|2001|   524|\n",
      "|2002|   621|\n",
      "|2003|   866|\n",
      "|2004|  1423|\n",
      "|2005|  1977|\n",
      "|2006|  4003|\n",
      "|2007| 13461|\n",
      "|2008| 19082|\n",
      "|2009| 30572|\n",
      "|2010| 53218|\n",
      "|2011| 97614|\n",
      "|2012|182434|\n",
      "|2013| 81536|\n",
      "+----+------+\n",
      "\n",
      "+-----------+\n",
      "|review_body|\n",
      "+-----------+\n",
      "|excelent   |\n",
      "|perfect    |\n",
      "|Perfect!   |\n",
      "|Love it!   |\n",
      "|Works.     |\n",
      "+-----------+\n",
      "only showing top 5 rows\n",
      "\n",
      "--- Profiling file: ../data/raw/Home_v1_00/amazon_us_reviews-train-00004-of-00006.parquet ---\n",
      "Null counts per column: {'marketplace': 0, 'customer_id': 0, 'review_id': 0, 'product_id': 0, 'product_parent': 0, 'product_title': 0, 'product_category': 0, 'star_rating': 0, 'helpful_votes': 0, 'total_votes': 0, 'vine': 0, 'verified_purchase': 0, 'review_headline': 0, 'review_body': 0, 'review_date': 0}\n",
      "Review length stats:\n",
      "   summary       review_length\n",
      "0   count              907000\n",
      "1    mean  346.28421499448734\n",
      "2  stddev   456.2722780504057\n",
      "3     min                   1\n",
      "4     max               28225\n",
      "+-----------+------+\n",
      "|star_rating| count|\n",
      "+-----------+------+\n",
      "|          5|539156|\n",
      "|          4|153473|\n",
      "|          1| 86408|\n",
      "|          3| 76488|\n",
      "|          2| 51475|\n",
      "+-----------+------+\n",
      "\n",
      "+----+------+\n",
      "|year| count|\n",
      "+----+------+\n",
      "|2011| 86190|\n",
      "|2012|413008|\n",
      "|2013|407802|\n",
      "+----+------+\n",
      "\n",
      "+-----------+\n",
      "|review_body|\n",
      "+-----------+\n",
      "|Good       |\n",
      "|good       |\n",
      "|Loved it   |\n",
      "|beautiful  |\n",
      "|The work!  |\n",
      "+-----------+\n",
      "only showing top 5 rows\n",
      "\n",
      "--- Profiling file: ../data/raw/Sports_v1_00/amazon_us_reviews-train-00001-of-00005.parquet ---\n",
      "Null counts per column: {'marketplace': 0, 'customer_id': 0, 'review_id': 0, 'product_id': 0, 'product_parent': 0, 'product_title': 0, 'product_category': 0, 'star_rating': 0, 'helpful_votes': 0, 'total_votes': 0, 'vine': 0, 'verified_purchase': 0, 'review_headline': 0, 'review_body': 0, 'review_date': 0}\n",
      "Review length stats:\n",
      "   summary       review_length\n",
      "0   count             1304000\n",
      "1    mean   174.6335513803681\n",
      "2  stddev  325.11304483293355\n",
      "3     min                   0\n",
      "4     max               33533\n",
      "+-----------+------+\n",
      "|star_rating| count|\n",
      "+-----------+------+\n",
      "|          5|850172|\n",
      "|          4|209873|\n",
      "|          3| 97897|\n",
      "|          1| 89198|\n",
      "|          2| 56860|\n",
      "+-----------+------+\n",
      "\n",
      "+----+-------+\n",
      "|year|  count|\n",
      "+----+-------+\n",
      "|2014|1045819|\n",
      "|2015| 258181|\n",
      "+----+-------+\n",
      "\n",
      "+-----------+\n",
      "|review_body|\n",
      "+-----------+\n",
      "|must have  |\n",
      "|Good       |\n",
      "|ok         |\n",
      "|Awesome    |\n",
      "|Good       |\n",
      "+-----------+\n",
      "only showing top 5 rows\n",
      "\n",
      "--- Profiling file: ../data/raw/Kitchen_v1_00/amazon_us_reviews-train-00001-of-00005.parquet ---\n",
      "Null counts per column: {'marketplace': 0, 'customer_id': 0, 'review_id': 0, 'product_id': 0, 'product_parent': 0, 'product_title': 0, 'product_category': 0, 'star_rating': 0, 'helpful_votes': 0, 'total_votes': 0, 'vine': 0, 'verified_purchase': 0, 'review_headline': 0, 'review_body': 0, 'review_date': 0}\n",
      "Review length stats:\n",
      "   summary       review_length\n",
      "0   count             1227000\n",
      "1    mean  194.91662265688672\n",
      "2  stddev   344.6492836207853\n",
      "3     min                   0\n",
      "4     max               28567\n",
      "+-----------+------+\n",
      "|star_rating| count|\n",
      "+-----------+------+\n",
      "|          5|822980|\n",
      "|          4|172682|\n",
      "|          1| 91793|\n",
      "|          3| 85318|\n",
      "|          2| 54227|\n",
      "+-----------+------+\n",
      "\n",
      "+----+------+\n",
      "|year| count|\n",
      "+----+------+\n",
      "|2014|940747|\n",
      "|2015|286253|\n",
      "+----+------+\n",
      "\n",
      "+-----------+\n",
      "|review_body|\n",
      "+-----------+\n",
      "|Good       |\n",
      "|good       |\n",
      "|Nice       |\n",
      "|great      |\n",
      "|enjoyed    |\n",
      "+-----------+\n",
      "only showing top 5 rows\n",
      "\n",
      "--- Profiling file: ../data/raw/Wireless_v1_00/amazon_us_reviews-train-00009-of-00010.parquet ---\n",
      "Null counts per column: {'marketplace': 0, 'customer_id': 0, 'review_id': 0, 'product_id': 0, 'product_parent': 0, 'product_title': 0, 'product_category': 0, 'star_rating': 0, 'helpful_votes': 0, 'total_votes': 0, 'vine': 0, 'verified_purchase': 0, 'review_headline': 0, 'review_body': 0, 'review_date': 0}\n",
      "Review length stats:\n",
      "   summary      review_length\n",
      "0   count             146021\n",
      "1    mean  662.7432698036583\n",
      "2  stddev  878.7374723080335\n",
      "3     min                  1\n",
      "4     max              37920\n",
      "+-----------+-----+\n",
      "|star_rating|count|\n",
      "+-----------+-----+\n",
      "|          5|60749|\n",
      "|          4|35572|\n",
      "|          1|22191|\n",
      "|          3|15193|\n",
      "|          2|12316|\n",
      "+-----------+-----+\n",
      "\n",
      "+----+-----+\n",
      "|year|count|\n",
      "+----+-----+\n",
      "|1998|    2|\n",
      "|1999|  102|\n",
      "|2000|  581|\n",
      "|2001| 1633|\n",
      "|2002| 1413|\n",
      "|2003| 2562|\n",
      "|2004| 4996|\n",
      "|2005|11837|\n",
      "|2006|19857|\n",
      "|2007|47740|\n",
      "|2008|55298|\n",
      "+----+-----+\n",
      "\n",
      "+-----------+\n",
      "|review_body|\n",
      "+-----------+\n",
      "|ok         |\n",
      "|Excelente  |\n",
      "|good       |\n",
      "|good       |\n",
      "|ok         |\n",
      "+-----------+\n",
      "only showing top 5 rows\n",
      "\n",
      "--- Profiling file: ../data/raw/Health_Personal_Care_v1_00/amazon_us_reviews-train-00004-of-00006.parquet ---\n",
      "Null counts per column: {'marketplace': 0, 'customer_id': 0, 'review_id': 0, 'product_id': 0, 'product_parent': 0, 'product_title': 0, 'product_category': 0, 'star_rating': 0, 'helpful_votes': 0, 'total_votes': 0, 'vine': 0, 'verified_purchase': 0, 'review_headline': 0, 'review_body': 0, 'review_date': 0}\n",
      "Review length stats:\n",
      "   summary      review_length\n",
      "0   count             791000\n",
      "1    mean  407.6362427307206\n",
      "2  stddev  510.4746861136503\n",
      "3     min                  1\n",
      "4     max              47201\n",
      "+-----------+------+\n",
      "|star_rating| count|\n",
      "+-----------+------+\n",
      "|          5|470388|\n",
      "|          4|122222|\n",
      "|          1| 89157|\n",
      "|          3| 62565|\n",
      "|          2| 46668|\n",
      "+-----------+------+\n",
      "\n",
      "+----+------+\n",
      "|year| count|\n",
      "+----+------+\n",
      "|2010| 16977|\n",
      "|2011|185674|\n",
      "|2012|335691|\n",
      "|2013|252658|\n",
      "+----+------+\n",
      "\n",
      "+-----------+\n",
      "|review_body|\n",
      "+-----------+\n",
      "|BUENO!!    |\n",
      "|EXCELENTE  |\n",
      "|ok         |\n",
      "|good deal  |\n",
      "|Thank you  |\n",
      "+-----------+\n",
      "only showing top 5 rows\n",
      "\n",
      "--- Profiling file: ../data/raw/Digital_Software_v1_00/amazon_us_reviews-train.parquet ---\n",
      "Null counts per column: {'marketplace': 0, 'customer_id': 0, 'review_id': 0, 'product_id': 0, 'product_parent': 0, 'product_title': 0, 'product_category': 0, 'star_rating': 0, 'helpful_votes': 0, 'total_votes': 0, 'vine': 0, 'verified_purchase': 0, 'review_headline': 0, 'review_body': 0, 'review_date': 0}\n",
      "Review length stats:\n",
      "   summary      review_length\n",
      "0   count             102084\n",
      "1    mean  373.8874946122801\n",
      "2  stddev  640.5577503442353\n",
      "3     min                  1\n",
      "4     max              34602\n",
      "+-----------+-----+\n",
      "|star_rating|count|\n",
      "+-----------+-----+\n",
      "|          5|46410|\n",
      "|          1|23783|\n",
      "|          4|16693|\n",
      "|          3| 8308|\n",
      "|          2| 6890|\n",
      "+-----------+-----+\n",
      "\n",
      "+----+-----+\n",
      "|year|count|\n",
      "+----+-----+\n",
      "|2008|   30|\n",
      "|2009|  292|\n",
      "|2010| 1065|\n",
      "|2011| 2312|\n",
      "|2012| 5602|\n",
      "|2013|20453|\n",
      "|2014|36745|\n",
      "|2015|35585|\n",
      "+----+-----+\n",
      "\n",
      "+-----------+\n",
      "|review_body|\n",
      "+-----------+\n",
      "|excelente  |\n",
      "|Thank you  |\n",
      "|Good       |\n",
      "|okay       |\n",
      "|good       |\n",
      "+-----------+\n",
      "only showing top 5 rows\n",
      "\n",
      "--- Profiling file: ../data/raw/Home_Entertainment_v1_00/amazon_us_reviews-train-00001-of-00002.parquet ---\n",
      "Null counts per column: {'marketplace': 0, 'customer_id': 0, 'review_id': 0, 'product_id': 0, 'product_parent': 0, 'product_title': 0, 'product_category': 0, 'star_rating': 0, 'helpful_votes': 0, 'total_votes': 0, 'vine': 0, 'verified_purchase': 0, 'review_headline': 0, 'review_body': 0, 'review_date': 0}\n",
      "Review length stats:\n",
      "   summary      review_length\n",
      "0   count              31889\n",
      "1    mean  848.9756028724638\n",
      "2  stddev   931.391959465452\n",
      "3     min                  4\n",
      "4     max              48822\n",
      "+-----------+-----+\n",
      "|star_rating|count|\n",
      "+-----------+-----+\n",
      "|          5|12150|\n",
      "|          1| 7838|\n",
      "|          4| 6488|\n",
      "|          2| 2755|\n",
      "|          3| 2658|\n",
      "+-----------+-----+\n",
      "\n",
      "+----+-----+\n",
      "|year|count|\n",
      "+----+-----+\n",
      "|1998|    1|\n",
      "|1999|  485|\n",
      "|2000| 1630|\n",
      "|2001| 2419|\n",
      "|2002| 3633|\n",
      "|2003| 4427|\n",
      "|2004| 5830|\n",
      "|2005| 6772|\n",
      "|2006| 6692|\n",
      "+----+-----+\n",
      "\n",
      "+-----------+\n",
      "|review_body|\n",
      "+-----------+\n",
      "|test       |\n",
      "+-----------+\n",
      "\n",
      "\n",
      "--- Profiling file: ../data/raw/Personal_Care_Appliances_v1_00/amazon_us_reviews-train.parquet ---\n",
      "Null counts per column: {'marketplace': 0, 'customer_id': 0, 'review_id': 0, 'product_id': 0, 'product_parent': 0, 'product_title': 0, 'product_category': 0, 'star_rating': 0, 'helpful_votes': 0, 'total_votes': 0, 'vine': 0, 'verified_purchase': 0, 'review_headline': 0, 'review_body': 0, 'review_date': 0}\n",
      "Review length stats:\n",
      "   summary       review_length\n",
      "0   count               85981\n",
      "1    mean    343.252555797211\n",
      "2  stddev  480.79298521857675\n",
      "3     min                   1\n",
      "4     max               19628\n",
      "+-----------+-----+\n",
      "|star_rating|count|\n",
      "+-----------+-----+\n",
      "|          5|48897|\n",
      "|          4|13657|\n",
      "|          1|11036|\n",
      "|          3| 7050|\n",
      "|          2| 5341|\n",
      "+-----------+-----+\n",
      "\n",
      "+----+-----+\n",
      "|year|count|\n",
      "+----+-----+\n",
      "|2000|   27|\n",
      "|2001|  197|\n",
      "|2002|  272|\n",
      "|2003|  423|\n",
      "|2004|  624|\n",
      "|2005|  859|\n",
      "|2006| 1077|\n",
      "|2007| 3717|\n",
      "|2008| 5740|\n",
      "|2009| 7136|\n",
      "|2010| 6208|\n",
      "|2011| 6094|\n",
      "|2012| 7429|\n",
      "|2013|13265|\n",
      "|2014|16266|\n",
      "|2015|16647|\n",
      "+----+-----+\n",
      "\n",
      "+-----------+\n",
      "|review_body|\n",
      "+-----------+\n",
      "|Great.     |\n",
      "|Work well  |\n",
      "|good sex   |\n",
      "|satisfied  |\n",
      "|Perfect    |\n",
      "+-----------+\n",
      "only showing top 5 rows\n",
      "\n",
      "--- Profiling file: ../data/raw/Gift_Card_v1_00/amazon_us_reviews-train.parquet ---\n",
      "Null counts per column: {'marketplace': 0, 'customer_id': 0, 'review_id': 0, 'product_id': 0, 'product_parent': 0, 'product_title': 0, 'product_category': 0, 'star_rating': 0, 'helpful_votes': 0, 'total_votes': 0, 'vine': 0, 'verified_purchase': 0, 'review_headline': 0, 'review_body': 0, 'review_date': 0}\n",
      "Review length stats:\n",
      "   summary       review_length\n",
      "0   count              149086\n",
      "1    mean   127.7547522906242\n",
      "2  stddev  151.68422633092322\n",
      "3     min                   0\n",
      "4     max                9650\n",
      "+-----------+------+\n",
      "|star_rating| count|\n",
      "+-----------+------+\n",
      "|          5|129709|\n",
      "|          4|  9859|\n",
      "|          1|  4793|\n",
      "|          3|  3156|\n",
      "|          2|  1569|\n",
      "+-----------+------+\n",
      "\n",
      "+----+-----+\n",
      "|year|count|\n",
      "+----+-----+\n",
      "|2004|    4|\n",
      "|2005|   29|\n",
      "|2006|    7|\n",
      "|2007|   20|\n",
      "|2008|   23|\n",
      "|2009|  131|\n",
      "|2010| 1368|\n",
      "|2011| 6107|\n",
      "|2012|17513|\n",
      "|2013|32698|\n",
      "|2014|47186|\n",
      "|2015|44000|\n",
      "+----+-----+\n",
      "\n",
      "+-----------+\n",
      "|review_body|\n",
      "+-----------+\n",
      "|Good       |\n",
      "|Fair       |\n",
      "|excelent   |\n",
      "|Bien       |\n",
      "|good       |\n",
      "+-----------+\n",
      "only showing top 5 rows\n",
      "\n",
      "--- Profiling file: ../data/raw/Jewelry_v1_00/amazon_us_reviews-train-00001-of-00002.parquet ---\n",
      "Null counts per column: {'marketplace': 0, 'customer_id': 0, 'review_id': 0, 'product_id': 0, 'product_parent': 0, 'product_title': 0, 'product_category': 0, 'star_rating': 0, 'helpful_votes': 0, 'total_votes': 0, 'vine': 0, 'verified_purchase': 0, 'review_headline': 0, 'review_body': 0, 'review_date': 0}\n",
      "Review length stats:\n",
      "   summary       review_length\n",
      "0   count              421753\n",
      "1    mean   263.6993097855854\n",
      "2  stddev  241.46568945091437\n",
      "3     min                   1\n",
      "4     max               18504\n",
      "+-----------+------+\n",
      "|star_rating| count|\n",
      "+-----------+------+\n",
      "|          5|251686|\n",
      "|          4| 71613|\n",
      "|          3| 38707|\n",
      "|          1| 34736|\n",
      "|          2| 25011|\n",
      "+-----------+------+\n",
      "\n",
      "+----+------+\n",
      "|year| count|\n",
      "+----+------+\n",
      "|2001|    13|\n",
      "|2002|   170|\n",
      "|2003|   411|\n",
      "|2004|  1166|\n",
      "|2005|  1549|\n",
      "|2006|  2883|\n",
      "|2007| 11068|\n",
      "|2008| 16138|\n",
      "|2009| 18967|\n",
      "|2010| 28884|\n",
      "|2011| 55550|\n",
      "|2012|141652|\n",
      "|2013|143302|\n",
      "+----+------+\n",
      "\n",
      "+-----------+\n",
      "|review_body|\n",
      "+-----------+\n",
      "|very good  |\n",
      "|NICE       |\n",
      "|i enjoy    |\n",
      "|Love it    |\n",
      "|Love it    |\n",
      "+-----------+\n",
      "only showing top 5 rows\n",
      "\n",
      "--- Profiling file: ../data/raw/Automotive_v1_00/amazon_us_reviews-train-00001-of-00004.parquet ---\n",
      "Null counts per column: {'marketplace': 0, 'customer_id': 0, 'review_id': 0, 'product_id': 0, 'product_parent': 0, 'product_title': 0, 'product_category': 0, 'star_rating': 0, 'helpful_votes': 0, 'total_votes': 0, 'vine': 0, 'verified_purchase': 0, 'review_headline': 0, 'review_body': 0, 'review_date': 0}\n",
      "Review length stats:\n",
      "   summary      review_length\n",
      "0   count            1191000\n",
      "1    mean  203.4415331654072\n",
      "2  stddev  305.6830791395934\n",
      "3     min                  0\n",
      "4     max              23154\n",
      "+-----------+------+\n",
      "|star_rating| count|\n",
      "+-----------+------+\n",
      "|          5|781894|\n",
      "|          4|178838|\n",
      "|          1| 98504|\n",
      "|          3| 81955|\n",
      "|          2| 49809|\n",
      "+-----------+------+\n",
      "\n",
      "+----+-------+\n",
      "|year|  count|\n",
      "+----+-------+\n",
      "|2013|  95002|\n",
      "|2014|1095998|\n",
      "+----+-------+\n",
      "\n",
      "+-----------+\n",
      "|review_body|\n",
      "+-----------+\n",
      "|all good   |\n",
      "|great      |\n",
      "|Excellent  |\n",
      "|Good       |\n",
      "|great      |\n",
      "+-----------+\n",
      "only showing top 5 rows\n",
      "\n",
      "--- Profiling file: ../data/raw/Office_Products_v1_00/amazon_us_reviews-train-00002-of-00003.parquet ---\n",
      "Null counts per column: {'marketplace': 0, 'customer_id': 0, 'review_id': 0, 'product_id': 0, 'product_parent': 0, 'product_title': 0, 'product_category': 0, 'star_rating': 0, 'helpful_votes': 0, 'total_votes': 0, 'vine': 0, 'verified_purchase': 0, 'review_headline': 0, 'review_body': 0, 'review_date': 0}\n",
      "Review length stats:\n",
      "   summary      review_length\n",
      "0   count             472434\n",
      "1    mean  557.4591879500629\n",
      "2  stddev  728.8337272525295\n",
      "3     min                  1\n",
      "4     max              46870\n",
      "+-----------+------+\n",
      "|star_rating| count|\n",
      "+-----------+------+\n",
      "|          5|233118|\n",
      "|          4| 87947|\n",
      "|          1| 79472|\n",
      "|          3| 38464|\n",
      "|          2| 33433|\n",
      "+-----------+------+\n",
      "\n",
      "+----+------+\n",
      "|year| count|\n",
      "+----+------+\n",
      "|1998|     6|\n",
      "|1999|   714|\n",
      "|2000|  5102|\n",
      "|2001|  7191|\n",
      "|2002|  8536|\n",
      "|2003|  9920|\n",
      "|2004|  9217|\n",
      "|2005| 10796|\n",
      "|2006| 13330|\n",
      "|2007| 29114|\n",
      "|2008| 33523|\n",
      "|2009| 48900|\n",
      "|2010| 75139|\n",
      "|2011|122080|\n",
      "|2012| 98866|\n",
      "+----+------+\n",
      "\n",
      "+-----------+\n",
      "|review_body|\n",
      "+-----------+\n",
      "|very good  |\n",
      "|Awesome    |\n",
      "|works      |\n",
      "|Very good  |\n",
      "|Works      |\n",
      "+-----------+\n",
      "only showing top 5 rows\n",
      "\n",
      "--- Profiling file: ../data/raw/Camera_v1_00/amazon_us_reviews-train-00002-of-00003.parquet ---\n",
      "Null counts per column: {'marketplace': 0, 'customer_id': 0, 'review_id': 0, 'product_id': 0, 'product_parent': 0, 'product_title': 0, 'product_category': 0, 'star_rating': 0, 'helpful_votes': 0, 'total_votes': 0, 'vine': 0, 'verified_purchase': 0, 'review_headline': 0, 'review_body': 0, 'review_date': 0}\n",
      "Review length stats:\n",
      "   summary      review_length\n",
      "0   count             194974\n",
      "1    mean  728.9963328443793\n",
      "2  stddev  968.7937650423879\n",
      "3     min                  2\n",
      "4     max              46486\n",
      "+-----------+------+\n",
      "|star_rating| count|\n",
      "+-----------+------+\n",
      "|          5|104355|\n",
      "|          4| 44829|\n",
      "|          1| 19144|\n",
      "|          3| 15735|\n",
      "|          2| 10911|\n",
      "+-----------+------+\n",
      "\n",
      "+----+-----+\n",
      "|year|count|\n",
      "+----+-----+\n",
      "|1998|    2|\n",
      "|1999|  380|\n",
      "|2000| 3061|\n",
      "|2001| 5780|\n",
      "|2002| 6620|\n",
      "|2003| 7330|\n",
      "|2004| 7360|\n",
      "|2005| 9655|\n",
      "|2006|15959|\n",
      "|2007|38852|\n",
      "|2008|49058|\n",
      "|2009|50917|\n",
      "+----+-----+\n",
      "\n",
      "+-----------+\n",
      "|review_body|\n",
      "+-----------+\n",
      "|excelente  |\n",
      "|Like!      |\n",
      "|great      |\n",
      "|Like it    |\n",
      "|ok         |\n",
      "+-----------+\n",
      "only showing top 5 rows\n",
      "\n",
      "--- Profiling file: ../data/raw/Video_v1_00/amazon_us_reviews-train.parquet ---\n",
      "Null counts per column: {'marketplace': 0, 'customer_id': 0, 'review_id': 0, 'product_id': 0, 'product_parent': 0, 'product_title': 0, 'product_category': 0, 'star_rating': 0, 'helpful_votes': 0, 'total_votes': 0, 'vine': 0, 'verified_purchase': 0, 'review_headline': 0, 'review_body': 0, 'review_date': 0}\n",
      "Review length stats:\n",
      "   summary      review_length\n",
      "0   count             380604\n",
      "1    mean  752.1166435455224\n",
      "2  stddev  946.7044202129506\n",
      "3     min                  1\n",
      "4     max              44266\n",
      "+-----------+------+\n",
      "|star_rating| count|\n",
      "+-----------+------+\n",
      "|          5|227500|\n",
      "|          4| 72109|\n",
      "|          3| 34708|\n",
      "|          1| 27328|\n",
      "|          2| 18959|\n",
      "+-----------+------+\n",
      "\n",
      "+----+-----+\n",
      "|year|count|\n",
      "+----+-----+\n",
      "|1995|    2|\n",
      "|1996|   12|\n",
      "|1997|  112|\n",
      "|1998| 5222|\n",
      "|1999|43954|\n",
      "|2000|70826|\n",
      "|2001|52275|\n",
      "|2002|42718|\n",
      "|2003|29695|\n",
      "|2004|19654|\n",
      "|2005|14313|\n",
      "|2006| 9142|\n",
      "|2007| 8073|\n",
      "|2008| 6759|\n",
      "|2009| 8183|\n",
      "|2010| 8173|\n",
      "|2011| 8234|\n",
      "|2012| 8672|\n",
      "|2013|15520|\n",
      "|2014|17283|\n",
      "+----+-----+\n",
      "only showing top 20 rows\n",
      "+-----------+\n",
      "|review_body|\n",
      "+-----------+\n",
      "|ok         |\n",
      "|A+         |\n",
      "|good       |\n",
      "|xoxoxo     |\n",
      "|xoxoxox    |\n",
      "+-----------+\n",
      "only showing top 5 rows\n",
      "\n",
      "--- Profiling file: ../data/raw/Grocery_v1_00/amazon_us_reviews-train-00002-of-00003.parquet ---\n",
      "Null counts per column: {'marketplace': 0, 'customer_id': 0, 'review_id': 0, 'product_id': 0, 'product_parent': 0, 'product_title': 0, 'product_category': 0, 'star_rating': 0, 'helpful_votes': 0, 'total_votes': 0, 'vine': 0, 'verified_purchase': 0, 'review_headline': 0, 'review_body': 0, 'review_date': 0}\n",
      "Review length stats:\n",
      "   summary      review_length\n",
      "0   count             119458\n",
      "1    mean  383.4738820338529\n",
      "2  stddev  454.8656092307943\n",
      "3     min                  3\n",
      "4     max              27622\n",
      "+-----------+-----+\n",
      "|star_rating|count|\n",
      "+-----------+-----+\n",
      "|          5|80615|\n",
      "|          4|16700|\n",
      "|          1| 8887|\n",
      "|          3| 7905|\n",
      "|          2| 5351|\n",
      "+-----------+-----+\n",
      "\n",
      "+----+-----+\n",
      "|year|count|\n",
      "+----+-----+\n",
      "|1999|    4|\n",
      "|2000|    1|\n",
      "|2001|   25|\n",
      "|2002|   54|\n",
      "|2003|  372|\n",
      "|2004| 1030|\n",
      "|2005| 1947|\n",
      "|2006| 8655|\n",
      "|2007|27870|\n",
      "|2008|33960|\n",
      "|2009|45540|\n",
      "+----+-----+\n",
      "\n",
      "+-----------+\n",
      "|review_body|\n",
      "+-----------+\n",
      "|Great!     |\n",
      "|YUMMY!     |\n",
      "|OK.        |\n",
      "|great      |\n",
      "|Good       |\n",
      "+-----------+\n",
      "only showing top 5 rows\n",
      "\n",
      "--- Profiling file: ../data/raw/Software_v1_00/amazon_us_reviews-train.parquet ---\n",
      "Null counts per column: {'marketplace': 0, 'customer_id': 0, 'review_id': 0, 'product_id': 0, 'product_parent': 0, 'product_title': 0, 'product_category': 0, 'star_rating': 0, 'helpful_votes': 0, 'total_votes': 0, 'vine': 0, 'verified_purchase': 0, 'review_headline': 0, 'review_body': 0, 'review_date': 0}\n",
      "Review length stats:\n",
      "   summary      review_length\n",
      "0   count             341931\n",
      "1    mean  580.5066226811842\n",
      "2  stddev  999.4395867695066\n",
      "3     min                  0\n",
      "4     max              48379\n",
      "+-----------+------+\n",
      "|star_rating| count|\n",
      "+-----------+------+\n",
      "|          5|153947|\n",
      "|          1| 73997|\n",
      "|          4| 58649|\n",
      "|          3| 30676|\n",
      "|          2| 24662|\n",
      "+-----------+------+\n",
      "\n",
      "+----+-----+\n",
      "|year|count|\n",
      "+----+-----+\n",
      "|1998|    3|\n",
      "|1999|  221|\n",
      "|2000| 2536|\n",
      "|2001| 4307|\n",
      "|2002| 6396|\n",
      "|2003| 8083|\n",
      "|2004| 7490|\n",
      "|2005| 7711|\n",
      "|2006| 9309|\n",
      "|2007|15948|\n",
      "|2008|17473|\n",
      "|2009|22180|\n",
      "|2010|22260|\n",
      "|2011|23198|\n",
      "|2012|28020|\n",
      "|2013|56560|\n",
      "|2014|64530|\n",
      "|2015|45706|\n",
      "+----+-----+\n",
      "\n",
      "+-----------+\n",
      "|review_body|\n",
      "+-----------+\n",
      "|Awesome    |\n",
      "|great      |\n",
      "|Fun!       |\n",
      "|good       |\n",
      "|Awesome!   |\n",
      "+-----------+\n",
      "only showing top 5 rows\n",
      "\n",
      "--- Profiling file: ../data/raw/Digital_Music_Purchase_v1_00/amazon_us_reviews-train-00001-of-00002.parquet ---\n",
      "Null counts per column: {'marketplace': 0, 'customer_id': 0, 'review_id': 0, 'product_id': 0, 'product_parent': 0, 'product_title': 0, 'product_category': 0, 'star_rating': 0, 'helpful_votes': 0, 'total_votes': 0, 'vine': 0, 'verified_purchase': 0, 'review_headline': 0, 'review_body': 0, 'review_date': 0}\n",
      "Review length stats:\n",
      "   summary       review_length\n",
      "0   count              325884\n",
      "1    mean  455.00710989186337\n",
      "2  stddev   824.8992188209263\n",
      "3     min                   1\n",
      "4     max               42422\n",
      "+-----------+------+\n",
      "|star_rating| count|\n",
      "+-----------+------+\n",
      "|          5|246692|\n",
      "|          4| 43154|\n",
      "|          1| 15017|\n",
      "|          3| 13579|\n",
      "|          2|  7442|\n",
      "+-----------+------+\n",
      "\n",
      "+----+------+\n",
      "|year| count|\n",
      "+----+------+\n",
      "|2000|     3|\n",
      "|2001|     2|\n",
      "|2002|     3|\n",
      "|2003|     5|\n",
      "|2004|     6|\n",
      "|2005|     7|\n",
      "|2006|    21|\n",
      "|2007|  2312|\n",
      "|2008| 23081|\n",
      "|2009| 36702|\n",
      "|2010| 41258|\n",
      "|2011| 59206|\n",
      "|2012|163278|\n",
      "+----+------+\n",
      "\n",
      "+-----------+\n",
      "|review_body|\n",
      "+-----------+\n",
      "|c          |\n",
      "|Awesome    |\n",
      "|THE BEST!  |\n",
      "|Thank-you  |\n",
      "|A+         |\n",
      "+-----------+\n",
      "only showing top 5 rows\n",
      "\n",
      "--- Profiling file: ../data/raw/Tools_v1_00/amazon_us_reviews-train-00001-of-00002.parquet ---\n",
      "Null counts per column: {'marketplace': 0, 'customer_id': 0, 'review_id': 0, 'product_id': 0, 'product_parent': 0, 'product_title': 0, 'product_category': 0, 'star_rating': 0, 'helpful_votes': 0, 'total_votes': 0, 'vine': 0, 'verified_purchase': 0, 'review_headline': 0, 'review_body': 0, 'review_date': 0}\n",
      "Review length stats:\n",
      "   summary       review_length\n",
      "0   count              561100\n",
      "1    mean  452.67216360720016\n",
      "2  stddev   590.1540895413472\n",
      "3     min                   1\n",
      "4     max               34573\n",
      "+-----------+------+\n",
      "|star_rating| count|\n",
      "+-----------+------+\n",
      "|          5|335473|\n",
      "|          4|107419|\n",
      "|          1| 46377|\n",
      "|          3| 44058|\n",
      "|          2| 27773|\n",
      "+-----------+------+\n",
      "\n",
      "+----+------+\n",
      "|year| count|\n",
      "+----+------+\n",
      "|1999|   326|\n",
      "|2000|  3512|\n",
      "|2001|  3696|\n",
      "|2002|  4452|\n",
      "|2003|  4509|\n",
      "|2004|  4687|\n",
      "|2005|  6182|\n",
      "|2006|  9363|\n",
      "|2007| 18828|\n",
      "|2008| 23067|\n",
      "|2009| 29622|\n",
      "|2010| 45515|\n",
      "|2011| 73851|\n",
      "|2012|128266|\n",
      "|2013|205224|\n",
      "+----+------+\n",
      "\n",
      "+-----------+\n",
      "|review_body|\n",
      "+-----------+\n",
      "|yep        |\n",
      "|great      |\n",
      "|ok         |\n",
      "|thank you  |\n",
      "|good tool  |\n",
      "+-----------+\n",
      "only showing top 5 rows\n",
      "\n",
      "--- Profiling file: ../data/raw/Digital_Ebook_Purchase_v1_01/amazon_us_reviews-train-00000-of-00007.parquet ---\n",
      "Null counts per column: {'marketplace': 0, 'customer_id': 0, 'review_id': 0, 'product_id': 0, 'product_parent': 0, 'product_title': 0, 'product_category': 0, 'star_rating': 0, 'helpful_votes': 0, 'total_votes': 0, 'vine': 0, 'verified_purchase': 0, 'review_headline': 0, 'review_body': 0, 'review_date': 0}\n",
      "Review length stats:\n",
      "   summary      review_length\n",
      "0   count             800000\n",
      "1    mean        417.5927825\n",
      "2  stddev  683.6421840642961\n",
      "3     min                  2\n",
      "4     max              39241\n",
      "+-----------+------+\n",
      "|star_rating| count|\n",
      "+-----------+------+\n",
      "|          5|472149|\n",
      "|          4|189049|\n",
      "|          3| 76270|\n",
      "|          2| 32098|\n",
      "|          1| 30434|\n",
      "+-----------+------+\n",
      "\n",
      "+----+------+\n",
      "|year| count|\n",
      "+----+------+\n",
      "|2013|800000|\n",
      "+----+------+\n",
      "\n",
      "+-----------+\n",
      "|review_body|\n",
      "+-----------+\n",
      "|Recommend  |\n",
      "|loved it   |\n",
      "|the best   |\n",
      "|ok         |\n",
      "|sucks!     |\n",
      "+-----------+\n",
      "\n",
      "\n",
      "--- Profiling file: ../data/raw/Digital_Video_Games_v1_00/amazon_us_reviews-train.parquet ---\n",
      "Null counts per column: {'marketplace': 0, 'customer_id': 0, 'review_id': 0, 'product_id': 0, 'product_parent': 0, 'product_title': 0, 'product_category': 0, 'star_rating': 0, 'helpful_votes': 0, 'total_votes': 0, 'vine': 0, 'verified_purchase': 0, 'review_headline': 0, 'review_body': 0, 'review_date': 0}\n",
      "Review length stats:\n",
      "   summary       review_length\n",
      "0   count              145431\n",
      "1    mean  360.68897965358144\n",
      "2  stddev   783.3560007875082\n",
      "3     min                   0\n",
      "4     max               29600\n",
      "+-----------+-----+\n",
      "|star_rating|count|\n",
      "+-----------+-----+\n",
      "|          5|80677|\n",
      "|          1|24970|\n",
      "|          4|20406|\n",
      "|          3|11629|\n",
      "|          2| 7749|\n",
      "+-----------+-----+\n",
      "\n",
      "+----+-----+\n",
      "|year|count|\n",
      "+----+-----+\n",
      "|2006|    1|\n",
      "|2008|    5|\n",
      "|2009| 1561|\n",
      "|2010| 2551|\n",
      "|2011| 7644|\n",
      "|2012|16624|\n",
      "|2013|43265|\n",
      "|2014|43754|\n",
      "|2015|30026|\n",
      "+----+-----+\n",
      "\n",
      "+-----------+\n",
      "|review_body|\n",
      "+-----------+\n",
      "|Awesome    |\n",
      "|Perfect    |\n",
      "|Awesome!   |\n",
      "|Awesome!   |\n",
      "|Super      |\n",
      "+-----------+\n",
      "only showing top 5 rows\n",
      "\n",
      "--- Profiling file: ../data/raw/PC_v1_00/amazon_us_reviews-train-00006-of-00008.parquet ---\n",
      "Null counts per column: {'marketplace': 0, 'customer_id': 0, 'review_id': 0, 'product_id': 0, 'product_parent': 0, 'product_title': 0, 'product_category': 0, 'star_rating': 0, 'helpful_votes': 0, 'total_votes': 0, 'vine': 0, 'verified_purchase': 0, 'review_headline': 0, 'review_body': 0, 'review_date': 0}\n",
      "Review length stats:\n",
      "   summary      review_length\n",
      "0   count             622000\n",
      "1    mean  583.2666430868168\n",
      "2  stddev  799.5921705107177\n",
      "3     min                  1\n",
      "4     max              47064\n",
      "+-----------+------+\n",
      "|star_rating| count|\n",
      "+-----------+------+\n",
      "|          5|348661|\n",
      "|          4|114326|\n",
      "|          1| 76811|\n",
      "|          3| 46465|\n",
      "|          2| 35737|\n",
      "+-----------+------+\n",
      "\n",
      "+----+------+\n",
      "|year| count|\n",
      "+----+------+\n",
      "|2010| 21665|\n",
      "|2011|397197|\n",
      "|2012|203138|\n",
      "+----+------+\n",
      "\n",
      "+-----------+\n",
      "|review_body|\n",
      "+-----------+\n",
      "|Good item  |\n",
      "|Nice       |\n",
      "|Great!     |\n",
      "|Great!     |\n",
      "|Great      |\n",
      "+-----------+\n",
      "only showing top 5 rows\n",
      "\n",
      "--- Profiling file: ../data/raw/Major_Appliances_v1_00/amazon_us_reviews-train.parquet ---\n",
      "Null counts per column: {'marketplace': 0, 'customer_id': 0, 'review_id': 0, 'product_id': 0, 'product_parent': 0, 'product_title': 0, 'product_category': 0, 'star_rating': 0, 'helpful_votes': 0, 'total_votes': 0, 'vine': 0, 'verified_purchase': 0, 'review_headline': 0, 'review_body': 0, 'review_date': 0}\n",
      "Review length stats:\n",
      "   summary       review_length\n",
      "0   count               96901\n",
      "1    mean  468.87114684058986\n",
      "2  stddev   805.9497785234233\n",
      "3     min                   0\n",
      "4     max               23615\n",
      "+-----------+-----+\n",
      "|star_rating|count|\n",
      "+-----------+-----+\n",
      "|          5|49704|\n",
      "|          1|19846|\n",
      "|          4|15158|\n",
      "|          3| 6718|\n",
      "|          2| 5475|\n",
      "+-----------+-----+\n",
      "\n",
      "+----+-----+\n",
      "|year|count|\n",
      "+----+-----+\n",
      "|2000|    2|\n",
      "|2002|   21|\n",
      "|2003|   53|\n",
      "|2004|  125|\n",
      "|2005|  179|\n",
      "|2006|  315|\n",
      "|2007|  439|\n",
      "|2008|  954|\n",
      "|2009| 1317|\n",
      "|2010| 2619|\n",
      "|2011| 4930|\n",
      "|2012| 8891|\n",
      "|2013|19046|\n",
      "|2014|30209|\n",
      "|2015|27801|\n",
      "+----+-----+\n",
      "\n",
      "+-----------+\n",
      "|review_body|\n",
      "+-----------+\n",
      "|Super      |\n",
      "|nice       |\n",
      "|Perfect    |\n",
      "|Awesome    |\n",
      "|Thank you  |\n",
      "+-----------+\n",
      "only showing top 5 rows\n",
      "\n",
      "--- Profiling file: ../data/raw/Watches_v1_00/amazon_us_reviews-train.parquet ---\n",
      "Null counts per column: {'marketplace': 0, 'customer_id': 0, 'review_id': 0, 'product_id': 0, 'product_parent': 0, 'product_title': 0, 'product_category': 0, 'star_rating': 0, 'helpful_votes': 0, 'total_votes': 0, 'vine': 0, 'verified_purchase': 0, 'review_headline': 0, 'review_body': 0, 'review_date': 0}\n",
      "Review length stats:\n",
      "   summary      review_length\n",
      "0   count             960872\n",
      "1    mean  262.6783067880009\n",
      "2  stddev  415.3261382359881\n",
      "3     min                  0\n",
      "4     max              27358\n",
      "+-----------+------+\n",
      "|star_rating| count|\n",
      "+-----------+------+\n",
      "|          5|571627|\n",
      "|          4|172879|\n",
      "|          1| 85177|\n",
      "|          3| 79154|\n",
      "|          2| 52035|\n",
      "+-----------+------+\n",
      "\n",
      "+----+------+\n",
      "|year| count|\n",
      "+----+------+\n",
      "|2001|     5|\n",
      "|2002|    33|\n",
      "|2003|    93|\n",
      "|2004|   415|\n",
      "|2005|  1217|\n",
      "|2006|  3873|\n",
      "|2007| 12815|\n",
      "|2008| 15340|\n",
      "|2009| 19490|\n",
      "|2010| 27090|\n",
      "|2011| 42684|\n",
      "|2012| 83748|\n",
      "|2013|188583|\n",
      "|2014|295161|\n",
      "|2015|270325|\n",
      "+----+------+\n",
      "\n",
      "+-----------+\n",
      "|review_body|\n",
      "+-----------+\n",
      "|Scratches  |\n",
      "|very good  |\n",
      "|crap       |\n",
      "|Love it    |\n",
      "|very good  |\n",
      "+-----------+\n",
      "only showing top 5 rows\n"
     ]
    }
   ],
   "source": [
    "import pandas as pd\n",
    "\n",
    "eda_results = []\n",
    "\n",
    "for pf in parquet_files:\n",
    "    print(f\"\\n--- Profiling file: {pf} ---\")\n",
    "    df = spark.read.parquet(pf)\n",
    "    total_rows = df.count()\n",
    "    review_col = \"review_body\" if \"review_body\" in df.columns else \"reviewText\"\n",
    "    rating_col = \"star_rating\" if \"star_rating\" in df.columns else \"overall\"\n",
    "    \n",
    "    # Null/missing check\n",
    "    null_counts = df.select([df[c].isNull().cast(\"int\").alias(c) for c in df.columns]).groupBy().sum().collect()[0]\n",
    "    print(\"Null counts per column:\", dict(zip(df.columns, null_counts)))\n",
    "    \n",
    "    # Review text length (update here)\n",
    "    review_col = \"review_body\" if \"review_body\" in df.columns else \"reviewText\"\n",
    "    from pyspark.sql.functions import col, length, when\n",
    "    df = df.withColumn(\n",
    "        \"review_length\",\n",
    "        when(col(review_col).isNull(), 0).otherwise(length(col(review_col)))\n",
    "    )\n",
    "    stats = df.select(\"review_length\").describe().toPandas()\n",
    "    print(\"Review length stats:\\n\", stats)\n",
    "    \n",
    "    # Rating distribution (change column name as needed)\n",
    "    rating_col = \"star_rating\" if \"star_rating\" in df.columns else \"overall\"\n",
    "    df.groupBy(rating_col).count().orderBy(\"count\", ascending=False).show()\n",
    "    \n",
    "    # Year (if available)\n",
    "    date_col = \"review_date\" if \"review_date\" in df.columns else (\"date\" if \"date\" in df.columns else None)\n",
    "    if date_col:\n",
    "        from pyspark.sql.functions import year, to_date\n",
    "        df = df.withColumn(\"year\", year(to_date(df[date_col])))\n",
    "        df.groupBy(\"year\").count().orderBy(\"year\").show()\n",
    "    \n",
    "    # Show some short or empty reviews\n",
    "    df.filter(df[\"review_length\"] < 10).select(review_col).show(5, truncate=False)\n",
    "\n",
    "    stats = df.select(\"review_length\").describe().toPandas().set_index('summary').to_dict()['review_length']\n",
    "    rating_counts = df.groupBy(rating_col).count().toPandas().set_index(rating_col).to_dict()['count']\n",
    "    \n",
    "    # Get years present\n",
    "    date_col = \"review_date\" if \"review_date\" in df.columns else (\"date\" if \"date\" in df.columns else None)\n",
    "    if date_col:\n",
    "        from pyspark.sql.functions import year, to_date\n",
    "        years = df.withColumn(\"year\", year(to_date(df[date_col]))).groupBy(\"year\").count().toPandas()\n",
    "    else:\n",
    "        years = None\n",
    "    \n",
    "    # Store summary\n",
    "    eda_results.append({\n",
    "        \"file\": pf,\n",
    "        \"total_rows\": total_rows,\n",
    "        \"mean_length\": float(stats.get(\"mean\", 0)),\n",
    "        \"std_length\": float(stats.get(\"stddev\", 0)),\n",
    "        \"min_length\": float(stats.get(\"min\", 0)),\n",
    "        \"max_length\": float(stats.get(\"max\", 0)),\n",
    "        \"rating_counts\": rating_counts,\n",
    "        \"year_counts\": years.to_dict() if years is not None else None,\n",
    "    })\n",
    "\n",
    "# Convert results to Pandas DataFrame\n",
    "eda_df = pd.DataFrame(eda_results)"
   ]
  },
  {
   "cell_type": "code",
   "execution_count": 16,
   "id": "fd662e2c",
   "metadata": {},
   "outputs": [],
   "source": [
    "def stringify_dict_keys(d):\n",
    "    if isinstance(d, dict):\n",
    "        return {str(k): stringify_dict_keys(v) for k, v in d.items()}\n",
    "    elif isinstance(d, list):\n",
    "        return [stringify_dict_keys(x) for x in d]\n",
    "    return d\n",
    "\n",
    "for col in [\"rating_counts\", \"year_counts\"]:\n",
    "    eda_df[col] = eda_df[col].apply(stringify_dict_keys)"
   ]
  },
  {
   "cell_type": "code",
   "execution_count": 22,
   "id": "27c64ec8",
   "metadata": {},
   "outputs": [],
   "source": [
    "    \n",
    "eda_df.to_parquet(\"../data/processed/EDA_summary.parquet\", index=False)"
   ]
  },
  {
   "cell_type": "code",
   "execution_count": 18,
   "id": "b419a75a",
   "metadata": {},
   "outputs": [
    {
     "data": {
      "text/html": [
       "<div>\n",
       "<style scoped>\n",
       "    .dataframe tbody tr th:only-of-type {\n",
       "        vertical-align: middle;\n",
       "    }\n",
       "\n",
       "    .dataframe tbody tr th {\n",
       "        vertical-align: top;\n",
       "    }\n",
       "\n",
       "    .dataframe thead th {\n",
       "        text-align: right;\n",
       "    }\n",
       "</style>\n",
       "<table border=\"1\" class=\"dataframe\">\n",
       "  <thead>\n",
       "    <tr style=\"text-align: right;\">\n",
       "      <th></th>\n",
       "      <th>file</th>\n",
       "      <th>total_rows</th>\n",
       "      <th>mean_length</th>\n",
       "      <th>std_length</th>\n",
       "      <th>min_length</th>\n",
       "      <th>max_length</th>\n",
       "      <th>rating_counts</th>\n",
       "      <th>year_counts</th>\n",
       "    </tr>\n",
       "  </thead>\n",
       "  <tbody>\n",
       "    <tr>\n",
       "      <th>0</th>\n",
       "      <td>../data/raw/Lawn_and_Garden_v1_00/amazon_us_re...</td>\n",
       "      <td>372288</td>\n",
       "      <td>510.014432</td>\n",
       "      <td>628.001557</td>\n",
       "      <td>1.0</td>\n",
       "      <td>47045.0</td>\n",
       "      <td>{'1': 55203, '3': 29782, '5': 198566, '4': 653...</td>\n",
       "      <td>{'year': {'0': 2012, '1': 2011, '2': 2010, '3'...</td>\n",
       "    </tr>\n",
       "    <tr>\n",
       "      <th>1</th>\n",
       "      <td>../data/raw/Music_v1_00/amazon_us_reviews-trai...</td>\n",
       "      <td>513000</td>\n",
       "      <td>803.091273</td>\n",
       "      <td>795.990170</td>\n",
       "      <td>1.0</td>\n",
       "      <td>40285.0</td>\n",
       "      <td>{'1': 24498, '3': 35537, '5': 336202, '4': 968...</td>\n",
       "      <td>{'year': {'0': 2003, '1': 2002, '2': 2001}, 'c...</td>\n",
       "    </tr>\n",
       "    <tr>\n",
       "      <th>2</th>\n",
       "      <td>../data/raw/Outdoors_v1_00/amazon_us_reviews-t...</td>\n",
       "      <td>236401</td>\n",
       "      <td>528.202093</td>\n",
       "      <td>615.400071</td>\n",
       "      <td>2.0</td>\n",
       "      <td>22533.0</td>\n",
       "      <td>{'1': 20017, '3': 19783, '5': 131589, '4': 520...</td>\n",
       "      <td>{'year': {'0': 2012, '1': 2011, '2': 2010, '3'...</td>\n",
       "    </tr>\n",
       "    <tr>\n",
       "      <th>3</th>\n",
       "      <td>../data/raw/Shoes_v1_00/amazon_us_reviews-trai...</td>\n",
       "      <td>1343000</td>\n",
       "      <td>180.775835</td>\n",
       "      <td>229.907320</td>\n",
       "      <td>0.0</td>\n",
       "      <td>21287.0</td>\n",
       "      <td>{'1': 65263, '3': 125674, '5': 816945, '4': 26...</td>\n",
       "      <td>{'year': {'0': 2015, '1': 2014}, 'count': {'0'...</td>\n",
       "    </tr>\n",
       "    <tr>\n",
       "      <th>4</th>\n",
       "      <td>../data/raw/Video_Games_v1_00/amazon_us_review...</td>\n",
       "      <td>262997</td>\n",
       "      <td>915.467119</td>\n",
       "      <td>1115.511343</td>\n",
       "      <td>0.0</td>\n",
       "      <td>37039.0</td>\n",
       "      <td>{'1': 28761, '3': 25633, '5': 131909, '4': 589...</td>\n",
       "      <td>{'year': {'0': 2007, '1': 2006, '2': 2005, '3'...</td>\n",
       "    </tr>\n",
       "  </tbody>\n",
       "</table>\n",
       "</div>"
      ],
      "text/plain": [
       "                                                file  total_rows  mean_length  \\\n",
       "0  ../data/raw/Lawn_and_Garden_v1_00/amazon_us_re...      372288   510.014432   \n",
       "1  ../data/raw/Music_v1_00/amazon_us_reviews-trai...      513000   803.091273   \n",
       "2  ../data/raw/Outdoors_v1_00/amazon_us_reviews-t...      236401   528.202093   \n",
       "3  ../data/raw/Shoes_v1_00/amazon_us_reviews-trai...     1343000   180.775835   \n",
       "4  ../data/raw/Video_Games_v1_00/amazon_us_review...      262997   915.467119   \n",
       "\n",
       "    std_length  min_length  max_length  \\\n",
       "0   628.001557         1.0     47045.0   \n",
       "1   795.990170         1.0     40285.0   \n",
       "2   615.400071         2.0     22533.0   \n",
       "3   229.907320         0.0     21287.0   \n",
       "4  1115.511343         0.0     37039.0   \n",
       "\n",
       "                                       rating_counts  \\\n",
       "0  {'1': 55203, '3': 29782, '5': 198566, '4': 653...   \n",
       "1  {'1': 24498, '3': 35537, '5': 336202, '4': 968...   \n",
       "2  {'1': 20017, '3': 19783, '5': 131589, '4': 520...   \n",
       "3  {'1': 65263, '3': 125674, '5': 816945, '4': 26...   \n",
       "4  {'1': 28761, '3': 25633, '5': 131909, '4': 589...   \n",
       "\n",
       "                                         year_counts  \n",
       "0  {'year': {'0': 2012, '1': 2011, '2': 2010, '3'...  \n",
       "1  {'year': {'0': 2003, '1': 2002, '2': 2001}, 'c...  \n",
       "2  {'year': {'0': 2012, '1': 2011, '2': 2010, '3'...  \n",
       "3  {'year': {'0': 2015, '1': 2014}, 'count': {'0'...  \n",
       "4  {'year': {'0': 2007, '1': 2006, '2': 2005, '3'...  "
      ]
     },
     "execution_count": 18,
     "metadata": {},
     "output_type": "execute_result"
    }
   ],
   "source": [
    "eda_df.head()"
   ]
  },
  {
   "cell_type": "code",
   "execution_count": 19,
   "id": "7d581e13",
   "metadata": {},
   "outputs": [
    {
     "data": {
      "image/png": "[encoded data removed]",
      "text/plain": [
       "<Figure size 800x400 with 1 Axes>"
      ]
     },
     "metadata": {},
     "output_type": "display_data"
    },
    {
     "data": {
      "image/png": "[encoded data removed]",
      "text/plain": [
       "<Figure size 640x480 with 1 Axes>"
      ]
     },
     "metadata": {},
     "output_type": "display_data"
    }
   ],
   "source": [
    "import matplotlib.pyplot as plt\n",
    "import pandas as pd\n",
    "\n",
    "# 1. Histogram of mean review lengths\n",
    "plt.figure(figsize=(8, 4))\n",
    "eda_df['mean_length'].hist(bins=30)\n",
    "plt.title(\"Distribution of Mean Review Lengths by Category\")\n",
    "plt.xlabel(\"Mean Review Length (chars)\")\n",
    "plt.ylabel(\"Count of Categories\")\n",
    "plt.show()\n",
    "\n",
    "\n",
    "# 2. Bar chart of review counts by star rating (example with first row's dict)\n",
    "import ast\n",
    "rcounts = eda_df['rating_counts']\n",
    "# Explode the dicts into a DataFrame\n",
    "rating_df = pd.DataFrame(list(rcounts))\n",
    "# Optionally fill missing star ratings with 0\n",
    "rating_df = rating_df.fillna(0)\n",
    "\n",
    "# Sum across all categories to get total counts per star rating\n",
    "rating_totals = rating_df.sum()\n",
    "rating_totals = rating_totals.sort_index()  # Sort by star rating\n",
    "\n",
    "# Plot\n",
    "rating_totals.plot(kind='bar')\n",
    "plt.xlabel(\"Star Rating\")\n",
    "plt.ylabel(\"Total Reviews\")\n",
    "plt.show()"
   ]
  },
  {
   "cell_type": "markdown",
   "id": "c378ccf2",
   "metadata": {},
   "source": [
    "# Amazon US Reviews Dataset – EDA Summary\n",
    "\n",
    "## Dataset Overview\n",
    "\n",
    "- **Source**: polinaeterna/amazon_us_reviews (Hugging Face)\n",
    "- **Total size downloaded**: ~47 GB (Parquet format, ~41 product categories)\n",
    "- **Typical schema** (all non-null):  \n",
    "  - marketplace, customer_id, review_id, product_id, product_parent, product_title, product_category, star_rating, helpful_votes, total_votes, vine, verified_purchase, review_headline, review_body, review_date\n",
    "\n",
    "---\n",
    "\n",
    "## Key EDA Insights\n",
    "\n",
    "### 1. Data Integrity\n",
    "\n",
    "- **No missing values** found in any columns across sampled files/categories.\n",
    "- Data types are consistent: `review_body` and `product_title` are text; `star_rating` is integer; `review_date` is string.\n",
    "\n",
    "---\n",
    "\n",
    "### 2. Review Lengths\n",
    "\n",
    "- **Mean review length** (characters) varies widely by category:\n",
    "    - *Shortest means*: Apparel, Shoes, Toys, Beauty, Mobile Apps (~150–200 chars)\n",
    "    - *Longest means*: Books, Video/DVD, Home Entertainment, Video Games, Music (~800–1100 chars)\n",
    "- **Typical spread**: Most categories center between 150–600 chars mean, with a long tail of higher averages for text-heavy domains (Books, Movies).\n",
    "\n",
    "---\n",
    "\n",
    "### 3. Ratings Distribution\n",
    "\n",
    "- **5-star reviews** dominate every category—accounting for 40–60% of reviews in most.\n",
    "- Distribution is always skewed positive:\n",
    "    - 4-star reviews typically 15–25%\n",
    "    - 1-star reviews 5–15%\n",
    "- **Example**:  \n",
    "  | Star | Typical %  |\n",
    "  |------|------------|\n",
    "  | 5    | 45–60%     |\n",
    "  | 4    | 18–25%     |\n",
    "  | 3    | 8–15%      |\n",
    "  | 2    | 5–10%      |\n",
    "  | 1    | 8–12%      |\n",
    "\n",
    "---\n",
    "\n",
    "### 4. Yearly Review Trends\n",
    "\n",
    "- **Review volume spikes** between 2013–2015 for most categories.\n",
    "- Oldest reviews: 1995 (Video), 1998–2001 (many categories).\n",
    "- Review counts for some categories increase >10x between 2011 and 2015, reflecting Amazon’s growth.\n",
    "\n",
    "---\n",
    "\n",
    "### 5. Examples of Short Reviews\n",
    "\n",
    "- Many reviews are **extremely short** (\"Good\", \"Nice\", \"Loved it\", \"Awesome\", etc.).\n",
    "-  Short reviews (e.g., \"ok\", \"good\", \"👍\") are valid feedback and should **not** be filtered. Only empty or clearly junk reviews (e.g., \"\", \".\", \"asdf\") are candidates for removal in data cleaning.\n",
    "\n",
    "---\n",
    "\n",
    "## Visual Summaries\n",
    "\n",
    "- **Mean Review Length by Category**: Most categories cluster around 200–500 chars, a handful are outliers above 800 chars.\n",
    "- **Aggregate Rating Distribution**: Overwhelmingly positive, with 5-star reviews as the largest group across all files.\n",
    "\n",
    "---\n",
    "\n",
    "## Takeaways\n",
    "\n",
    "- **Dataset is extremely clean** (no nulls, no obvious schema drift).\n",
    "- **High class imbalance**: Any downstream modeling (e.g., classification, QA) will need to account for the positive skew in ratings.\n",
    "- **Review text length**: Wide variability—important for both embedding size planning and for filtering \"junk\" reviews.\n",
    "- **Yearly trends**: Useful for time-based analysis, drift studies, or QA over time.\n",
    "\n",
    "---\n",
    "\n",
    "**Next Steps:**  \n",
    "- Review cleaning logic for very short/empty/junk reviews.\n",
    "- Sample representative rows for manual inspection (especially for QA evals).\n",
    "- Select balanced subsets for rapid prototyping of RAG and recommendation flows.\n",
    "\n",
    "---"
   ]
  },
  {
   "cell_type": "markdown",
   "id": "19fb749b",
   "metadata": {},
   "source": []
  }
 ],
 "metadata": {
  "kernelspec": {
   "display_name": ".venv",
   "language": "python",
   "name": "python3"
  },
  "language_info": {
   "codemirror_mode": {
    "name": "ipython",
    "version": 3
   },
   "file_extension": ".py",
   "mimetype": "text/x-python",
   "name": "python",
   "nbconvert_exporter": "python",
   "pygments_lexer": "ipython3",
   "version": "3.12.7"
  }
 },
 "nbformat": 4,
 "nbformat_minor": 5
}
