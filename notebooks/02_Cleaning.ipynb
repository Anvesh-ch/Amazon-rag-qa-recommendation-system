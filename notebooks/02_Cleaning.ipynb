{
 "cells": [
  {
   "cell_type": "markdown",
   "id": "1a6bb3c5",
   "metadata": {},
   "source": [
    "# Amazon US Reviews Dataset – Cleaning & Validation\n",
    "\n",
    "## Objectives\n",
    "- Identify and remove only reviews that are *truly empty* or *junk*.\n",
    "- Retain all short, valid reviews.\n",
    "- Log counts and reasons for each removal for auditability.\n",
    "\n",
    "## Key Cleaning Rules\n",
    "- Remove if: review is empty, only whitespace, or non-language (e.g., \".\", \"asdf\", \"!!!\" by itself).\n",
    "- Retain if: short but meaningful (e.g., \"ok\", \"good\", \"5 stars\", emojis, single word adjectives).\n",
    "- Optionally deduplicate exact review text per (product_id, customer_id).\n",
    "\n",
    "## Cleaning Pipeline Steps\n",
    "1. Flag empty/whitespace-only reviews.\n",
    "2. Flag likely junk (regex: single punctuation, repeated chars, random keyboard mashes).\n",
    "3. (Optional) Deduplicate by review_id or (product_id, customer_id, review_body).\n",
    "4. Summarize number and percent removed in each category."
   ]
  },
  {
   "cell_type": "code",
   "execution_count": null,
   "id": "07874ae5",
   "metadata": {},
   "outputs": [],
   "source": [
    "import os\n",
    "import subprocess\n",
    "\n",
    "java_home = subprocess.check_output(\n",
    "    \"/usr/libexec/java_home -v 17\", shell=True, text=True\n",
    ").strip()\n",
    "os.environ[\"JAVA_HOME\"] = java_home\n",
    "os.environ[\"PATH\"] = f\"{java_home}/bin:\" + os.environ[\"PATH\"]\n",
    "print(\"[JAVA CONFIGURED] JAVA_HOME set to:\", os.environ[\"JAVA_HOME\"])\n"
   ]
  },
  {
   "cell_type": "code",
   "execution_count": null,
   "id": "48e4ecd6",
   "metadata": {},
   "outputs": [],
   "source": [
    "import os\n",
    "os.environ[\"PYSPARK_SUBMIT_ARGS\"] = \"--driver-memory 8G --executor-memory 8G pyspark-shell\"\n",
    "\n",
    "import glob\n",
    "from pyspark.sql import SparkSession\n",
    "import pyspark.sql.functions as F\n",
    "\n",
    "spark = SparkSession.builder.appName(\"Amazon Review Cleaning\").getOrCreate()\n",
    "raw_root = \"../data/raw\"\n",
    "processed_root = \"../data/processed\"\n",
    "parquet_files = glob.glob(os.path.join(raw_root, \"**/*.parquet\"), recursive=True)\n",
    "print(f\"Found {len(parquet_files)} raw Parquet files.\")\n",
    "\n",
    "junk_regex = r\"^(?:[.!?*\\s]{1,5}|asdf|qwerty|lorem ipsum)$\"\n",
    "\n",
    "for pf in parquet_files:\n",
    "    print(f\"Cleaning: {pf}\")\n",
    "    df = spark.read.parquet(pf)\n",
    "    orig_count = df.count()\n",
    "    df_clean = df.filter(F.length(F.trim(F.col(\"review_body\"))) > 0)\n",
    "    df_clean = df_clean.filter(~F.lower(F.trim(F.col(\"review_body\"))).rlike(junk_regex))\n",
    "    # Split into more partitions for large files\n",
    "    df_clean = df_clean.repartition(16)\n",
    "    clean_count = df_clean.count()\n",
    "    removed = orig_count - clean_count\n",
    "    print(f\"Rows before: {orig_count}, after cleaning: {clean_count}, removed: {removed} ({removed/orig_count:.2%})\")\n",
    "    rel_path = os.path.relpath(pf, raw_root)\n",
    "    out_path = os.path.join(processed_root, rel_path)\n",
    "    out_dir = os.path.dirname(out_path)\n",
    "    os.makedirs(out_dir, exist_ok=True)\n",
    "    df_clean.write.mode(\"overwrite\").option(\"compression\", \"snappy\").parquet(out_path)\n",
    "    print(f\"Saved cleaned file: {out_path}\")\n",
    "\n",
    "spark.stop()\n",
    "print(\"Batch cleaning complete.\")"
   ]
  },
  {
   "cell_type": "code",
   "execution_count": null,
   "id": "bf1d841d",
   "metadata": {},
   "outputs": [],
   "source": []
  }
 ],
 "metadata": {
  "kernelspec": {
   "display_name": ".venv",
   "language": "python",
   "name": "python3"
  },
  "language_info": {
   "codemirror_mode": {
    "name": "ipython",
    "version": 3
   },
   "file_extension": ".py",
   "mimetype": "text/x-python",
   "name": "python",
   "nbconvert_exporter": "python",
   "pygments_lexer": "ipython3",
   "version": "3.12.7"
  }
 },
 "nbformat": 4,
 "nbformat_minor": 5
}
